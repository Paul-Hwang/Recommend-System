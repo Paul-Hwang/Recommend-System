{
 "cells": [
  {
   "cell_type": "code",
   "execution_count": 19,
   "metadata": {},
   "outputs": [],
   "source": [
    "import pandas as pd\n",
    "from sklearn.preprocessing import LabelEncoder\n",
    "from deepctr.models import DCN, DeepFM, xDeepFM\n",
    "from deepctr.inputs import SparseFeat, get_feature_names\n",
    "from sklearn.metrics import mean_squared_error, log_loss\n",
    "from sklearn.model_selection import train_test_split"
   ]
  },
  {
   "cell_type": "code",
   "execution_count": 2,
   "metadata": {},
   "outputs": [],
   "source": [
    "data = pd.read_csv('sub_train_f.csv', dtype={'id':str}, index_col=None)"
   ]
  },
  {
   "cell_type": "code",
   "execution_count": 4,
   "metadata": {},
   "outputs": [],
   "source": [
    "sparse_features = ['C1', 'banner_pos', 'site_domain', 'site_id','site_category','app_id','app_category', 'device_type', 'device_conn_type','C14', 'C15','C16']\n",
    "target = ['click']"
   ]
  },
  {
   "cell_type": "code",
   "execution_count": 5,
   "metadata": {},
   "outputs": [],
   "source": [
    "# 对特征标签进行编码\n",
    "for fea in sparse_features:\n",
    "    lbe = LabelEncoder()\n",
    "    data[fea] = lbe.fit_transform(data[fea])"
   ]
  },
  {
   "cell_type": "code",
   "execution_count": 7,
   "metadata": {},
   "outputs": [],
   "source": [
    "# 计算每个特征中不同特征值的个数\n",
    "fixlen_feature_cols = [SparseFeat(fea, data[fea].nunique()) for fea in sparse_features]\n",
    "linear_feature_cols = fixlen_feature_cols\n",
    "dnn_feature_cols = fixlen_feature_cols\n",
    "feature_names = get_feature_names(linear_feature_cols + dnn_feature_cols)"
   ]
  },
  {
   "cell_type": "code",
   "execution_count": 11,
   "metadata": {},
   "outputs": [],
   "source": [
    "train, test = train_test_split(data, test_size=0.2)\n",
    "train_model_input = {name:train[name].values for name in feature_names}\n",
    "test_model_input = {name:test[name].values for name in feature_names}"
   ]
  },
  {
   "cell_type": "markdown",
   "metadata": {},
   "source": [
    "# DCN"
   ]
  },
  {
   "cell_type": "code",
   "execution_count": 15,
   "metadata": {},
   "outputs": [
    {
     "name": "stdout",
     "output_type": "stream",
     "text": [
      "Train on 1280000 samples, validate on 320000 samples\n",
      "Epoch 1/5\n"
     ]
    },
    {
     "name": "stderr",
     "output_type": "stream",
     "text": [
      "/Users/paulhwang/anaconda3/envs/python3/lib/python3.7/site-packages/tensorflow_core/python/framework/indexed_slices.py:433: UserWarning: Converting sparse IndexedSlices to a dense Tensor of unknown shape. This may consume a large amount of memory.\n",
      "  \"Converting sparse IndexedSlices to a dense Tensor of unknown shape. \"\n",
      "/Users/paulhwang/anaconda3/envs/python3/lib/python3.7/site-packages/tensorflow_core/python/framework/indexed_slices.py:433: UserWarning: Converting sparse IndexedSlices to a dense Tensor of unknown shape. This may consume a large amount of memory.\n",
      "  \"Converting sparse IndexedSlices to a dense Tensor of unknown shape. \"\n"
     ]
    },
    {
     "name": "stdout",
     "output_type": "stream",
     "text": [
      "1280000/1280000 [==============================] - 16s 13us/sample - loss: 0.4046 - binary_crossentropy: 0.4044 - val_loss: 0.4007 - val_binary_crossentropy: 0.4005\n",
      "Epoch 2/5\n",
      "1280000/1280000 [==============================] - 15s 11us/sample - loss: 0.4017 - binary_crossentropy: 0.4014 - val_loss: 0.4003 - val_binary_crossentropy: 0.4000\n",
      "Epoch 3/5\n",
      "1280000/1280000 [==============================] - 15s 12us/sample - loss: 0.4010 - binary_crossentropy: 0.4007 - val_loss: 0.3996 - val_binary_crossentropy: 0.3992\n",
      "Epoch 4/5\n",
      "1280000/1280000 [==============================] - 15s 11us/sample - loss: 0.4006 - binary_crossentropy: 0.4002 - val_loss: 0.3996 - val_binary_crossentropy: 0.3992\n",
      "Epoch 5/5\n",
      "1280000/1280000 [==============================] - 15s 12us/sample - loss: 0.4004 - binary_crossentropy: 0.3999 - val_loss: 0.3993 - val_binary_crossentropy: 0.3989\n"
     ]
    }
   ],
   "source": [
    "model = DCN(linear_feature_cols, dnn_feature_cols, task='binary')\n",
    "model.compile('adam', 'binary_crossentropy', metrics=['binary_crossentropy'], )\n",
    "hist = model.fit(train_model_input, train[target].values, batch_size=256, epochs=5, verbose=True, validation_split=0.2, )\n",
    "pred = model.predict(test_model_input, batch_size=256)"
   ]
  },
  {
   "cell_type": "code",
   "execution_count": 18,
   "metadata": {},
   "outputs": [
    {
     "name": "stdout",
     "output_type": "stream",
     "text": [
      "test RMSE 0.3524202037341219\n"
     ]
    }
   ],
   "source": [
    "mse = round(mean_squared_error(test[target].values, pred), 4)\n",
    "rmse = mse ** 0.5\n",
    "print(\"test RMSE\", rmse)"
   ]
  },
  {
   "cell_type": "code",
   "execution_count": 21,
   "metadata": {},
   "outputs": [
    {
     "name": "stdout",
     "output_type": "stream",
     "text": [
      "LogLoss 0.3982785796710712\n"
     ]
    }
   ],
   "source": [
    "score = log_loss(test[target].values, pred)\n",
    "print(\"LogLoss\", score)"
   ]
  },
  {
   "cell_type": "markdown",
   "metadata": {},
   "source": [
    "# DeepFM"
   ]
  },
  {
   "cell_type": "code",
   "execution_count": 22,
   "metadata": {},
   "outputs": [
    {
     "name": "stdout",
     "output_type": "stream",
     "text": [
      "Train on 1280000 samples, validate on 320000 samples\n",
      "Epoch 1/5\n"
     ]
    },
    {
     "name": "stderr",
     "output_type": "stream",
     "text": [
      "/Users/paulhwang/anaconda3/envs/python3/lib/python3.7/site-packages/tensorflow_core/python/framework/indexed_slices.py:433: UserWarning: Converting sparse IndexedSlices to a dense Tensor of unknown shape. This may consume a large amount of memory.\n",
      "  \"Converting sparse IndexedSlices to a dense Tensor of unknown shape. \"\n",
      "/Users/paulhwang/anaconda3/envs/python3/lib/python3.7/site-packages/tensorflow_core/python/framework/indexed_slices.py:433: UserWarning: Converting sparse IndexedSlices to a dense Tensor of unknown shape. This may consume a large amount of memory.\n",
      "  \"Converting sparse IndexedSlices to a dense Tensor of unknown shape. \"\n"
     ]
    },
    {
     "name": "stdout",
     "output_type": "stream",
     "text": [
      "1280000/1280000 [==============================] - 15s 12us/sample - loss: 0.4047 - binary_crossentropy: 0.4045 - val_loss: 0.4012 - val_binary_crossentropy: 0.4010\n",
      "Epoch 2/5\n",
      "1280000/1280000 [==============================] - 14s 11us/sample - loss: 0.4016 - binary_crossentropy: 0.4014 - val_loss: 0.4001 - val_binary_crossentropy: 0.3998\n",
      "Epoch 3/5\n",
      "1280000/1280000 [==============================] - 14s 11us/sample - loss: 0.4010 - binary_crossentropy: 0.4006 - val_loss: 0.3998 - val_binary_crossentropy: 0.3995\n",
      "Epoch 4/5\n",
      "1280000/1280000 [==============================] - 14s 11us/sample - loss: 0.4005 - binary_crossentropy: 0.4001 - val_loss: 0.3993 - val_binary_crossentropy: 0.3989\n",
      "Epoch 5/5\n",
      "1280000/1280000 [==============================] - 14s 11us/sample - loss: 0.4002 - binary_crossentropy: 0.3998 - val_loss: 0.3995 - val_binary_crossentropy: 0.3990\n"
     ]
    }
   ],
   "source": [
    "model = DeepFM(linear_feature_cols, dnn_feature_cols, task='binary')\n",
    "model.compile('adam', 'binary_crossentropy', metrics=['binary_crossentropy'], )\n",
    "hist = model.fit(train_model_input, train[target].values, batch_size=256, epochs=5, verbose=True, validation_split=0.2, )\n",
    "pred = model.predict(test_model_input, batch_size=256)"
   ]
  },
  {
   "cell_type": "code",
   "execution_count": 23,
   "metadata": {},
   "outputs": [
    {
     "name": "stdout",
     "output_type": "stream",
     "text": [
      "test RMSE 0.35256205127608387\n"
     ]
    }
   ],
   "source": [
    "mse = round(mean_squared_error(test[target].values, pred), 4)\n",
    "rmse = mse ** 0.5\n",
    "print(\"test RMSE\", rmse)"
   ]
  },
  {
   "cell_type": "code",
   "execution_count": 24,
   "metadata": {},
   "outputs": [
    {
     "name": "stdout",
     "output_type": "stream",
     "text": [
      "LogLoss 0.3985431373947975\n"
     ]
    }
   ],
   "source": [
    "score = log_loss(test[target].values, pred)\n",
    "print(\"LogLoss\", score)"
   ]
  },
  {
   "cell_type": "markdown",
   "metadata": {},
   "source": [
    "# xDeepFM"
   ]
  },
  {
   "cell_type": "code",
   "execution_count": 25,
   "metadata": {},
   "outputs": [
    {
     "name": "stdout",
     "output_type": "stream",
     "text": [
      "Train on 1280000 samples, validate on 320000 samples\n",
      "Epoch 1/5\n"
     ]
    },
    {
     "name": "stderr",
     "output_type": "stream",
     "text": [
      "/Users/paulhwang/anaconda3/envs/python3/lib/python3.7/site-packages/tensorflow_core/python/framework/indexed_slices.py:433: UserWarning: Converting sparse IndexedSlices to a dense Tensor of unknown shape. This may consume a large amount of memory.\n",
      "  \"Converting sparse IndexedSlices to a dense Tensor of unknown shape. \"\n",
      "/Users/paulhwang/anaconda3/envs/python3/lib/python3.7/site-packages/tensorflow_core/python/framework/indexed_slices.py:433: UserWarning: Converting sparse IndexedSlices to a dense Tensor of unknown shape. This may consume a large amount of memory.\n",
      "  \"Converting sparse IndexedSlices to a dense Tensor of unknown shape. \"\n"
     ]
    },
    {
     "name": "stdout",
     "output_type": "stream",
     "text": [
      "1280000/1280000 [==============================] - 76s 60us/sample - loss: 0.4043 - binary_crossentropy: 0.4041 - val_loss: 0.4008 - val_binary_crossentropy: 0.4006\n",
      "Epoch 2/5\n",
      "1280000/1280000 [==============================] - 80s 62us/sample - loss: 0.4017 - binary_crossentropy: 0.4014 - val_loss: 0.4014 - val_binary_crossentropy: 0.4011\n",
      "Epoch 3/5\n",
      "1280000/1280000 [==============================] - 76s 60us/sample - loss: 0.4010 - binary_crossentropy: 0.4006 - val_loss: 0.3994 - val_binary_crossentropy: 0.3990\n",
      "Epoch 4/5\n",
      "1280000/1280000 [==============================] - 77s 60us/sample - loss: 0.4005 - binary_crossentropy: 0.4001 - val_loss: 0.3993 - val_binary_crossentropy: 0.3989\n",
      "Epoch 5/5\n",
      "1280000/1280000 [==============================] - 79s 61us/sample - loss: 0.4002 - binary_crossentropy: 0.3998 - val_loss: 0.3991 - val_binary_crossentropy: 0.3987\n"
     ]
    }
   ],
   "source": [
    "model = xDeepFM(linear_feature_cols, dnn_feature_cols, task='binary')\n",
    "model.compile('adam', 'binary_crossentropy', metrics=['binary_crossentropy'], )\n",
    "hist = model.fit(train_model_input, train[target].values, batch_size=256, epochs=5, verbose=True, validation_split=0.2, )\n",
    "pred = model.predict(test_model_input, batch_size=256)"
   ]
  },
  {
   "cell_type": "code",
   "execution_count": 26,
   "metadata": {},
   "outputs": [
    {
     "name": "stdout",
     "output_type": "stream",
     "text": [
      "test RMSE 0.3524202037341219\n"
     ]
    }
   ],
   "source": [
    "mse = round(mean_squared_error(test[target].values, pred), 4)\n",
    "rmse = mse ** 0.5\n",
    "print(\"test RMSE\", rmse)"
   ]
  },
  {
   "cell_type": "code",
   "execution_count": 27,
   "metadata": {},
   "outputs": [
    {
     "name": "stdout",
     "output_type": "stream",
     "text": [
      "LogLoss 0.3981985204897241\n"
     ]
    }
   ],
   "source": [
    "score = log_loss(test[target].values, pred)\n",
    "print(\"LogLoss\", score)"
   ]
  },
  {
   "cell_type": "code",
   "execution_count": null,
   "metadata": {},
   "outputs": [],
   "source": []
  }
 ],
 "metadata": {
  "kernelspec": {
   "display_name": "Python 3",
   "language": "python",
   "name": "python3"
  },
  "language_info": {
   "codemirror_mode": {
    "name": "ipython",
    "version": 3
   },
   "file_extension": ".py",
   "mimetype": "text/x-python",
   "name": "python",
   "nbconvert_exporter": "python",
   "pygments_lexer": "ipython3",
   "version": "3.7.4"
  }
 },
 "nbformat": 4,
 "nbformat_minor": 4
}
