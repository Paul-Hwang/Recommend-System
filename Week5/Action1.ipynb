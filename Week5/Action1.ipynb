{
 "cells": [
  {
   "cell_type": "code",
   "execution_count": 48,
   "metadata": {},
   "outputs": [],
   "source": [
    "import os\n",
    "import pandas as pd\n",
    "import numpy as np\n",
    "import matplotlib.pyplot as plt\n",
    "from surprise import Dataset, Reader, SVD, SlopeOne, KNNBasic, accuracy, BaselineOnly, KNNBaseline, SVDpp\n",
    "from surprise.model_selection import KFold\n",
    "from sklearn.metrics import mean_squared_error"
   ]
  },
  {
   "cell_type": "code",
   "execution_count": 3,
   "metadata": {},
   "outputs": [],
   "source": [
    "# 加载数据\n",
    "df1 = pd.read_csv('D:/GitHub/netflix/combined_data_1.txt', header=None, names=['user_id', 'rating', 'timestamp'])\n",
    "df2 = pd.read_csv('D:/GitHub/netflix/combined_data_2.txt', header=None, names=['user_id', 'rating', 'timestamp'])\n",
    "df3 = pd.read_csv('D:/GitHub/netflix/combined_data_3.txt', header=None, names=['user_id', 'rating', 'timestamp'])\n",
    "df4 = pd.read_csv('D:/GitHub/netflix/combined_data_4.txt', header=None, names=['user_id', 'rating', 'timestamp'])\n",
    "if not os.path.exists(\"D:\\code\\probe_with_rating.csv\"):\n",
    "    probe = pd.read_csv('D:/GitHub/netflix/probe.txt', header=None, names=['user_id'])"
   ]
  },
  {
   "cell_type": "markdown",
   "metadata": {},
   "source": [
    "<font color=#FF0000 >**由于数据集合并后再处理的处理时间过长，因此将4个数据集（df1, df2, df3, df4）预处理后再合并成df**</font>"
   ]
  },
  {
   "cell_type": "code",
   "execution_count": 4,
   "metadata": {},
   "outputs": [],
   "source": [
    "movie_id = 1\n",
    "# 四个数据集\n",
    "for i in range(1,5):\n",
    "    # 通过提取rating为空值的项组成电影id的dataframe\n",
    "    exec('df%d_movieid = df%d[df%d[\"rating\"].isnull()]' % (i,i,i))\n",
    "    exec('df%d_movieid.reset_index(inplace=True)' % i)\n",
    "    # 尝试过将电影id作为新的列合并到数据集df，但运算量巨大；所以用numpy的array导入电影id\n",
    "    movie_np = []    \n",
    "    # 将电影id对应的index减去上一个id对应的index再加1就是这部电影的评分数量(j-k-1)\n",
    "    xx='''\n",
    "for j,k in zip(df%d_movieid['index'][1:], df%d_movieid['index'][:-1]):\n",
    "    temp = np.full((1,j-k-1), movie_id)\n",
    "    movie_np = np.append(movie_np, temp)\n",
    "    movie_id += 1''' % (i,i)\n",
    "    exec(xx)\n",
    "    # for循环没有将最后一部电影的数据加到movie_np当中，因此需要另外加上\n",
    "    exec('last = np.full((1, len(df%d)-df%d_movieid.iloc[-1][\"index\"]-1), movie_id)' % (i,i))\n",
    "    movie_np = np.append(movie_np, last)\n",
    "    # 下个数据集的第一个电影id\n",
    "    movie_id += 1\n",
    "    # 在数据集中去掉电影id的行\n",
    "    exec('df%d_movieid.set_index(keys=\"index\", inplace=True)' % i)\n",
    "    exec('df%d.drop(df%d_movieid.index, inplace=True)' % (i,i))\n",
    "    # 将电影id作为新的一列加到数据集中\n",
    "    exec('df%d[\"movie_id\"] = movie_np.astype(\"int\")' % i)\n",
    "    exec('df%d[\"user_id\"] = df%d[\"user_id\"].astype(\"int\")' % (i,i))"
   ]
  },
  {
   "cell_type": "code",
   "execution_count": 5,
   "metadata": {},
   "outputs": [],
   "source": [
    "df = pd.DataFrame()\n",
    "df = df.append(df1).append(df2).append(df3).append(df4)\n",
    "df.reset_index(drop=True, inplace=True)"
   ]
  },
  {
   "cell_type": "code",
   "execution_count": 6,
   "metadata": {},
   "outputs": [
    {
     "data": {
      "image/png": "[encoded data removed]",
      "text/plain": [
       "<Figure size 720x576 with 1 Axes>"
      ]
     },
     "metadata": {
      "needs_background": "light"
     },
     "output_type": "display_data"
    }
   ],
   "source": [
    "# 评分1-5分的各数量\n",
    "rating_p = df.groupby('rating')['rating'].agg(['count'])\n",
    "# 电影数量\n",
    "movie_num = df['movie_id'].nunique()\n",
    "# 用户数量\n",
    "user_num = df['user_id'].nunique()\n",
    "# 评分的总数量\n",
    "rating_num = df['rating'].count()\n",
    "# 画图\n",
    "ax = rating_p.plot(kind='barh', legend=False, figsize=(10, 8), color='orangered')\n",
    "plt.title('Dataset metadata: %d Movies, %d Users, %d ratings given' % (movie_num, user_num, rating_num), fontsize=18)\n",
    "ax.spines['top'].set_visible(False)\n",
    "ax.spines['right'].set_visible(False)\n",
    "for i in range(5):\n",
    "    ax.text(rating_p.iloc[i][0]/4, i, 'Rating %d: %.0f%%' % (i+1, rating_p.iloc[i]*100/rating_p.sum()[0]), color='white', weight='bold')\n",
    "plt.show()"
   ]
  },
  {
   "cell_type": "markdown",
   "metadata": {},
   "source": [
    "<font color=#FF0000 >**处理probe数据集的数据并从df数据集提取评分**</font>"
   ]
  },
  {
   "cell_type": "code",
   "execution_count": 7,
   "metadata": {},
   "outputs": [],
   "source": [
    "if not os.path.exists(\"D:\\code\\probe_with_rating.csv\"):\n",
    "    probe_c = probe.copy()\n",
    "    # 将movie_id从user_id列中提取出来作为新的一列并将数据中的':'去掉\n",
    "    movie_col = probe[probe['user_id'].str.contains(':')].copy()\n",
    "    movie_col['user_id'] = movie_col['user_id'].str.split(':').copy()\n",
    "    for i in movie_col.index:\n",
    "        movie_col['user_id'][i] = movie_col['user_id'][i][0]\n",
    "    probe_c['movie_id'] = movie_col['user_id'].copy()\n",
    "    # 使用'ffill'方法填充na值\n",
    "    probe_c.fillna(method='ffill', inplace=True)\n",
    "    temp = probe[probe['user_id'].str.contains(':')].index.tolist()\n",
    "    probe_c.drop(probe_c.index[temp], inplace=True)\n",
    "    probe = probe_c.copy()\n",
    "    probe['user_id'] = probe['user_id'].astype('int').copy()\n",
    "    probe['movie_id'] = probe['movie_id'].astype('int').copy()\n",
    "    del temp, probe_c, movie_col\n",
    "    # 重置index\n",
    "    probe.index = list(range(1,len(probe)+1))\n",
    "\n",
    "    # 从数据集中提取probe的评分\n",
    "    probe_with_rating = pd.DataFrame()\n",
    "    for i in range(1, 17771):\n",
    "        df_m = df[df['movie_id']==i].copy()\n",
    "        probe_m = probe[probe['movie_id']==i].copy()\n",
    "        u_list = probe_m['user_id'].tolist()\n",
    "        m_rating = df_m[df_m['user_id'].isin(u_list)]\n",
    "        probe_with_rating = pd.concat([probe_with_rating, m_rating])\n",
    "\n",
    "    # 将结果输出为csv保存，以便下次使用，避免再次长时间处理\n",
    "    probe_with_rating.to_csv('probe_with_rating.csv')"
   ]
  },
  {
   "cell_type": "code",
   "execution_count": 8,
   "metadata": {},
   "outputs": [
    {
     "name": "stderr",
     "output_type": "stream",
     "text": [
      "D:\\Anaconda3\\lib\\site-packages\\IPython\\core\\interactiveshell.py:3058: DtypeWarning: Columns (3) have mixed types.Specify dtype option on import or set low_memory=False.\n",
      "  interactivity=interactivity, compiler=compiler, result=result)\n"
     ]
    }
   ],
   "source": [
    "# 导入保存的带评分的probe数据集\n",
    "if os.path.exists(\"D:\\code\\probe_with_rating.csv\"):\n",
    "    probe_with_rating = pd.read_csv('probe_with_rating.csv')\n",
    "    probe_with_rating.set_index('Unnamed: 0', inplace=True)\n",
    "    probe_with_rating.drop('timestamp', axis=1, inplace=True)\n",
    "    probe_with_rating.columns = ['uid', 'r_ui', 'iid']\n",
    "    probe_with_rating.insert(1,'iid', probe_with_rating.pop('iid'))\n",
    "    probe_with_rating.reset_index(drop=True, inplace=True)"
   ]
  },
  {
   "cell_type": "markdown",
   "metadata": {},
   "source": [
    "<font color=#FF0000 >**尝试对整个数据集作训练集进行运算，但由于数据集太大内存崩溃，所以对数据集进行精简：将评分数量低于阈值的用户和电影过滤掉**</font>"
   ]
  },
  {
   "cell_type": "code",
   "execution_count": 24,
   "metadata": {},
   "outputs": [
    {
     "name": "stdout",
     "output_type": "stream",
     "text": [
      "电影最低评分数量： 1006.0 \n",
      "用户最低评分数量： 142.0\n"
     ]
    }
   ],
   "source": [
    "df_mov_rat_amount = df.groupby('movie_id')['rating'].count()\n",
    "df_usr_rat_amount = df.groupby('user_id')['rating'].count()\n",
    "# 评分数量阈值\n",
    "mov_rat_min_amount = round(df_mov_rat_amount.quantile(0.6), 0)\n",
    "usr_rat_min_amount = round(df_usr_rat_amount.quantile(0.6), 0)\n",
    "print('电影最低评分数量：', mov_rat_min_amount, '\\n用户最低评分数量：', usr_rat_min_amount)"
   ]
  },
  {
   "cell_type": "code",
   "execution_count": 25,
   "metadata": {},
   "outputs": [
    {
     "name": "stdout",
     "output_type": "stream",
     "text": [
      "原数据集大小： (100480507, 4)\n",
      "过滤后数据集大小： (17472276, 4)\n"
     ]
    }
   ],
   "source": [
    "# 过滤评分数量低于阈值的电影\n",
    "movie_filter = (df['movie_id'].value_counts() > mov_rat_min_amount)\n",
    "movie_filter = movie_filter[movie_filter].index.tolist()\n",
    "# 过滤评分数量低于阈值的用户\n",
    "user_filter = (df['user_id'].value_counts() > mov_rat_min_amount)\n",
    "user_filter = user_filter[user_filter].index.tolist()\n",
    "# 将低于阈值的电影和用户过滤\n",
    "df_filtered = df[(df['movie_id'].isin(movie_filter)&df['user_id'].isin(user_filter))]\n",
    "del movie_filter, user_filter, mov_rat_min_amount, usr_rat_min_amount\n",
    "print('原数据集大小：', df.shape)\n",
    "print('过滤后数据集大小：', df_filtered.shape)"
   ]
  },
  {
   "cell_type": "markdown",
   "metadata": {},
   "source": [
    "<font color=#FF0000 >**从probe选取在过滤后的数据集仍存在的用户和电影作为测试集**</font>"
   ]
  },
  {
   "cell_type": "code",
   "execution_count": 30,
   "metadata": {},
   "outputs": [
    {
     "name": "stdout",
     "output_type": "stream",
     "text": [
      "测试集大小：34373\n"
     ]
    }
   ],
   "source": [
    "usr_list = df_filtered['user_id'].unique().tolist()\n",
    "mov_list = df_filtered['movie_id'].unique().tolist()\n",
    "testset = probe_with_rating[probe_with_rating['uid'].isin(usr_list)&probe_with_rating['iid'].isin(mov_list)]\n",
    "print('测试集大小：%d' % len(testset))"
   ]
  },
  {
   "cell_type": "markdown",
   "metadata": {},
   "source": [
    "<font color=#FF0000 >**--------------------Baseline-als算法--------------------**</font>"
   ]
  },
  {
   "cell_type": "code",
   "execution_count": 26,
   "metadata": {},
   "outputs": [
    {
     "name": "stderr",
     "output_type": "stream",
     "text": [
      "D:\\Anaconda3\\lib\\site-packages\\pandas\\core\\frame.py:3994: SettingWithCopyWarning: \n",
      "A value is trying to be set on a copy of a slice from a DataFrame\n",
      "\n",
      "See the caveats in the documentation: https://pandas.pydata.org/pandas-docs/stable/user_guide/indexing.html#returning-a-view-versus-a-copy\n",
      "  errors=errors,\n"
     ]
    }
   ],
   "source": [
    "reader = Reader(rating_scale=(1, 5))\n",
    "df_filtered.drop('timestamp', axis=1, inplace=True)\n",
    "#df_filtered['rating'] = df_filtered['rating'].astype('int')\n",
    "train_data = Dataset.load_from_df(df_filtered[['user_id', 'movie_id', 'rating']], reader=reader)\n",
    "train_set = train_data.build_full_trainset()"
   ]
  },
  {
   "cell_type": "code",
   "execution_count": 27,
   "metadata": {},
   "outputs": [
    {
     "name": "stdout",
     "output_type": "stream",
     "text": [
      "Estimating biases using als...\n"
     ]
    },
    {
     "data": {
      "text/plain": [
       "<surprise.prediction_algorithms.baseline_only.BaselineOnly at 0x16f659bf848>"
      ]
     },
     "execution_count": 27,
     "metadata": {},
     "output_type": "execute_result"
    }
   ],
   "source": [
    "bsl_options = {'method': 'als', 'n_epochs': 5, 'reg_u': 12, 'reg_i': 5}\n",
    "algo = BaselineOnly(bsl_options=bsl_options)\n",
    "algo.fit(train_set)"
   ]
  },
  {
   "cell_type": "code",
   "execution_count": 29,
   "metadata": {},
   "outputs": [
    {
     "name": "stdout",
     "output_type": "stream",
     "text": [
      "Baseline-als RMSE= 0.8776\n"
     ]
    }
   ],
   "source": [
    "# 计算RMSE\n",
    "testset_pred = pd.DataFrame(\n",
    "    [algo.predict(testset['uid'].iloc[i], testset['iid'].iloc[i], testset['r_ui'].iloc[i], verbose=False).est for i in range(len(testset))], \n",
    "    columns=['pred'])\n",
    "y_true = testset['r_ui']\n",
    "y_pred = testset_pred['pred']\n",
    "rmse = np.sqrt(mean_squared_error(y_true=y_true, y_pred=y_pred))\n",
    "print('Baseline-als RMSE= %.4f' % rmse)"
   ]
  },
  {
   "cell_type": "markdown",
   "metadata": {},
   "source": [
    "<font color=#FF0000 >**--------------------Baseline-sgd算法--------------------**</font>"
   ]
  },
  {
   "cell_type": "code",
   "execution_count": 31,
   "metadata": {},
   "outputs": [
    {
     "name": "stdout",
     "output_type": "stream",
     "text": [
      "Estimating biases using sgd...\n",
      "Baseline-als RMSE= 0.8795\n"
     ]
    }
   ],
   "source": [
    "bsl_options = {'method': 'sgd', 'n_epochs': 5}\n",
    "algo = BaselineOnly(bsl_options=bsl_options)\n",
    "algo.fit(train_set)\n",
    "# 计算RMSE\n",
    "testset_pred = pd.DataFrame(\n",
    "    [algo.predict(testset['uid'].iloc[i], testset['iid'].iloc[i], testset['r_ui'].iloc[i], verbose=False).est for i in range(len(testset))], \n",
    "    columns=['pred'])\n",
    "y_true = testset['r_ui']\n",
    "y_pred = testset_pred['pred']\n",
    "rmse = np.sqrt(mean_squared_error(y_true=y_true, y_pred=y_pred))\n",
    "print('Baseline-als RMSE= %.4f' % rmse)"
   ]
  },
  {
   "cell_type": "markdown",
   "metadata": {},
   "source": [
    "<font color=#FF0000 >**--------------------KNNBaseline-Pearson算法--------------------**</font>"
   ]
  },
  {
   "cell_type": "code",
   "execution_count": 38,
   "metadata": {},
   "outputs": [
    {
     "name": "stdout",
     "output_type": "stream",
     "text": [
      "Estimating biases using als...\n",
      "Computing the pearson_baseline similarity matrix...\n",
      "Done computing similarity matrix.\n",
      "KNNBaseline RMSE= 0.6728\n"
     ]
    }
   ],
   "source": [
    "sim_options = {'name':'pearson_baseline', 'user_based':False}\n",
    "algo = KNNBaseline(sim_options=sim_options)\n",
    "algo.fit(train_set)\n",
    "# 计算RMSE\n",
    "testset_pred = pd.DataFrame(\n",
    "    [algo.predict(testset['uid'].iloc[i], testset['iid'].iloc[i], testset['r_ui'].iloc[i], verbose=False).est for i in range(len(testset))], \n",
    "    columns=['pred'])\n",
    "y_true = testset['r_ui']\n",
    "y_pred = testset_pred['pred']\n",
    "rmse = np.sqrt(mean_squared_error(y_true=y_true, y_pred=y_pred))\n",
    "print('KNNBaseline RMSE= %.4f' % rmse)"
   ]
  },
  {
   "cell_type": "markdown",
   "metadata": {},
   "source": [
    "<font color=#FF0000 >**--------------------SlopeOne算法--------------------**</font>"
   ]
  },
  {
   "cell_type": "code",
   "execution_count": 42,
   "metadata": {},
   "outputs": [
    {
     "name": "stdout",
     "output_type": "stream",
     "text": [
      "SlopeOne RMSE= 0.8760\n"
     ]
    }
   ],
   "source": [
    "algo = SlopeOne()\n",
    "algo.fit(train_set)\n",
    "# 计算RMSE\n",
    "testset_pred = pd.DataFrame(\n",
    "    [algo.predict(testset['uid'].iloc[i], testset['iid'].iloc[i], testset['r_ui'].iloc[i], verbose=False).est for i in range(len(testset))], \n",
    "    columns=['pred'])\n",
    "y_true = testset['r_ui']\n",
    "y_pred = testset_pred['pred']\n",
    "rmse = np.sqrt(mean_squared_error(y_true=y_true, y_pred=y_pred))\n",
    "print('SlopeOne RMSE= %.4f' % rmse)"
   ]
  },
  {
   "cell_type": "markdown",
   "metadata": {},
   "source": [
    "<font color=#FF0000 >**--------------------funkSVD算法--------------------**</font>"
   ]
  },
  {
   "cell_type": "code",
   "execution_count": 46,
   "metadata": {},
   "outputs": [
    {
     "name": "stdout",
     "output_type": "stream",
     "text": [
      "funkSVD RMSE= 0.7253\n"
     ]
    }
   ],
   "source": [
    "algo = SVD(biased=False)\n",
    "algo.fit(train_set)\n",
    "# 计算RMSE\n",
    "testset_pred = pd.DataFrame(\n",
    "    [algo.predict(testset['uid'].iloc[i], testset['iid'].iloc[i], testset['r_ui'].iloc[i], verbose=False).est for i in range(len(testset))], \n",
    "    columns=['pred'])\n",
    "y_true = testset['r_ui']\n",
    "y_pred = testset_pred['pred']\n",
    "rmse = np.sqrt(mean_squared_error(y_true=y_true, y_pred=y_pred))\n",
    "print('funkSVD RMSE= %.4f' % rmse)"
   ]
  },
  {
   "cell_type": "markdown",
   "metadata": {},
   "source": [
    "<font color=#FF0000 >**--------------------biasSVD算法--------------------**</font>"
   ]
  },
  {
   "cell_type": "code",
   "execution_count": 47,
   "metadata": {},
   "outputs": [
    {
     "name": "stdout",
     "output_type": "stream",
     "text": [
      "biasSVD RMSE= 0.7213\n"
     ]
    }
   ],
   "source": [
    "algo = SVD()\n",
    "algo.fit(train_set)\n",
    "# 计算RMSE\n",
    "testset_pred = pd.DataFrame(\n",
    "    [algo.predict(testset['uid'].iloc[i], testset['iid'].iloc[i], testset['r_ui'].iloc[i], verbose=False).est for i in range(len(testset))], \n",
    "    columns=['pred'])\n",
    "y_true = testset['r_ui']\n",
    "y_pred = testset_pred['pred']\n",
    "rmse = np.sqrt(mean_squared_error(y_true=y_true, y_pred=y_pred))\n",
    "print('biasSVD RMSE= %.4f' % rmse)"
   ]
  },
  {
   "cell_type": "markdown",
   "metadata": {},
   "source": [
    "<font color=#FF0000 >**--------------------SVD++算法--------------------**</font>"
   ]
  },
  {
   "cell_type": "code",
   "execution_count": null,
   "metadata": {},
   "outputs": [],
   "source": [
    "# 耗时太长，没得出结果\n",
    "algo = SVDpp()\n",
    "algo.fit(train_set)\n",
    "# 计算RMSE\n",
    "testset_pred = pd.DataFrame(\n",
    "    [algo.predict(testset['uid'].iloc[i], testset['iid'].iloc[i], testset['r_ui'].iloc[i], verbose=False).est for i in range(len(testset))], \n",
    "    columns=['pred'])\n",
    "y_true = testset['r_ui']\n",
    "y_pred = testset_pred['pred']\n",
    "rmse = np.sqrt(mean_squared_error(y_true=y_true, y_pred=y_pred))\n",
    "print('SVD++ RMSE= %.4f' % rmse)"
   ]
  },
  {
   "cell_type": "code",
   "execution_count": null,
   "metadata": {},
   "outputs": [],
   "source": []
  }
 ],
 "metadata": {
  "kernelspec": {
   "display_name": "Python 3",
   "language": "python",
   "name": "python3"
  },
  "language_info": {
   "codemirror_mode": {
    "name": "ipython",
    "version": 3
   },
   "file_extension": ".py",
   "mimetype": "text/x-python",
   "name": "python",
   "nbconvert_exporter": "python",
   "pygments_lexer": "ipython3",
   "version": "3.7.4"
  }
 },
 "nbformat": 4,
 "nbformat_minor": 4
}
