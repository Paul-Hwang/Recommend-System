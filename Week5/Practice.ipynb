{
 "cells": [
  {
   "cell_type": "code",
   "execution_count": 1,
   "metadata": {},
   "outputs": [],
   "source": [
    "from pyspark import SparkContext\n",
    "from pyspark.mllib.recommendation import ALS"
   ]
  },
  {
   "cell_type": "code",
   "execution_count": 2,
   "metadata": {},
   "outputs": [
    {
     "name": "stdout",
     "output_type": "stream",
     "text": [
      "100004\n",
      "1,31,2.5,1260759144\n"
     ]
    }
   ],
   "source": [
    "# 读取文件\n",
    "sc = SparkContext('local', 'MovieRec')\n",
    "RawUserData = temp = sc.textFile('../../RS6/L5/MovieLens/ratings_small_without_header.csv')\n",
    "print(RawUserData.count())\n",
    "print(RawUserData.first())"
   ]
  },
  {
   "cell_type": "code",
   "execution_count": 3,
   "metadata": {},
   "outputs": [],
   "source": [
    "# 处理数据\n",
    "RawRatings = RawUserData.map(lambda line: line.split(',')[:3])\n",
    "training_RDD = RawRatings.map(lambda x: (x[0], x[1], x[2]))"
   ]
  },
  {
   "cell_type": "code",
   "execution_count": 4,
   "metadata": {},
   "outputs": [],
   "source": [
    "# 训练模型\n",
    "rank = 3\n",
    "model = ALS.train(training_RDD, rank, seed=5, iterations=10, lambda_=0.1)"
   ]
  },
  {
   "cell_type": "code",
   "execution_count": 5,
   "metadata": {},
   "outputs": [
    {
     "name": "stdout",
     "output_type": "stream",
     "text": [
      "[Rating(user=1, product=4404, rating=4.580639117086305), Rating(user=1, product=2275, rating=3.9592639878557634), Rating(user=1, product=67504, rating=3.795973435325095), Rating(user=1, product=83318, rating=3.795973435325095), Rating(user=1, product=83359, rating=3.795973435325095)]\n"
     ]
    }
   ],
   "source": [
    "print(model.recommendProducts(1,5))"
   ]
  },
  {
   "cell_type": "code",
   "execution_count": 6,
   "metadata": {},
   "outputs": [],
   "source": [
    "# pyspark.ml库"
   ]
  },
  {
   "cell_type": "code",
   "execution_count": 1,
   "metadata": {},
   "outputs": [],
   "source": [
    "from pyspark import SparkContext\n",
    "from pyspark.ml.recommendation import ALS\n",
    "from pyspark.sql import SQLContext\n",
    "import pandas as pd"
   ]
  },
  {
   "cell_type": "code",
   "execution_count": 2,
   "metadata": {},
   "outputs": [],
   "source": [
    "m\n",
    "sc = SparkContext()\n",
    "sql_sc = SQLContext(sc)\n",
    "df_ratings = pd.read_csv('../../RS6/L5/MovieLens/ratings_small.csv')\n",
    "pyspark_df_ratings = sql_sc.createDataFrame(df_ratings).drop('Timestamp')"
   ]
  },
  {
   "cell_type": "code",
   "execution_count": 3,
   "metadata": {},
   "outputs": [],
   "source": [
    "als = ALS(rank=3, maxIter=10, regParam=0.1, userCol='userId', itemCol='movieId', ratingCol='rating')\n",
    "model = als.fit(pyspark_df_ratings)\n",
    "recommendations = model.recommendForAllUsers(5)"
   ]
  },
  {
   "cell_type": "code",
   "execution_count": 4,
   "metadata": {},
   "outputs": [
    {
     "name": "stdout",
     "output_type": "stream",
     "text": [
      "[Row(userId=1, recommendations=[Row(movieId=91104, rating=4.507745265960693), Row(movieId=3915, rating=3.9106578826904297), Row(movieId=3414, rating=3.888821601867676), Row(movieId=4271, rating=3.8818955421447754), Row(movieId=26258, rating=3.8577077388763428)])]\n"
     ]
    }
   ],
   "source": [
    "print(recommendations.where(recommendations.userId==1).collect())"
   ]
  },
  {
   "cell_type": "code",
   "execution_count": 5,
   "metadata": {},
   "outputs": [],
   "source": [
    "# Surprise"
   ]
  },
  {
   "cell_type": "code",
   "execution_count": 16,
   "metadata": {},
   "outputs": [],
   "source": [
    "from surprise import Dataset, Reader, BaselineOnly, KNNBasic, accuracy, NormalPredictor\n",
    "from surprise.model_selection import KFold"
   ]
  },
  {
   "cell_type": "code",
   "execution_count": 7,
   "metadata": {},
   "outputs": [],
   "source": [
    "# 读取数据\n",
    "reader = Reader(line_format='user item rating timestamp', sep=',', skip_lines=1)\n",
    "data = Dataset.load_from_file('../../RS6/L5/MovieLens/ratings.csv', reader=reader)\n",
    "# train_set = data.build_full_trainset()"
   ]
  },
  {
   "cell_type": "code",
   "execution_count": 20,
   "metadata": {},
   "outputs": [],
   "source": [
    "# 选择模型并设置模型参数\n",
    "# ALS优化\n",
    "bsl_options = {'method': 'als', 'n_epochs': 5, 'reg_u': 12, 'reg_i': 5}\n",
    "# SGD优化\n",
    "# bsl_options = {'method': 'sgd', 'n_epochs': 5, 'learning_rate': 0.005}\n",
    "\n",
    "algo = BaselineOnly(bsl_options=bsl_options)\n",
    "\n",
    "# algo = BaselineOnly()\n",
    "# algo = NormalPredictor()"
   ]
  },
  {
   "cell_type": "code",
   "execution_count": 21,
   "metadata": {},
   "outputs": [
    {
     "name": "stdout",
     "output_type": "stream",
     "text": [
      "Estimating biases using als...\n",
      "RMSE: 0.8634\n",
      "Estimating biases using als...\n",
      "RMSE: 0.8636\n",
      "Estimating biases using als...\n",
      "RMSE: 0.8644\n"
     ]
    }
   ],
   "source": [
    "# KFold K折交叉验证迭代器，K=3\n",
    "kf = KFold(n_splits=3)\n",
    "for trainset, testset in kf.split(data):\n",
    "    # 训练并预测\n",
    "    algo.fit(trainset)\n",
    "    predictions = algo.test(testset)\n",
    "    # 计算RMSE\n",
    "    accuracy.rmse(predictions, verbose=True)"
   ]
  },
  {
   "cell_type": "code",
   "execution_count": 19,
   "metadata": {},
   "outputs": [
    {
     "name": "stdout",
     "output_type": "stream",
     "text": [
      "user: 196        item: 302        r_ui = 4.00   est = 1.26   {'was_impossible': False}\n"
     ]
    }
   ],
   "source": [
    "uid = str(196)\n",
    "iid = str(302)\n",
    "# 输出uid对iid的预测结果\n",
    "pred = algo.predict(uid, iid, r_ui=4, verbose=True)"
   ]
  },
  {
   "cell_type": "code",
   "execution_count": 1,
   "metadata": {},
   "outputs": [],
   "source": [
    "# Slope One"
   ]
  },
  {
   "cell_type": "code",
   "execution_count": 1,
   "metadata": {},
   "outputs": [],
   "source": [
    "from surprise import Dataset, Reader, SlopeOne"
   ]
  },
  {
   "cell_type": "code",
   "execution_count": 4,
   "metadata": {},
   "outputs": [],
   "source": [
    "reader = Reader(line_format='user item rating timestamp', sep=',',skip_lines=1)\n",
    "data = Dataset.load_from_file('../../RS6/L5/MovieLens/ratings.csv', reader=reader)\n",
    "train_set = data.build_full_trainset()"
   ]
  },
  {
   "cell_type": "code",
   "execution_count": 5,
   "metadata": {},
   "outputs": [
    {
     "data": {
      "text/plain": [
       "<surprise.prediction_algorithms.slope_one.SlopeOne at 0x1254a3990>"
      ]
     },
     "execution_count": 5,
     "metadata": {},
     "output_type": "execute_result"
    }
   ],
   "source": [
    "algo = SlopeOne()\n",
    "algo.fit(train_set)"
   ]
  },
  {
   "cell_type": "code",
   "execution_count": 6,
   "metadata": {},
   "outputs": [
    {
     "name": "stdout",
     "output_type": "stream",
     "text": [
      "user: 196        item: 302        r_ui = 4.00   est = 4.32   {'was_impossible': False}\n"
     ]
    }
   ],
   "source": [
    "uid = str(196)\n",
    "iid = str(302)\n",
    "pred = algo.predict(uid, iid, r_ui=4, verbose=True)"
   ]
  },
  {
   "cell_type": "code",
   "execution_count": 7,
   "metadata": {},
   "outputs": [],
   "source": [
    "# Pearson Baseline"
   ]
  },
  {
   "cell_type": "code",
   "execution_count": 175,
   "metadata": {},
   "outputs": [],
   "source": [
    "from surprise import Dataset, Reader, KNNBaseline\n",
    "import pandas as pd"
   ]
  },
  {
   "cell_type": "code",
   "execution_count": 176,
   "metadata": {},
   "outputs": [],
   "source": [
    "reader = Reader(line_format='user item rating timestamp', sep=',', skip_lines=1)\n",
    "data = Dataset.load_from_file('../../RS6/L5/MovieLens/ratings.csv', reader=reader)\n",
    "train_set = data.build_full_trainset()"
   ]
  },
  {
   "cell_type": "code",
   "execution_count": 179,
   "metadata": {},
   "outputs": [],
   "source": [
    "def read_item_names():\n",
    "    data = pd.read_csv('../../RS6/L5/MovieLens/movies.csv', encoding='ISO-8859-1')\n",
    "    rid_to_name = {}\n",
    "    name_to_rid = {}\n",
    "    for i in range(len(data['movieId'])):\n",
    "        rid_to_name[data['movieId'][i]] = data['title'][i]\n",
    "        name_to_rid[data['title'][i]] = data['movieId'][i]\n",
    "    return rid_to_name, name_to_rid\n",
    "\n",
    "def read_item_names1():\n",
    "    file_name = '../../RS6/L5/MovieLens/movies1.csv'\n",
    "    rid_to_name = {}\n",
    "    name_to_rid = {}\n",
    "    with open(file_name, 'r', encoding='utf-8') as f:\n",
    "        for line in f:\n",
    "            line_id = line.split(',')[0]\n",
    "            line_name = line.split(',')[1]\n",
    "            rid_to_name[line_id] = line_name\n",
    "            name_to_rid[line_name] = line_id\n",
    "    rid_to_name['1'] = rid_to_name.pop('\\ufeff1')\n",
    "    return rid_to_name, name_to_rid"
   ]
  },
  {
   "cell_type": "code",
   "execution_count": 177,
   "metadata": {},
   "outputs": [
    {
     "name": "stdout",
     "output_type": "stream",
     "text": [
      "Estimating biases using als...\n",
      "Computing the pearson_baseline similarity matrix...\n",
      "Done computing similarity matrix.\n"
     ]
    },
    {
     "data": {
      "text/plain": [
       "<surprise.prediction_algorithms.knns.KNNBaseline at 0x10fc9d550>"
      ]
     },
     "execution_count": 177,
     "metadata": {},
     "output_type": "execute_result"
    }
   ],
   "source": [
    "sim_options = {'name': 'pearson_baseline', 'user_based': False}\n",
    "algo = KNNBaseline(sim_options=sim_options)\n",
    "algo.fit(train_set)"
   ]
  },
  {
   "cell_type": "code",
   "execution_count": 165,
   "metadata": {},
   "outputs": [
    {
     "name": "stdout",
     "output_type": "stream",
     "text": [
      "1\n"
     ]
    }
   ],
   "source": [
    "# 获得电影名称信息数据\n",
    "rid_to_name, name_to_rid = read_item_names()\n",
    "# 获得Toy Story电影的电影id\n",
    "toy_story_raw_id = name_to_rid['Toy Story (1995)']\n",
    "print(toy_story_raw_id)"
   ]
  },
  {
   "cell_type": "code",
   "execution_count": 185,
   "metadata": {},
   "outputs": [
    {
     "name": "stdout",
     "output_type": "stream",
     "text": [
      "227\n",
      "user: 196        item: 227        r_ui = None   est = 3.85   {'was_impossible': False}\n"
     ]
    },
    {
     "data": {
      "text/plain": [
       "Prediction(uid='196', iid=227, r_ui=None, est=3.847457766692354, details={'was_impossible': False})"
      ]
     },
     "execution_count": 185,
     "metadata": {},
     "output_type": "execute_result"
    }
   ],
   "source": [
    "# 通过Toy Story电影的电影id获取该电影的推荐内部id\n",
    "toy_story_inner_id = algo.trainset.to_inner_iid(str(toy_story_raw_id))\n",
    "print(toy_story_inner_id)\n",
    "algo.predict('196', toy_story_inner_id, verbose=True)"
   ]
  },
  {
   "cell_type": "code",
   "execution_count": 190,
   "metadata": {},
   "outputs": [],
   "source": [
    "# 获取toy story对应的内部id 并由此取得其对应的k个近邻 k个近邻对应的也是内部id\n",
    "toy_story_neighbors = algo.get_neighbors(toy_story_inner_id,k = 10)\n",
    "\n",
    "# 近邻内部id转换为对应的名字\n",
    "toy_story_neiggbors = (algo.trainset.to_raw_iid(inner_id) for inner_id in toy_story_neighbors)\n",
    "toy_story_neighbors = (rid_to_name[rid] for rid in toy_story_neighbors)"
   ]
  },
  {
   "cell_type": "code",
   "execution_count": 191,
   "metadata": {},
   "outputs": [
    {
     "name": "stdout",
     "output_type": "stream",
     "text": [
      "Month by the Lake, A (1995)\n",
      "Adventures of Pinocchio, The (1996)\n",
      "Honey Moon (Honigmond) (1996)\n",
      "On Golden Pond (1981)\n",
      "Judge Dredd (1995)\n",
      "Airplane II: The Sequel (1982)\n",
      "Love Is All There Is (1996)\n",
      "Fish Called Wanda, A (1988)\n",
      "Party Girl (1995)\n",
      "Highlander III: The Sorcerer (a.k.a. Highlander: The Final Dimension) (1994)\n"
     ]
    }
   ],
   "source": [
    "for movie in toy_story_neighbors:\n",
    "    print(movie)"
   ]
  },
  {
   "cell_type": "code",
   "execution_count": null,
   "metadata": {},
   "outputs": [],
   "source": []
  }
 ],
 "metadata": {
  "kernelspec": {
   "display_name": "Python 3",
   "language": "python",
   "name": "python3"
  },
  "language_info": {
   "codemirror_mode": {
    "name": "ipython",
    "version": 3
   },
   "file_extension": ".py",
   "mimetype": "text/x-python",
   "name": "python",
   "nbconvert_exporter": "python",
   "pygments_lexer": "ipython3",
   "version": "3.7.4"
  },
  "pycharm": {
   "stem_cell": {
    "cell_type": "raw",
    "source": [],
    "metadata": {
     "collapsed": false
    }
   }
  }
 },
 "nbformat": 4,
 "nbformat_minor": 4
}