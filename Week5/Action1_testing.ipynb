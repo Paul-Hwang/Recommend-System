{
 "cells": [
  {
   "cell_type": "code",
   "execution_count": 1,
   "metadata": {},
   "outputs": [],
   "source": [
    "import pandas as pd\n",
    "import numpy as np\n",
    "import matplotlib.pyplot as plt\n",
    "from surprise import Dataset, Reader, SVD, SlopeOne, KNNBasic, accuracy\n",
    "from surprise.model_selection import KFold\n",
    "from pyspark import SparkContext\n",
    "from pyspark.ml.recommendation import ALS\n",
    "from pyspark.sql import SQLContext"
   ]
  },
  {
   "cell_type": "code",
   "execution_count": 2,
   "metadata": {},
   "outputs": [],
   "source": [
    "# 加载数据\n",
    "df1 = pd.read_csv('./netflix-prize-data/combined_data_1.txt', header=None, names=['user_id', 'rating', 'timestamp'])\n",
    "df2 = pd.read_csv('./netflix-prize-data/combined_data_2.txt', header=None, names=['user_id', 'rating'], usecols=[0, 1])\n",
    "df3 = pd.read_csv('./netflix-prize-data/combined_data_3.txt', header=None, names=['user_id', 'rating'], usecols=[0, 1])\n",
    "df4 = pd.read_csv('./netflix-prize-data/combined_data_4.txt', header=None, names=['user_id', 'rating'], usecols=[0, 1])\n",
    "movies = pd.read_csv('./netflix-prize-data/movie_titles.csv', header=None, names=['movie_id', 'year', 'movie_name'], encoding='ISO-8859-1')\n",
    "probe = pd.read_csv('./netflix-prize-data/probe.txt', header=None, names=['user_id'])"
   ]
  },
  {
   "cell_type": "code",
   "execution_count": 3,
   "metadata": {},
   "outputs": [],
   "source": [
    "# 整个数据集数据量太大，运行1小时无果，先尝试使用第一个txt进行训练\n",
    "df = pd.DataFrame()\n",
    "df = df.append(df1).append(df2).append(df3).append(df4)"
   ]
  },
  {
   "cell_type": "code",
   "execution_count": 13,
   "metadata": {},
   "outputs": [],
   "source": [
    "df.reset_index(drop=True, inplace=True)"
   ]
  },
  {
   "cell_type": "code",
   "execution_count": 15,
   "metadata": {},
   "outputs": [
    {
     "ename": "KeyboardInterrupt",
     "evalue": "",
     "output_type": "error",
     "traceback": [
      "\u001b[0;31m---------------------------------------------------------------------------\u001b[0m",
      "\u001b[0;31mKeyboardInterrupt\u001b[0m                         Traceback (most recent call last)",
      "\u001b[0;32m<ipython-input-15-9889d761964f>\u001b[0m in \u001b[0;36m<module>\u001b[0;34m\u001b[0m\n\u001b[1;32m     13\u001b[0m     \u001b[0mtemp\u001b[0m \u001b[0;34m=\u001b[0m \u001b[0mnp\u001b[0m\u001b[0;34m.\u001b[0m\u001b[0mfull\u001b[0m\u001b[0;34m(\u001b[0m\u001b[0;34m(\u001b[0m\u001b[0;36m1\u001b[0m\u001b[0;34m,\u001b[0m\u001b[0mi\u001b[0m\u001b[0;34m-\u001b[0m\u001b[0mj\u001b[0m\u001b[0;34m-\u001b[0m\u001b[0;36m1\u001b[0m\u001b[0;34m)\u001b[0m\u001b[0;34m,\u001b[0m \u001b[0mmovie_id\u001b[0m\u001b[0;34m)\u001b[0m\u001b[0;34m\u001b[0m\u001b[0;34m\u001b[0m\u001b[0m\n\u001b[1;32m     14\u001b[0m     \u001b[0;31m# 将所有电影构成的array加到总的array (movie_np)\u001b[0m\u001b[0;34m\u001b[0m\u001b[0;34m\u001b[0m\u001b[0;34m\u001b[0m\u001b[0m\n\u001b[0;32m---> 15\u001b[0;31m     \u001b[0mmovie_np\u001b[0m \u001b[0;34m=\u001b[0m \u001b[0mnp\u001b[0m\u001b[0;34m.\u001b[0m\u001b[0mappend\u001b[0m\u001b[0;34m(\u001b[0m\u001b[0mmovie_np\u001b[0m\u001b[0;34m,\u001b[0m \u001b[0mtemp\u001b[0m\u001b[0;34m)\u001b[0m\u001b[0;34m\u001b[0m\u001b[0;34m\u001b[0m\u001b[0m\n\u001b[0m\u001b[1;32m     16\u001b[0m     \u001b[0mmovie_id\u001b[0m \u001b[0;34m+=\u001b[0m \u001b[0;36m1\u001b[0m\u001b[0;34m\u001b[0m\u001b[0;34m\u001b[0m\u001b[0m\n\u001b[1;32m     17\u001b[0m \u001b[0;31m# for循环没有将最后一部电影的数据加到movie_np当中，因此需要另外加上\u001b[0m\u001b[0;34m\u001b[0m\u001b[0;34m\u001b[0m\u001b[0;34m\u001b[0m\u001b[0m\n",
      "\u001b[0;31mKeyboardInterrupt\u001b[0m: "
     ]
    }
   ],
   "source": [
    "###数据集预处理###\n",
    "\n",
    "# 通过提取rating为空值的项组成电影id的dataframe\n",
    "df_movieid = df[df['rating'].isnull()]\n",
    "df_movieid.reset_index(inplace=True)\n",
    "\n",
    "# 尝试过将电影id作为新的列合并到数据集df，但运算量巨大；所以用numpy的array导入电影id\n",
    "movie_np = []\n",
    "movie_id = 1\n",
    "# 将电影id对应的index减去上一个id对应的index再加1就是这部电影的评分数量(i-j+1)\n",
    "for i,j in zip(df_movieid['index'][1:],df_movieid['index'][:-1]):\n",
    "    # 每部电影构成一个shape为(1, (i-j-1))的array, shape中(1,的1为电影id\n",
    "    temp = np.full((1,i-j-1), movie_id)\n",
    "    # 将所有电影构成的array加到总的array (movie_np)\n",
    "    movie_np = np.append(movie_np, temp)\n",
    "    movie_id += 1\n",
    "# for循环没有将最后一部电影的数据加到movie_np当中，因此需要另外加上\n",
    "last = np.full((1, len(df)-df_movieid.iloc[-1]['index']-1), movie_id)\n",
    "movie_np = np.append(movie_np, last)\n",
    "\n",
    "# 在数据集中去掉电影id的行\n",
    "df_movieid.set_index(keys='index', inplace=True)\n",
    "df.drop(df_movieid.index, inplace=True)\n",
    "# 将电影id作为新的一列加到数据集中\n",
    "df['movie_id'] = movie_np.astype('int')\n",
    "df['user_id'] = df['user_id'].astype('int')"
   ]
  },
  {
   "cell_type": "code",
   "execution_count": null,
   "metadata": {},
   "outputs": [],
   "source": [
    "###数据集预处理###\n",
    "\n",
    "# 通过提取rating为空值的项组成电影id的dataframe\n",
    "df_movieid = df[df['rating'].isnull()]\n",
    "df_movieid.reset_index(inplace=True)\n",
    "\n",
    "# 尝试过将电影id作为新的列合并到数据集df，但运算量巨大；所以用numpy的array导入电影id\n",
    "movie_np = []\n",
    "movie_id = 1\n",
    "# 将电影id对应的index减去上一个id对应的index再加1就是这部电影的评分数量(i-j+1)\n",
    "for i in range(1, len(df_movieid)):\n",
    "    temp = np.full((1,df_movieid['index'][i]-df_movieid['index'][i-1]-1), movie_id)\n",
    "    movie_np = np.append(movie_np, temp)\n",
    "    movie_id += 1\n",
    "# for循环没有将最后一部电影的数据加到movie_np当中，因此需要另外加上\n",
    "last = np.full((1, len(df)-df_movieid.iloc[-1]['index']-1), movie_id)\n",
    "movie_np = np.append(movie_np, last)\n",
    "\n",
    "# 在数据集中去掉电影id的行\n",
    "df_movieid.set_index(keys='index', inplace=True)\n",
    "df.drop(df_movieid.index, inplace=True)\n",
    "# 将电影id作为新的一列加到数据集中\n",
    "df['movie_id'] = movie_np.astype('int')\n",
    "df['user_id'] = df['user_id'].astype('int')"
   ]
  },
  {
   "cell_type": "code",
   "execution_count": null,
   "metadata": {},
   "outputs": [],
   "source": [
    "df.to_csv('')"
   ]
  },
  {
   "cell_type": "code",
   "execution_count": 329,
   "metadata": {},
   "outputs": [],
   "source": [
    "# 处理probe数据集的数据\n",
    "probe_c = probe.copy()\n",
    "# 将movie_id从user_id列中提取出来作为新的一列并将数据中的':'去掉\n",
    "movie_col = probe[probe['user_id'].str.contains(':')].copy()\n",
    "movie_col['user_id'] = movie_col['user_id'].str.split(':').copy()\n",
    "for i in movie_col.index:\n",
    "    movie_col['user_id'][i] = movie_col['user_id'][i][0]\n",
    "probe_c['movie_id'] = movie_col['user_id'].copy()\n",
    "# 使用'ffill'方法填充na值\n",
    "probe_c.fillna(method='ffill', inplace=True)\n",
    "temp = probe[probe['user_id'].str.contains(':')].index.tolist()\n",
    "probe_c.drop(probe_c.index[temp], inplace=True)\n",
    "probe = probe_c.copy()\n",
    "probe['user_id'] = probe['user_id'].astype('int').copy()\n",
    "probe['movie_id'] = probe['movie_id'].astype('int').copy()\n",
    "del temp, probe_c, movie_col"
   ]
  },
  {
   "cell_type": "code",
   "execution_count": null,
   "metadata": {},
   "outputs": [],
   "source": []
  },
  {
   "cell_type": "code",
   "execution_count": null,
   "metadata": {},
   "outputs": [],
   "source": [
    "# 从数据集中提取probe的评分\n",
    "probe_with_rating = pd.DataFrame()\n",
    "for i in range(1, 17771):\n",
    "    df_m = df[df['movie_id']==i].copy()\n",
    "    probe_m = probe[probe['movie_id']==i].copy()\n",
    "    u_list = probe_m['user_id'].tolist()\n",
    "    m_rating = df_m[df_m['user_id'].isin(u_list)]\n",
    "    probe_with_rating = pd.concat([probe_with_rating, m_rating])\n",
    "\n",
    "# 将结果输出为csv保存\n",
    "probe_with_rating.to_csv('probe_with_rating.csv')"
   ]
  },
  {
   "cell_type": "code",
   "execution_count": null,
   "metadata": {},
   "outputs": [],
   "source": []
  },
  {
   "cell_type": "code",
   "execution_count": 171,
   "metadata": {},
   "outputs": [
    {
     "data": {
      "image/png": "[encoded data removed]",
      "text/plain": [
       "<Figure size 864x720 with 1 Axes>"
      ]
     },
     "metadata": {
      "needs_background": "light"
     },
     "output_type": "display_data"
    }
   ],
   "source": [
    "# 评分1-5分的各数量\n",
    "rating_p = df.groupby('rating')['rating'].agg(['count'])\n",
    "# 电影数量\n",
    "movie_num = df['movie_id'].nunique()\n",
    "# 用户数量\n",
    "user_num = df['user_id'].nunique()\n",
    "# 评分的总数量\n",
    "rating_num = df['rating'].count()\n",
    "# 画图\n",
    "ax = rating_p.plot(kind='barh', legend=False, figsize=(12,10), color='orangered')\n",
    "plt.title('Dataset metadata: %d Movies, %d Users, %d ratings given' % (movie_num, user_num, rating_num), fontsize=18)\n",
    "ax.spines['top'].set_visible(False)\n",
    "ax.spines['right'].set_visible(False)\n",
    "for i in range(5):\n",
    "    ax.text(rating_p.iloc[i][0]/4, i, 'Rating %d: %.0f%%' % (i+1, rating_p.iloc[i]*100/rating_p.sum()[0]), color='white', weight='bold')\n",
    "plt.show()"
   ]
  },
  {
   "cell_type": "code",
   "execution_count": 9,
   "metadata": {},
   "outputs": [],
   "source": [
    "movies.set_index('movie_id', inplace=True)"
   ]
  },
  {
   "cell_type": "code",
   "execution_count": 10,
   "metadata": {},
   "outputs": [
    {
     "name": "stdout",
     "output_type": "stream",
     "text": [
      "227.0 \n",
      " 11.0\n"
     ]
    }
   ],
   "source": [
    "# 尝试对整个数据集作训练集运算ALS，但仍由于数据集太大不能得出结果，所以对数据集进行精简：将评分数量很少的用户和评分数量很少的电影过滤掉\n",
    "df_mov_rat_amount = df.groupby('movie_id')['rating'].count()\n",
    "df_usr_rat_amount = df.groupby('user_id')['rating'].count()\n",
    "mov_rat_min_amount = round(df_mov_rat_amount.quantile(0.3), 0)\n",
    "usr_rat_min_amount = round(df_usr_rat_amount.quantile(0.3), 0)\n",
    "print(mov_rat_min_amount,'\\n', usr_rat_min_amount)"
   ]
  },
  {
   "cell_type": "code",
   "execution_count": 11,
   "metadata": {},
   "outputs": [
    {
     "name": "stdout",
     "output_type": "stream",
     "text": [
      "(24053764, 4)\n",
      "(5062382, 4)\n"
     ]
    }
   ],
   "source": [
    "# 过滤评分数量少于最低值的电影\n",
    "movie_filter = (df['movie_id'].value_counts() > mov_rat_min_amount)\n",
    "movie_filter = movie_filter[movie_filter].index.tolist()\n",
    "# 过滤评分数量少于最低值的用户\n",
    "user_filter = (df['user_id'].value_counts() > mov_rat_min_amount)\n",
    "user_filter = user_filter[user_filter].index.tolist()\n",
    "# 将小于阈值的电影和用户过滤\n",
    "df_filtered = df[(df['movie_id'].isin(movie_filter)&df['user_id'].isin(user_filter))]\n",
    "del movie_filter, user_filter, mov_rat_min_amount, usr_rat_min_amount\n",
    "print(df.shape)\n",
    "print(df_filtered.shape)"
   ]
  },
  {
   "cell_type": "code",
   "execution_count": 12,
   "metadata": {},
   "outputs": [],
   "source": [
    "# Pyspark ALS\n",
    "sc = SparkContext()\n",
    "sql_sc = SQLContext(sc)\n",
    "pyspark_df_ratings = sql_sc.createDataFrame(df_filtered).drop('timestamp')"
   ]
  },
  {
   "cell_type": "code",
   "execution_count": 13,
   "metadata": {},
   "outputs": [],
   "source": [
    "als = ALS(rank=10, maxIter=10, regParam=0.1, userCol='user_id', itemCol='movie_id', ratingCol='rating')\n",
    "model = als.fit(pyspark_df_ratings)\n",
    "recommendations = model.recommendForAllUsers(5)"
   ]
  },
  {
   "cell_type": "code",
   "execution_count": 16,
   "metadata": {},
   "outputs": [
    {
     "name": "stdout",
     "output_type": "stream",
     "text": [
      "[Row(user_id=1488844, recommendations=[Row(movie_id=3456, rating=4.178504467010498), Row(movie_id=2782, rating=4.018551826477051), Row(movie_id=4306, rating=4.008695125579834), Row(movie_id=3425, rating=3.9942030906677246), Row(movie_id=2452, rating=3.9939780235290527)])]\n"
     ]
    }
   ],
   "source": [
    "print(recommendations.where(recommendations.user_id==1488844).collect())"
   ]
  },
  {
   "cell_type": "code",
   "execution_count": 174,
   "metadata": {},
   "outputs": [],
   "source": [
    "matrix_usr_mov = df.pivot_table(index='user_id', columns='movie_id', values='rating')"
   ]
  },
  {
   "cell_type": "code",
   "execution_count": 321,
   "metadata": {},
   "outputs": [],
   "source": []
  },
  {
   "cell_type": "code",
   "execution_count": 323,
   "metadata": {},
   "outputs": [],
   "source": [
    "probe_with_rating.to_csv('probe_with_rating_1.csv')"
   ]
  },
  {
   "cell_type": "code",
   "execution_count": 314,
   "metadata": {},
   "outputs": [
    {
     "data": {
      "text/html": [
       "<div>\n",
       "<style scoped>\n",
       "    .dataframe tbody tr th:only-of-type {\n",
       "        vertical-align: middle;\n",
       "    }\n",
       "\n",
       "    .dataframe tbody tr th {\n",
       "        vertical-align: top;\n",
       "    }\n",
       "\n",
       "    .dataframe thead th {\n",
       "        text-align: right;\n",
       "    }\n",
       "</style>\n",
       "<table border=\"1\" class=\"dataframe\">\n",
       "  <thead>\n",
       "    <tr style=\"text-align: right;\">\n",
       "      <th></th>\n",
       "      <th>user_id</th>\n",
       "      <th>movie_id</th>\n",
       "    </tr>\n",
       "  </thead>\n",
       "  <tbody>\n",
       "    <tr>\n",
       "      <th>28</th>\n",
       "      <td>2326571</td>\n",
       "      <td>1000</td>\n",
       "    </tr>\n",
       "    <tr>\n",
       "      <th>29</th>\n",
       "      <td>977808</td>\n",
       "      <td>1000</td>\n",
       "    </tr>\n",
       "    <tr>\n",
       "      <th>30</th>\n",
       "      <td>1010534</td>\n",
       "      <td>1000</td>\n",
       "    </tr>\n",
       "    <tr>\n",
       "      <th>31</th>\n",
       "      <td>1861759</td>\n",
       "      <td>1000</td>\n",
       "    </tr>\n",
       "    <tr>\n",
       "      <th>32</th>\n",
       "      <td>79755</td>\n",
       "      <td>1000</td>\n",
       "    </tr>\n",
       "    <tr>\n",
       "      <th>33</th>\n",
       "      <td>98259</td>\n",
       "      <td>1000</td>\n",
       "    </tr>\n",
       "    <tr>\n",
       "      <th>34</th>\n",
       "      <td>1960212</td>\n",
       "      <td>1000</td>\n",
       "    </tr>\n",
       "    <tr>\n",
       "      <th>35</th>\n",
       "      <td>97460</td>\n",
       "      <td>1000</td>\n",
       "    </tr>\n",
       "    <tr>\n",
       "      <th>36</th>\n",
       "      <td>2623506</td>\n",
       "      <td>1000</td>\n",
       "    </tr>\n",
       "    <tr>\n",
       "      <th>37</th>\n",
       "      <td>2409123</td>\n",
       "      <td>1000</td>\n",
       "    </tr>\n",
       "    <tr>\n",
       "      <th>38</th>\n",
       "      <td>1959111</td>\n",
       "      <td>1000</td>\n",
       "    </tr>\n",
       "    <tr>\n",
       "      <th>39</th>\n",
       "      <td>809597</td>\n",
       "      <td>1000</td>\n",
       "    </tr>\n",
       "    <tr>\n",
       "      <th>40</th>\n",
       "      <td>2251189</td>\n",
       "      <td>1000</td>\n",
       "    </tr>\n",
       "    <tr>\n",
       "      <th>41</th>\n",
       "      <td>537705</td>\n",
       "      <td>1000</td>\n",
       "    </tr>\n",
       "    <tr>\n",
       "      <th>42</th>\n",
       "      <td>929584</td>\n",
       "      <td>1000</td>\n",
       "    </tr>\n",
       "    <tr>\n",
       "      <th>43</th>\n",
       "      <td>506737</td>\n",
       "      <td>1000</td>\n",
       "    </tr>\n",
       "    <tr>\n",
       "      <th>44</th>\n",
       "      <td>708895</td>\n",
       "      <td>1000</td>\n",
       "    </tr>\n",
       "    <tr>\n",
       "      <th>45</th>\n",
       "      <td>1900790</td>\n",
       "      <td>1000</td>\n",
       "    </tr>\n",
       "    <tr>\n",
       "      <th>46</th>\n",
       "      <td>2553920</td>\n",
       "      <td>1000</td>\n",
       "    </tr>\n",
       "    <tr>\n",
       "      <th>47</th>\n",
       "      <td>1196779</td>\n",
       "      <td>1000</td>\n",
       "    </tr>\n",
       "    <tr>\n",
       "      <th>48</th>\n",
       "      <td>2411446</td>\n",
       "      <td>1000</td>\n",
       "    </tr>\n",
       "    <tr>\n",
       "      <th>49</th>\n",
       "      <td>1002296</td>\n",
       "      <td>1000</td>\n",
       "    </tr>\n",
       "    <tr>\n",
       "      <th>50</th>\n",
       "      <td>1580442</td>\n",
       "      <td>1000</td>\n",
       "    </tr>\n",
       "    <tr>\n",
       "      <th>51</th>\n",
       "      <td>100291</td>\n",
       "      <td>1000</td>\n",
       "    </tr>\n",
       "    <tr>\n",
       "      <th>52</th>\n",
       "      <td>433455</td>\n",
       "      <td>1000</td>\n",
       "    </tr>\n",
       "    <tr>\n",
       "      <th>53</th>\n",
       "      <td>2368043</td>\n",
       "      <td>1000</td>\n",
       "    </tr>\n",
       "    <tr>\n",
       "      <th>54</th>\n",
       "      <td>906984</td>\n",
       "      <td>1000</td>\n",
       "    </tr>\n",
       "  </tbody>\n",
       "</table>\n",
       "</div>"
      ],
      "text/plain": [
       "    user_id  movie_id\n",
       "28  2326571      1000\n",
       "29   977808      1000\n",
       "30  1010534      1000\n",
       "31  1861759      1000\n",
       "32    79755      1000\n",
       "33    98259      1000\n",
       "34  1960212      1000\n",
       "35    97460      1000\n",
       "36  2623506      1000\n",
       "37  2409123      1000\n",
       "38  1959111      1000\n",
       "39   809597      1000\n",
       "40  2251189      1000\n",
       "41   537705      1000\n",
       "42   929584      1000\n",
       "43   506737      1000\n",
       "44   708895      1000\n",
       "45  1900790      1000\n",
       "46  2553920      1000\n",
       "47  1196779      1000\n",
       "48  2411446      1000\n",
       "49  1002296      1000\n",
       "50  1580442      1000\n",
       "51   100291      1000\n",
       "52   433455      1000\n",
       "53  2368043      1000\n",
       "54   906984      1000"
      ]
     },
     "execution_count": 314,
     "metadata": {},
     "output_type": "execute_result"
    }
   ],
   "source": []
  },
  {
   "cell_type": "code",
   "execution_count": 215,
   "metadata": {},
   "outputs": [],
   "source": [
    "probe_rating = probe.groupby(['movie_id', 'user_id'])"
   ]
  },
  {
   "cell_type": "code",
   "execution_count": 224,
   "metadata": {},
   "outputs": [
    {
     "data": {
      "text/html": [
       "<div>\n",
       "<style scoped>\n",
       "    .dataframe tbody tr th:only-of-type {\n",
       "        vertical-align: middle;\n",
       "    }\n",
       "\n",
       "    .dataframe tbody tr th {\n",
       "        vertical-align: top;\n",
       "    }\n",
       "\n",
       "    .dataframe thead th {\n",
       "        text-align: right;\n",
       "    }\n",
       "</style>\n",
       "<table border=\"1\" class=\"dataframe\">\n",
       "  <thead>\n",
       "    <tr style=\"text-align: right;\">\n",
       "      <th></th>\n",
       "      <th></th>\n",
       "      <th>rating</th>\n",
       "    </tr>\n",
       "    <tr>\n",
       "      <th>movie_id</th>\n",
       "      <th>user_id</th>\n",
       "      <th></th>\n",
       "    </tr>\n",
       "  </thead>\n",
       "  <tbody>\n",
       "    <tr>\n",
       "      <th rowspan=\"5\" valign=\"top\">1</th>\n",
       "      <th>14756</th>\n",
       "      <td>0.0</td>\n",
       "    </tr>\n",
       "    <tr>\n",
       "      <th>30878</th>\n",
       "      <td>0.0</td>\n",
       "    </tr>\n",
       "    <tr>\n",
       "      <th>317050</th>\n",
       "      <td>0.0</td>\n",
       "    </tr>\n",
       "    <tr>\n",
       "      <th>470861</th>\n",
       "      <td>0.0</td>\n",
       "    </tr>\n",
       "    <tr>\n",
       "      <th>548064</th>\n",
       "      <td>0.0</td>\n",
       "    </tr>\n",
       "    <tr>\n",
       "      <th>...</th>\n",
       "      <th>...</th>\n",
       "      <td>...</td>\n",
       "    </tr>\n",
       "    <tr>\n",
       "      <th rowspan=\"5\" valign=\"top\">17770</th>\n",
       "      <th>605115</th>\n",
       "      <td>0.0</td>\n",
       "    </tr>\n",
       "    <tr>\n",
       "      <th>829192</th>\n",
       "      <td>0.0</td>\n",
       "    </tr>\n",
       "    <tr>\n",
       "      <th>1196966</th>\n",
       "      <td>0.0</td>\n",
       "    </tr>\n",
       "    <tr>\n",
       "      <th>1476398</th>\n",
       "      <td>0.0</td>\n",
       "    </tr>\n",
       "    <tr>\n",
       "      <th>2334295</th>\n",
       "      <td>0.0</td>\n",
       "    </tr>\n",
       "  </tbody>\n",
       "</table>\n",
       "<p>1408395 rows × 1 columns</p>\n",
       "</div>"
      ],
      "text/plain": [
       "                  rating\n",
       "movie_id user_id        \n",
       "1        14756       0.0\n",
       "         30878       0.0\n",
       "         317050      0.0\n",
       "         470861      0.0\n",
       "         548064      0.0\n",
       "...                  ...\n",
       "17770    605115      0.0\n",
       "         829192      0.0\n",
       "         1196966     0.0\n",
       "         1476398     0.0\n",
       "         2334295     0.0\n",
       "\n",
       "[1408395 rows x 1 columns]"
      ]
     },
     "execution_count": 224,
     "metadata": {},
     "output_type": "execute_result"
    }
   ],
   "source": [
    "probe_rating.sum()"
   ]
  },
  {
   "cell_type": "code",
   "execution_count": null,
   "metadata": {},
   "outputs": [],
   "source": []
  }
 ],
 "metadata": {
  "kernelspec": {
   "display_name": "Python 3",
   "language": "python",
   "name": "python3"
  },
  "language_info": {
   "codemirror_mode": {
    "name": "ipython",
    "version": 3
   },
   "file_extension": ".py",
   "mimetype": "text/x-python",
   "name": "python",
   "nbconvert_exporter": "python",
   "pygments_lexer": "ipython3",
   "version": "3.7.4"
  }
 },
 "nbformat": 4,
 "nbformat_minor": 4
}
