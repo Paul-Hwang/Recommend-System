{
 "cells": [
  {
   "cell_type": "code",
   "execution_count": 2,
   "metadata": {
    "pycharm": {
     "is_executing": false
    }
   },
   "outputs": [],
   "source": [
    "import pandas as pd\n",
    "import numpy as np\n",
    "from sklearn.feature_extraction import DictVectorizer\n",
    "from tpot import TPOTClassifier\n",
    "from sklearn.naive_bayes import BernoulliNB\n",
    "from sklearn.linear_model import LogisticRegression\n",
    "from sklearn.tree import DecisionTreeClassifier\n",
    "from sklearn.discriminant_analysis import LinearDiscriminantAnalysis  \n",
    "from sklearn import svm\n",
    "from sklearn.neighbors import KNeighborsClassifier\n",
    "from sklearn.ensemble import  AdaBoostClassifier\n",
    "from xgboost import XGBClassifier\n",
    "from sklearn.model_selection import cross_val_score"
   ]
  },
  {
   "cell_type": "code",
   "execution_count": 3,
   "metadata": {
    "pycharm": {
     "is_executing": false
    }
   },
   "outputs": [],
   "source": [
    "train = pd.read_csv('./train.csv')\n",
    "test = pd.read_csv('./test.csv')"
   ]
  },
  {
   "cell_type": "code",
   "execution_count": 4,
   "metadata": {
    "pycharm": {
     "is_executing": false
    }
   },
   "outputs": [
    {
     "data": {
      "text/plain": "   PassengerId  Survived  Pclass  \\\n0            1         0       3   \n1            2         1       1   \n2            3         1       3   \n3            4         1       1   \n4            5         0       3   \n\n                                                Name     Sex   Age  SibSp  \\\n0                            Braund, Mr. Owen Harris    male  22.0      1   \n1  Cumings, Mrs. John Bradley (Florence Briggs Th...  female  38.0      1   \n2                             Heikkinen, Miss. Laina  female  26.0      0   \n3       Futrelle, Mrs. Jacques Heath (Lily May Peel)  female  35.0      1   \n4                           Allen, Mr. William Henry    male  35.0      0   \n\n   Parch            Ticket     Fare Cabin Embarked  \n0      0         A/5 21171   7.2500   NaN        S  \n1      0          PC 17599  71.2833   C85        C  \n2      0  STON/O2. 3101282   7.9250   NaN        S  \n3      0            113803  53.1000  C123        S  \n4      0            373450   8.0500   NaN        S  ",
      "text/html": "<div>\n<style scoped>\n    .dataframe tbody tr th:only-of-type {\n        vertical-align: middle;\n    }\n\n    .dataframe tbody tr th {\n        vertical-align: top;\n    }\n\n    .dataframe thead th {\n        text-align: right;\n    }\n</style>\n<table border=\"1\" class=\"dataframe\">\n  <thead>\n    <tr style=\"text-align: right;\">\n      <th></th>\n      <th>PassengerId</th>\n      <th>Survived</th>\n      <th>Pclass</th>\n      <th>Name</th>\n      <th>Sex</th>\n      <th>Age</th>\n      <th>SibSp</th>\n      <th>Parch</th>\n      <th>Ticket</th>\n      <th>Fare</th>\n      <th>Cabin</th>\n      <th>Embarked</th>\n    </tr>\n  </thead>\n  <tbody>\n    <tr>\n      <th>0</th>\n      <td>1</td>\n      <td>0</td>\n      <td>3</td>\n      <td>Braund, Mr. Owen Harris</td>\n      <td>male</td>\n      <td>22.0</td>\n      <td>1</td>\n      <td>0</td>\n      <td>A/5 21171</td>\n      <td>7.2500</td>\n      <td>NaN</td>\n      <td>S</td>\n    </tr>\n    <tr>\n      <th>1</th>\n      <td>2</td>\n      <td>1</td>\n      <td>1</td>\n      <td>Cumings, Mrs. John Bradley (Florence Briggs Th...</td>\n      <td>female</td>\n      <td>38.0</td>\n      <td>1</td>\n      <td>0</td>\n      <td>PC 17599</td>\n      <td>71.2833</td>\n      <td>C85</td>\n      <td>C</td>\n    </tr>\n    <tr>\n      <th>2</th>\n      <td>3</td>\n      <td>1</td>\n      <td>3</td>\n      <td>Heikkinen, Miss. Laina</td>\n      <td>female</td>\n      <td>26.0</td>\n      <td>0</td>\n      <td>0</td>\n      <td>STON/O2. 3101282</td>\n      <td>7.9250</td>\n      <td>NaN</td>\n      <td>S</td>\n    </tr>\n    <tr>\n      <th>3</th>\n      <td>4</td>\n      <td>1</td>\n      <td>1</td>\n      <td>Futrelle, Mrs. Jacques Heath (Lily May Peel)</td>\n      <td>female</td>\n      <td>35.0</td>\n      <td>1</td>\n      <td>0</td>\n      <td>113803</td>\n      <td>53.1000</td>\n      <td>C123</td>\n      <td>S</td>\n    </tr>\n    <tr>\n      <th>4</th>\n      <td>5</td>\n      <td>0</td>\n      <td>3</td>\n      <td>Allen, Mr. William Henry</td>\n      <td>male</td>\n      <td>35.0</td>\n      <td>0</td>\n      <td>0</td>\n      <td>373450</td>\n      <td>8.0500</td>\n      <td>NaN</td>\n      <td>S</td>\n    </tr>\n  </tbody>\n</table>\n</div>"
     },
     "metadata": {},
     "output_type": "execute_result",
     "execution_count": 4
    }
   ],
   "source": [
    "train.head()"
   ]
  },
  {
   "cell_type": "code",
   "execution_count": 5,
   "metadata": {
    "pycharm": {
     "is_executing": false
    }
   },
   "outputs": [
    {
     "name": "stdout",
     "text": [
      "<class 'pandas.core.frame.DataFrame'>\n",
      "RangeIndex: 891 entries, 0 to 890\n",
      "Data columns (total 12 columns):\n",
      " #   Column       Non-Null Count  Dtype  \n",
      "---  ------       --------------  -----  \n",
      " 0   PassengerId  891 non-null    int64  \n",
      " 1   Survived     891 non-null    int64  \n",
      " 2   Pclass       891 non-null    int64  \n",
      " 3   Name         891 non-null    object \n",
      " 4   Sex          891 non-null    object \n",
      " 5   Age          714 non-null    float64\n",
      " 6   SibSp        891 non-null    int64  \n",
      " 7   Parch        891 non-null    int64  \n",
      " 8   Ticket       891 non-null    object \n",
      " 9   Fare         891 non-null    float64\n",
      " 10  Cabin        204 non-null    object \n",
      " 11  Embarked     889 non-null    object \n",
      "dtypes: float64(2), int64(5), object(5)\n",
      "memory usage: 83.7+ KB\n"
     ],
     "output_type": "stream"
    }
   ],
   "source": [
    "train.info()"
   ]
  },
  {
   "cell_type": "code",
   "execution_count": 6,
   "metadata": {
    "pycharm": {
     "is_executing": false
    }
   },
   "outputs": [],
   "source": [
    "train['Age'].fillna(train['Age'].mean(), inplace=True)\n",
    "test['Age'].fillna(test['Age'].mean(), inplace=True)\n",
    "\n",
    "test['Fare'].fillna(test['Fare'].mean(), inplace=True)\n",
    "\n",
    "train['Embarked'].fillna(train['Embarked'].value_counts().reset_index()['index'][0], inplace=True)\n",
    "test['Embarked'].fillna(train['Embarked'].value_counts().reset_index()['index'][0], inplace=True)\n",
    "\n",
    "train = train.set_index('PassengerId')\n",
    "test = test.set_index('PassengerId')"
   ]
  },
  {
   "cell_type": "code",
   "execution_count": 7,
   "metadata": {
    "pycharm": {
     "is_executing": false
    }
   },
   "outputs": [],
   "source": [
    "features = ['Pclass', 'Sex', 'Age', 'SibSp', 'Parch', 'Fare', 'Embarked']\n",
    "train_features = train[features]\n",
    "test_features = test[features]\n",
    "train_label = train['Survived']"
   ]
  },
  {
   "cell_type": "code",
   "execution_count": 8,
   "metadata": {
    "pycharm": {
     "is_executing": false
    }
   },
   "outputs": [],
   "source": [
    "dvec = DictVectorizer(sparse=False)\n",
    "train_features = dvec.fit_transform(train_features.to_dict(orient='record'))\n",
    "test_features = dvec.transform(test_features.to_dict(orient='record'))"
   ]
  },
  {
   "cell_type": "code",
   "execution_count": 9,
   "metadata": {
    "pycharm": {
     "is_executing": false
    }
   },
   "outputs": [
    {
     "data": {
      "text/plain": "HBox(children=(FloatProgress(value=0.0, description='Optimization Progress', max=180.0, style=ProgressStyle(de…",
      "application/vnd.jupyter.widget-view+json": {
       "version_major": 2,
       "version_minor": 0,
       "model_id": "e2f535758d5d4c28b7275704b780a415"
      }
     },
     "metadata": {},
     "output_type": "display_data"
    },
    {
     "name": "stdout",
     "text": [
      "Generation 1 - Current best internal CV score: 0.8204569706860838\n",
      "Generation 2 - Current best internal CV score: 0.8260561170045821\n",
      "Generation 3 - Current best internal CV score: 0.827185989580064\n",
      "Generation 4 - Current best internal CV score: 0.831680371602536\n",
      "Generation 5 - Current best internal CV score: 0.8361684765551439\n",
      "\r\n",
      "Best pipeline: DecisionTreeClassifier(RandomForestClassifier(input_matrix, bootstrap=True, criterion=gini, max_features=0.7000000000000001, min_samples_leaf=3, min_samples_split=7, n_estimators=100), criterion=entropy, max_depth=3, min_samples_leaf=14, min_samples_split=16)\n"
     ],
     "output_type": "stream"
    }
   ],
   "source": [
    "# TPOT\n",
    "tpot = TPOTClassifier(generations=5, population_size=30, verbosity=2)\n",
    "tpot.fit(train_features, train_label)\n",
    "#tpot.export('tpot_titanic_pipeline1.py')\n",
    "tpot_predict = tpot.predict(test_features)\n",
    "tpot_predict = pd.DataFrame(tpot_predict, index=test.index, columns=['tpot_predict'])"
   ]
  },
  {
   "cell_type": "code",
   "execution_count": 137,
   "metadata": {},
   "outputs": [
    {
     "name": "stdout",
     "output_type": "stream",
     "text": [
      "score准确率为 0.7868\n",
      "cross_val_score准确率为 0.7867\n"
     ]
    }
   ],
   "source": [
    "# 朴素贝叶斯\n",
    "clf = BernoulliNB()\n",
    "clf.fit(train_features, train_label)\n",
    "results = clf.predict(test_features)\n",
    "results = pd.DataFrame(results, index=test.index, columns=['NB_predict'])\n",
    "# 得到准确率(基于训练集)\n",
    "acc_nb = round(clf.score(train_features, train_label), 6)\n",
    "print(u'score准确率为 %.4lf' % acc_nb)\n",
    "# 使用K折交叉验证 统计准确率\n",
    "print(u'cross_val_score准确率为 %.4lf' % np.mean(cross_val_score(clf, train_features, train_label, cv=10)))"
   ]
  },
  {
   "cell_type": "code",
   "execution_count": 138,
   "metadata": {},
   "outputs": [
    {
     "name": "stdout",
     "output_type": "stream",
     "text": [
      "score准确率为 0.8036\n",
      "cross_val_score准确率为 0.7946\n"
     ]
    }
   ],
   "source": [
    "# Logistic Regression\n",
    "lr = LogisticRegression(solver='liblinear', multi_class='auto')\n",
    "lr.fit(train_features, train_label)\n",
    "lr_predict = lr.predict(test_features)\n",
    "lr_predict = pd.DataFrame(lr_predict, index=test.index, columns=['lr_predict'])\n",
    "# 得到准确率(基于训练集)\n",
    "acc_lr = round(lr.score(train_features, train_label), 6)\n",
    "print(u'score准确率为 %.4lf' % acc_lr)\n",
    "# 使用K折交叉验证 统计准确率\n",
    "print(u'cross_val_score准确率为 %.4lf' % np.mean(cross_val_score(lr, train_features, train_label, cv=10)))"
   ]
  },
  {
   "cell_type": "code",
   "execution_count": 139,
   "metadata": {},
   "outputs": [
    {
     "name": "stdout",
     "output_type": "stream",
     "text": [
      "score准确率为 0.9820\n",
      "cross_val_score准确率为 0.7756\n"
     ]
    }
   ],
   "source": [
    "# CART\n",
    "dt = DecisionTreeClassifier()\n",
    "dt.fit(train_features, train_label)\n",
    "dt_predict = dt.predict(test_features)\n",
    "dt_predict = pd.DataFrame(dt_predict, index=test.index, columns=['dt_predict'])\n",
    "# 得到准确率(基于训练集)\n",
    "acc_dt = round(dt.score(train_features, train_label), 6)\n",
    "print(u'score准确率为 %.4lf' % acc_dt)\n",
    "# 使用K折交叉验证 统计准确率\n",
    "print(u'cross_val_score准确率为 %.4lf' % np.mean(cross_val_score(dt, train_features, train_label, cv=10)))"
   ]
  },
  {
   "cell_type": "code",
   "execution_count": 140,
   "metadata": {},
   "outputs": [
    {
     "name": "stdout",
     "output_type": "stream",
     "text": [
      "score准确率为 0.7991\n",
      "cross_val_score准确率为 0.7924\n"
     ]
    }
   ],
   "source": [
    "# LDA\n",
    "lda = LinearDiscriminantAnalysis()\n",
    "lda.fit(train_features, train_label)\n",
    "lda_predict = lda.predict(test_features)\n",
    "lda_predict = pd.DataFrame(lda_predict, index=test.index, columns=['lda_predict'])\n",
    "# 得到准确率(基于训练集)\n",
    "acc_lda = round(lda.score(train_features, train_label), 6)\n",
    "print(u'score准确率为 %.4lf' % acc_lda)\n",
    "# 使用K折交叉验证 统计准确率\n",
    "print(u'cross_val_score准确率为 %.4lf' % np.mean(cross_val_score(lda, train_features, train_label, cv=10)))"
   ]
  },
  {
   "cell_type": "code",
   "execution_count": 141,
   "metadata": {},
   "outputs": [
    {
     "name": "stdout",
     "output_type": "stream",
     "text": [
      "score准确率为 0.8900\n",
      "cross_val_score准确率为 0.7285\n"
     ]
    }
   ],
   "source": [
    "# SVM\n",
    "svm0 = svm.SVC(kernel='rbf', C=1.0, gamma='auto')\n",
    "svm0.fit(train_features, train_label)\n",
    "svm_predict = svm0.predict(test_features)\n",
    "svm_predict = pd.DataFrame(svm_predict, index=test.index, columns=['svm_predict'])\n",
    "# 得到准确率(基于训练集)\n",
    "acc_svm = round(svm0.score(train_features, train_label), 6)\n",
    "print(u'score准确率为 %.4lf' % acc_svm)\n",
    "# 使用K折交叉验证 统计准确率\n",
    "print(u'cross_val_score准确率为 %.4lf' % np.mean(cross_val_score(svm0, train_features, train_label, cv=10)))"
   ]
  },
  {
   "cell_type": "code",
   "execution_count": 142,
   "metadata": {},
   "outputs": [
    {
     "name": "stdout",
     "output_type": "stream",
     "text": [
      "score准确率为 0.8193\n",
      "cross_val_score准确率为 0.7094\n"
     ]
    }
   ],
   "source": [
    "# KNN\n",
    "knn = KNeighborsClassifier()\n",
    "knn.fit(train_features, train_label)\n",
    "knn_predict = knn.predict(test_features)\n",
    "knn_predict = pd.DataFrame(knn_predict, index=test.index, columns=['knn_predict'])\n",
    "# 得到准确率(基于训练集)\n",
    "acc_knn = round(knn.score(train_features, train_label), 6)\n",
    "print(u'score准确率为 %.4lf' % acc_knn)\n",
    "# 使用K折交叉验证 统计准确率\n",
    "print(u'cross_val_score准确率为 %.4lf' % np.mean(cross_val_score(knn, train_features, train_label, cv=10)))"
   ]
  },
  {
   "cell_type": "code",
   "execution_count": 143,
   "metadata": {},
   "outputs": [
    {
     "name": "stdout",
     "output_type": "stream",
     "text": [
      "score准确率为 0.9820\n",
      "cross_val_score准确率为 0.7913\n"
     ]
    }
   ],
   "source": [
    "# Adaboost\n",
    "dt_stump = DecisionTreeClassifier(max_depth=5,min_samples_leaf=1)\n",
    "dt_stump.fit(train_features, train_label)\n",
    "\n",
    "n_estimators=500\n",
    "ada = AdaBoostClassifier(base_estimator=dt_stump,n_estimators=n_estimators)\n",
    "ada.fit(train_features, train_label)\n",
    "ada_predict = ada.predict(test_features)\n",
    "ada_predict = pd.DataFrame(ada_predict, index=test.index, columns=['ada_predict'])\n",
    "# 得到准确率(基于训练集)\n",
    "acc_ada = round(ada.score(train_features, train_label), 6)\n",
    "print(u'score准确率为 %.4lf' % acc_ada)\n",
    "# 使用K折交叉验证 统计准确率\n",
    "print(u'cross_val_score准确率为 %.4lf' % np.mean(cross_val_score(ada, train_features, train_label, cv=10)))"
   ]
  },
  {
   "cell_type": "code",
   "execution_count": 144,
   "metadata": {},
   "outputs": [
    {
     "name": "stdout",
     "output_type": "stream",
     "text": [
      "score准确率为 0.8721\n",
      "cross_val_score准确率为 0.8227\n"
     ]
    }
   ],
   "source": [
    "# XGBoost\n",
    "xgb = XGBClassifier()\n",
    "xgb.fit(train_features, train_label)\n",
    "xgb_predict = xgb.predict(test_features)\n",
    "xgb_predict = pd.DataFrame(xgb_predict, index=test.index, columns=['xgb_predict'])\n",
    "# 得到准确率(基于训练集)\n",
    "acc_xgb = round(xgb.score(train_features, train_label), 6)\n",
    "print(u'score准确率为 %.4lf' % acc_xgb)\n",
    "# 使用K折交叉验证 统计准确率\n",
    "print(u'cross_val_score准确率为 %.4lf' % np.mean(cross_val_score(xgb, train_features, train_label, cv=10)))"
   ]
  },
  {
   "cell_type": "code",
   "execution_count": 145,
   "metadata": {},
   "outputs": [
    {
     "name": "stdout",
     "output_type": "stream",
     "text": [
      "             tpot_predict  NB_predict  lr_predict  dt_predict  lda_predict  \\\n",
      "PassengerId                                                                  \n",
      "892                     0           0           0           0            0   \n",
      "893                     0           1           0           0            0   \n",
      "894                     0           0           0           1            0   \n",
      "895                     0           0           0           1            0   \n",
      "896                     1           1           1           1            1   \n",
      "...                   ...         ...         ...         ...          ...   \n",
      "1305                    0           0           0           0            0   \n",
      "1306                    1           1           1           1            1   \n",
      "1307                    0           0           0           0            0   \n",
      "1308                    0           0           0           0            0   \n",
      "1309                    0           0           0           0            0   \n",
      "\n",
      "             svm_predict  knn_predict  ada_predict  xgb_predict  \n",
      "PassengerId                                                      \n",
      "892                    0            0            0            0  \n",
      "893                    0            0            0            0  \n",
      "894                    1            0            1            0  \n",
      "895                    0            0            1            0  \n",
      "896                    0            0            0            0  \n",
      "...                  ...          ...          ...          ...  \n",
      "1305                   0            0            0            0  \n",
      "1306                   1            1            1            1  \n",
      "1307                   0            0            0            0  \n",
      "1308                   0            0            0            0  \n",
      "1309                   0            0            0            0  \n",
      "\n",
      "[418 rows x 9 columns]\n"
     ]
    }
   ],
   "source": [
    "predict_results = pd.concat([tpot_predict, results, lr_predict, dt_predict, lda_predict, svm_predict, knn_predict, ada_predict, xgb_predict], axis=1)\n",
    "print(predict_results)"
   ]
  }
 ],
 "metadata": {
  "kernelspec": {
   "display_name": "Python 3",
   "language": "python",
   "name": "python3"
  },
  "language_info": {
   "codemirror_mode": {
    "name": "ipython",
    "version": 3
   },
   "file_extension": ".py",
   "mimetype": "text/x-python",
   "name": "python",
   "nbconvert_exporter": "python",
   "pygments_lexer": "ipython3",
   "version": "3.7.4"
  },
  "pycharm": {
   "stem_cell": {
    "cell_type": "raw",
    "source": [],
    "metadata": {
     "collapsed": false
    }
   }
  }
 },
 "nbformat": 4,
 "nbformat_minor": 4
}