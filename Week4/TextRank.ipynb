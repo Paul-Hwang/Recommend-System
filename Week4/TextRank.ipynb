{
 "cells": [
  {
   "cell_type": "code",
   "execution_count": 32,
   "metadata": {},
   "outputs": [],
   "source": [
    "import jieba\n",
    "from textrank4zh import TextRank4Keyword, TextRank4Sentence\n",
    "from snownlp import SnowNLP"
   ]
  },
  {
   "cell_type": "code",
   "execution_count": 33,
   "metadata": {},
   "outputs": [],
   "source": [
    "raw_text = open('news.txt', 'r')\n",
    "text = ''\n",
    "for line in raw_text.readlines():\n",
    "    text += line.split('\\n')[0]"
   ]
  },
  {
   "cell_type": "code",
   "execution_count": 34,
   "metadata": {},
   "outputs": [
    {
     "name": "stdout",
     "output_type": "stream",
     "text": [
      "今天 ， 武汉市 教育局 发出 《 关于 延迟 2020 年 春季 开学 时间 有关 工作 的 通知 》 ， 延迟 全市 中小学 、 市属 大中专 院校 2020 年 春季 开学 时间 。 具体 开学 时间 将视 武汉市 新冠 肺炎 疫情 发展 和 防控 情况 ， 请示 上级 同意 后 另行通知 。 2 月 10 日前 ， 各 单位 严格 按照 要求 ， 做好 假期 各项 工作 。 2 月 10 日 开始 ， 各区 教育局 组织 辖区 中小学 、 中职 学校 ， 按照 教学计划 安排 ， 开展 在线 课程 教学 （ 方案 另发 ） 。 正式 开学 前 ， 严禁 市属 各级 各类 学校 组织 各类 线下 课程 教学 、 培训 和 集体 活动 。 各区 教育局 要 指导 辖区 中小学 、 幼儿园 ， 合理 制定 学生 学习 计划 和 生活 指南 ， 指导 学生 安排 好 居家 学习 和 生活 ； 要 关注 学生 心理健康 ， 建立 离校 学生 情况 日报 制度 ， 定期 向 学生 了解 相关 情况 ， 通过 电话 、 网络 等 各种 方式 做好 学生 的 个性化 辅导 。\n"
     ]
    }
   ],
   "source": [
    "seg_text = jieba.cut(text, cut_all=False)\n",
    "print(' '.join(seg_text))"
   ]
  },
  {
   "cell_type": "code",
   "execution_count": 35,
   "metadata": {},
   "outputs": [
    {
     "data": {
      "text/plain": [
       "\"words = jieba.posseg.cut(text)\\nfor word, flag in words:\\n    print('%s %s' % (word, flag))\""
      ]
     },
     "execution_count": 35,
     "metadata": {},
     "output_type": "execute_result"
    }
   ],
   "source": [
    "'''words = jieba.posseg.cut(text)\n",
    "for word, flag in words:\n",
    "    print('%s %s' % (word, flag))'''"
   ]
  },
  {
   "cell_type": "code",
   "execution_count": 36,
   "metadata": {},
   "outputs": [
    {
     "name": "stdout",
     "output_type": "stream",
     "text": [
      "开学 0.4656613377625641\n",
      "学生 0.44332937091692304\n",
      "教育局 0.3445782780526923\n",
      "市属 0.2359024945174359\n",
      "武汉市 0.22645572948102563\n",
      "延迟 0.2261352124869231\n",
      "辖区 0.2094188814123077\n",
      "课程 0.20689218396641026\n",
      "教学 0.1898436579946154\n",
      "做好 0.16388057399897435\n",
      "指导 0.16343487411846153\n",
      "时间 0.15690537047923078\n",
      "中职 0.15524254080384617\n",
      "情况 0.15412463212653846\n",
      "新冠 0.15326625003717947\n",
      "学习 0.14813127735666667\n",
      "安排 0.1480326433148718\n",
      "学校 0.14595348462153845\n",
      "教学计划 0.14046459836923075\n",
      "心理健康 0.13980699203076924\n",
      "----------------------------------------------------------------------------------------------------\n"
     ]
    }
   ],
   "source": [
    "# 通过TF-IDF获取关键词\n",
    "keywords = jieba.analyse.extract_tags(text, topK=20, withWeight=True, allowPOS=('n','nr','ns', 'v'))\n",
    "for item in keywords:\n",
    "    print(item[0],item[1])\n",
    "print('-'*100)"
   ]
  },
  {
   "cell_type": "code",
   "execution_count": 37,
   "metadata": {},
   "outputs": [
    {
     "name": "stdout",
     "output_type": "stream",
     "text": [
      "[('学生', 1.0), ('开学', 0.5499444023730604), ('学校', 0.4851133917752207), ('情况', 0.47130053366132446), ('时间', 0.4681864639497417), ('教学', 0.4188690084568839), ('课程', 0.41511097209631714), ('武汉市', 0.3948466730324292), ('离校', 0.3922101402905273), ('辖区', 0.3817037199615145), ('教育局', 0.3723714419247294), ('指导', 0.37006837651137064), ('市属', 0.34353442623745256), ('制度', 0.3235878946382022), ('疫情', 0.28038664165695326), ('新冠', 0.27144248430878565), ('日报', 0.26841089906262905), ('方式', 0.26564371007396104), ('中职', 0.25727945239450994), ('线下', 0.2543477829431509)]\n",
      "学生 1.0\n",
      "开学 0.5499444023730604\n",
      "学校 0.4851133917752207\n",
      "情况 0.47130053366132446\n",
      "时间 0.4681864639497417\n",
      "教学 0.4188690084568839\n",
      "课程 0.41511097209631714\n",
      "武汉市 0.3948466730324292\n",
      "离校 0.3922101402905273\n",
      "辖区 0.3817037199615145\n",
      "教育局 0.3723714419247294\n",
      "指导 0.37006837651137064\n",
      "市属 0.34353442623745256\n",
      "制度 0.3235878946382022\n",
      "疫情 0.28038664165695326\n",
      "新冠 0.27144248430878565\n",
      "日报 0.26841089906262905\n",
      "方式 0.26564371007396104\n",
      "中职 0.25727945239450994\n",
      "线下 0.2543477829431509\n"
     ]
    }
   ],
   "source": [
    "# 基于TextRank算法的关键词抽取\n",
    "keywords = jieba.analyse.textrank(text, topK=20, withWeight=True, allowPOS=('n', 'ns'))\n",
    "print(keywords)\n",
    "for item in keywords:\n",
    "    print(item[0],item[1])"
   ]
  },
  {
   "cell_type": "code",
   "execution_count": 38,
   "metadata": {},
   "outputs": [
    {
     "name": "stdout",
     "output_type": "stream",
     "text": [
      "关键词：\n",
      "学生 0.06094147783167887\n",
      "情况 0.03322053493089593\n",
      "中小学 0.032725665441405545\n",
      "教学 0.023397301538669237\n",
      "教育局 0.02190823215813645\n",
      "做好 0.02093989243160494\n",
      "武汉市 0.02052552460004262\n",
      "指导 0.020403659215736274\n",
      "延迟 0.019289766539730153\n",
      "课程 0.018998299826258294\n",
      "安排 0.01867399264408962\n",
      "市属 0.01825369135059241\n",
      "时间 0.01816420728763171\n",
      "辖区 0.01802758823846917\n",
      "工作 0.017825859653292607\n",
      "培训 0.01649540288582155\n",
      "组织 0.015894476153464735\n",
      "开学 0.01572321872998555\n",
      "学校 0.015675777298719915\n",
      "学习 0.015643180999411893\n"
     ]
    }
   ],
   "source": [
    "# textrank4zh\n",
    "# 输出关键词，设置文本小写，窗口为2\n",
    "tr4w = TextRank4Keyword()\n",
    "tr4w.analyze(text=text, lower=True, window=3)\n",
    "print('关键词：')\n",
    "for item in tr4w.get_keywords(20, word_min_len=2):\n",
    "    print(item.word, item.weight)"
   ]
  },
  {
   "cell_type": "code",
   "execution_count": 39,
   "metadata": {},
   "outputs": [
    {
     "name": "stdout",
     "output_type": "stream",
     "text": [
      "摘要：\n",
      "0 0.16736862381514578 今天，武汉市教育局发出《关于延迟2020年春季开学时间有关工作的通知》，延迟全市中小学、市属大中专院校2020年春季开学时间\n",
      "3 0.16121904336116283 2月10日开始，各区教育局组织辖区中小学、中职学校，按照教学计划安排，开展在线课程教学（方案另发）\n",
      "6 0.14645271233055304 要关注学生心理健康，建立离校学生情况日报制度，定期向学生了解相关情况，通过电话、网络等各种方式做好学生的个性化辅导\n"
     ]
    }
   ],
   "source": [
    "# 输出重要的句子\n",
    "tr4s = TextRank4Sentence()\n",
    "tr4s.analyze(text=text, lower=True, source = 'all_filters')\n",
    "print('摘要：')\n",
    "# 重要性较高的三个句子\n",
    "for item in tr4s.get_key_sentences(num=3):\n",
    "    # index是语句在文本中位置，weight表示权重\n",
    "    print(item.index, item.weight, item.sentence)"
   ]
  },
  {
   "cell_type": "code",
   "execution_count": 45,
   "metadata": {},
   "outputs": [
    {
     "name": "stdout",
     "output_type": "stream",
     "text": [
      "['学生', '中小学', '情况', '开学', '教学', '组织', '课程', '做好', '教育局', '市属', '2020', '迟', '武汉市', '年', '时间', '学校', '春季', '通知', '指导', '生活']\n",
      "['武汉市教育局发出《关于延迟2020年春季开学时间有关工作的通知》', '指导学生安排好居家学习和生活', '延迟全市中小学、市属大中专院校2020年春季开学时间', '合理制定学生学习计划和生活指南', '各区教育局组织辖区中小学、中职学校', '各区教育局要指导辖区中小学、幼儿园', '按照教学计划安排', '2月10日前', '2月10日开始', '定期向学生了解相关情况']\n",
      "0.9999999102551212\n"
     ]
    }
   ],
   "source": [
    "snow = SnowNLP(text)\n",
    "# 打印关键词\n",
    "print(snow.keywords(20))\n",
    "\n",
    "# TextRank算法\n",
    "print(snow.summary(10))\n",
    "print(snow.sentiments)"
   ]
  }
 ],
 "metadata": {
  "kernelspec": {
   "display_name": "Python 3",
   "language": "python",
   "name": "python3"
  },
  "language_info": {
   "codemirror_mode": {
    "name": "ipython",
    "version": 3
   },
   "file_extension": ".py",
   "mimetype": "text/x-python",
   "name": "python",
   "nbconvert_exporter": "python",
   "pygments_lexer": "ipython3",
   "version": "3.7.4"
  },
  "pycharm": {
   "stem_cell": {
    "cell_type": "raw",
    "source": [],
    "metadata": {
     "collapsed": false
    }
   }
  }
 },
 "nbformat": 4,
 "nbformat_minor": 4
}