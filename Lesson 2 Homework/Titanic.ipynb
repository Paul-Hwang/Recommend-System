{
 "cells": [
  {
   "cell_type": "code",
   "execution_count": 74,
   "metadata": {},
   "outputs": [],
   "source": [
    "import pandas as pd\n",
    "import numpy as np\n",
    "from sklearn.feature_extraction import DictVectorizer\n",
    "from tpot import TPOTClassifier\n",
    "from sklearn.naive_bayes import BernoulliNB\n",
    "from sklearn.linear_model import LogisticRegression\n",
    "from sklearn.tree import DecisionTreeClassifier\n",
    "from sklearn.discriminant_analysis import LinearDiscriminantAnalysis  \n",
    "from sklearn import svm\n",
    "from sklearn.neighbors import KNeighborsClassifier\n",
    "from sklearn.ensemble import  AdaBoostClassifier\n",
    "from xgboost import XGBClassifier\n",
    "from sklearn.model_selection import cross_val_score"
   ]
  },
  {
   "cell_type": "code",
   "execution_count": 64,
   "metadata": {},
   "outputs": [],
   "source": [
    "train = pd.read_csv('./train.csv')\n",
    "test = pd.read_csv('./test.csv')"
   ]
  },
  {
   "cell_type": "code",
   "execution_count": 65,
   "metadata": {},
   "outputs": [
    {
     "name": "stdout",
     "output_type": "stream",
     "text": [
      "<class 'pandas.core.frame.DataFrame'>\n",
      "RangeIndex: 891 entries, 0 to 890\n",
      "Data columns (total 12 columns):\n",
      "PassengerId    891 non-null int64\n",
      "Survived       891 non-null int64\n",
      "Pclass         891 non-null int64\n",
      "Name           891 non-null object\n",
      "Sex            891 non-null object\n",
      "Age            714 non-null float64\n",
      "SibSp          891 non-null int64\n",
      "Parch          891 non-null int64\n",
      "Ticket         891 non-null object\n",
      "Fare           891 non-null float64\n",
      "Cabin          204 non-null object\n",
      "Embarked       889 non-null object\n",
      "dtypes: float64(2), int64(5), object(5)\n",
      "memory usage: 83.7+ KB\n"
     ]
    }
   ],
   "source": [
    "train.info()"
   ]
  },
  {
   "cell_type": "code",
   "execution_count": 66,
   "metadata": {},
   "outputs": [],
   "source": [
    "train['Age'].fillna(train['Age'].mean(), inplace=True)\n",
    "test['Age'].fillna(test['Age'].mean(), inplace=True)\n",
    "\n",
    "test['Fare'].fillna(test['Fare'].mean(), inplace=True)\n",
    "\n",
    "train['Embarked'].fillna(train['Embarked'].value_counts().reset_index()['index'][0], inplace=True)\n",
    "test['Embarked'].fillna(train['Embarked'].value_counts().reset_index()['index'][0], inplace=True)"
   ]
  },
  {
   "cell_type": "code",
   "execution_count": 67,
   "metadata": {},
   "outputs": [],
   "source": [
    "features = ['Pclass', 'Sex', 'Age', 'SibSp', 'Parch', 'Fare', 'Embarked']\n",
    "train_features = train[features]\n",
    "test_features = test[features]\n",
    "train_label = train['Survived']"
   ]
  },
  {
   "cell_type": "code",
   "execution_count": 68,
   "metadata": {},
   "outputs": [],
   "source": [
    "dvec = DictVectorizer(sparse=False)\n",
    "train_features = dvec.fit_transform(train_features.to_dict(orient='record'))\n",
    "test_features = dvec.transform(test_features.to_dict(orient='record'))"
   ]
  },
  {
   "cell_type": "code",
   "execution_count": 69,
   "metadata": {},
   "outputs": [
    {
     "data": {
      "application/vnd.jupyter.widget-view+json": {
       "model_id": "eeaee207cf0445e3a72cb4613cf001dd",
       "version_major": 2,
       "version_minor": 0
      },
      "text/plain": [
       "HBox(children=(IntProgress(value=0, description='Optimization Progress', max=1530, style=ProgressStyle(descrip…"
      ]
     },
     "metadata": {},
     "output_type": "display_data"
    },
    {
     "name": "stdout",
     "output_type": "stream",
     "text": [
      "Generation 1 - Current best internal CV score: 0.8439897056054233\n",
      "Generation 2 - Current best internal CV score: 0.8439897056054233\n",
      "Generation 3 - Current best internal CV score: 0.8439897056054233\n",
      "Generation 4 - Current best internal CV score: 0.8439897056054233\n",
      "Generation 5 - Current best internal CV score: 0.8439897056054233\n",
      "Generation 6 - Current best internal CV score: 0.8439897056054233\n",
      "Generation 7 - Current best internal CV score: 0.8439897056054233\n",
      "Generation 8 - Current best internal CV score: 0.8439897056054233\n",
      "Generation 9 - Current best internal CV score: 0.8439897056054233\n",
      "Generation 10 - Current best internal CV score: 0.8439897056054233\n",
      "Generation 11 - Current best internal CV score: 0.8439897056054233\n",
      "Generation 12 - Current best internal CV score: 0.8439897056054233\n",
      "Generation 13 - Current best internal CV score: 0.8439897056054233\n",
      "Generation 14 - Current best internal CV score: 0.8439897056054233\n",
      "Generation 15 - Current best internal CV score: 0.8439897056054233\n",
      "Generation 16 - Current best internal CV score: 0.8439897056054233\n",
      "Generation 17 - Current best internal CV score: 0.8439897056054233\n",
      "Generation 18 - Current best internal CV score: 0.8439897056054233\n",
      "Generation 19 - Current best internal CV score: 0.8439897056054233\n",
      "Generation 20 - Current best internal CV score: 0.8439897056054233\n",
      "Generation 21 - Current best internal CV score: 0.8439897056054233\n",
      "Generation 22 - Current best internal CV score: 0.8462620048961144\n",
      "Generation 23 - Current best internal CV score: 0.8462620048961144\n",
      "Generation 24 - Current best internal CV score: 0.8462620048961144\n",
      "Generation 25 - Current best internal CV score: 0.8462620048961144\n",
      "Generation 26 - Current best internal CV score: 0.8462620048961144\n",
      "Generation 27 - Current best internal CV score: 0.8462620048961144\n",
      "Generation 28 - Current best internal CV score: 0.8462620048961144\n",
      "Generation 29 - Current best internal CV score: 0.8462620048961144\n",
      "Generation 30 - Current best internal CV score: 0.8462620048961144\n",
      "Generation 31 - Current best internal CV score: 0.8462620048961144\n",
      "Generation 32 - Current best internal CV score: 0.8462620048961144\n",
      "Generation 33 - Current best internal CV score: 0.8462620048961144\n",
      "Generation 34 - Current best internal CV score: 0.8462620048961144\n",
      "Generation 35 - Current best internal CV score: 0.8462620048961144\n",
      "Generation 36 - Current best internal CV score: 0.8462620048961144\n",
      "Generation 37 - Current best internal CV score: 0.8462620048961144\n",
      "Generation 38 - Current best internal CV score: 0.8462620048961144\n",
      "Generation 39 - Current best internal CV score: 0.8462620048961144\n",
      "Generation 40 - Current best internal CV score: 0.8462620048961144\n",
      "Generation 41 - Current best internal CV score: 0.8462620048961144\n",
      "Generation 42 - Current best internal CV score: 0.8462620048961144\n",
      "Generation 43 - Current best internal CV score: 0.8462620048961144\n",
      "Generation 44 - Current best internal CV score: 0.8462620048961144\n",
      "Generation 45 - Current best internal CV score: 0.8462620048961144\n",
      "Generation 46 - Current best internal CV score: 0.8462620048961144\n",
      "Generation 47 - Current best internal CV score: 0.8462620048961144\n",
      "Generation 48 - Current best internal CV score: 0.8462620048961144\n",
      "Generation 49 - Current best internal CV score: 0.8462620048961144\n",
      "Generation 50 - Current best internal CV score: 0.8462620048961144\n",
      "\n",
      "Best pipeline: GradientBoostingClassifier(input_matrix, learning_rate=0.1, max_depth=5, max_features=0.55, min_samples_leaf=5, min_samples_split=3, n_estimators=100, subsample=0.7000000000000001)\n"
     ]
    }
   ],
   "source": [
    "# TPOT\n",
    "tpot = TPOTClassifier(generations=50, population_size=30, verbosity=2)\n",
    "tpot.fit(train_features, train_label)\n",
    "tpot.export('tpot_titanic_pipeline1.py')"
   ]
  },
  {
   "cell_type": "code",
   "execution_count": 75,
   "metadata": {},
   "outputs": [
    {
     "name": "stdout",
     "output_type": "stream",
     "text": [
      "score准确率为 0.7868\n",
      "cross_val_score准确率为 0.7867\n"
     ]
    }
   ],
   "source": [
    "# 朴素贝叶斯\n",
    "clf = BernoulliNB()\n",
    "clf.fit(train_features, train_label)\n",
    "results = clf.predict(test_features)\n",
    "# 得到准确率(基于训练集)\n",
    "acc_nb = round(clf.score(train_features, train_label), 6)\n",
    "print(u'score准确率为 %.4lf' % acc_nb)\n",
    "# 使用K折交叉验证 统计准确率\n",
    "print(u'cross_val_score准确率为 %.4lf' % np.mean(cross_val_score(clf, train_features, train_label, cv=10)))"
   ]
  },
  {
   "cell_type": "code",
   "execution_count": 77,
   "metadata": {},
   "outputs": [
    {
     "name": "stdout",
     "output_type": "stream",
     "text": [
      "score准确率为 0.8036\n",
      "cross_val_score准确率为 0.7946\n"
     ]
    }
   ],
   "source": [
    "# Logistic Regression\n",
    "lr = LogisticRegression(solver='liblinear', multi_class='auto')\n",
    "lr.fit(train_features, train_label)\n",
    "lr_predict = lr.predict(test_features)\n",
    "# 得到准确率(基于训练集)\n",
    "acc_lr = round(lr.score(train_features, train_label), 6)\n",
    "print(u'score准确率为 %.4lf' % acc_lr)\n",
    "# 使用K折交叉验证 统计准确率\n",
    "print(u'cross_val_score准确率为 %.4lf' % np.mean(cross_val_score(lr, train_features, train_label, cv=10)))"
   ]
  },
  {
   "cell_type": "code",
   "execution_count": 78,
   "metadata": {},
   "outputs": [
    {
     "name": "stdout",
     "output_type": "stream",
     "text": [
      "score准确率为 0.9820\n",
      "cross_val_score准确率为 0.7868\n"
     ]
    }
   ],
   "source": [
    "# CART\n",
    "dt = DecisionTreeClassifier()\n",
    "dt.fit(train_features, train_label)\n",
    "dt_predict = dt.predict(test_features)\n",
    "# 得到准确率(基于训练集)\n",
    "acc_dt = round(dt.score(train_features, train_label), 6)\n",
    "print(u'score准确率为 %.4lf' % acc_dt)\n",
    "# 使用K折交叉验证 统计准确率\n",
    "print(u'cross_val_score准确率为 %.4lf' % np.mean(cross_val_score(dt, train_features, train_label, cv=10)))"
   ]
  },
  {
   "cell_type": "code",
   "execution_count": 82,
   "metadata": {},
   "outputs": [
    {
     "name": "stdout",
     "output_type": "stream",
     "text": [
      "score准确率为 0.7991\n",
      "cross_val_score准确率为 0.7924\n"
     ]
    }
   ],
   "source": [
    "# LDA\n",
    "lda = LinearDiscriminantAnalysis()\n",
    "lda.fit(train_features, train_label)\n",
    "lda_predict = lda.predict(test_features)\n",
    "# 得到准确率(基于训练集)\n",
    "acc_lda = round(lda.score(train_features, train_label), 6)\n",
    "print(u'score准确率为 %.4lf' % acc_lda)\n",
    "# 使用K折交叉验证 统计准确率\n",
    "print(u'cross_val_score准确率为 %.4lf' % np.mean(cross_val_score(lda, train_features, train_label, cv=10)))"
   ]
  },
  {
   "cell_type": "code",
   "execution_count": 83,
   "metadata": {},
   "outputs": [
    {
     "name": "stdout",
     "output_type": "stream",
     "text": [
      "score准确率为 0.8900\n",
      "cross_val_score准确率为 0.7285\n"
     ]
    }
   ],
   "source": [
    "# SVM\n",
    "svm0 = svm.SVC(kernel='rbf', C=1.0, gamma='auto')\n",
    "svm0.fit(train_features, train_label)\n",
    "svm_predict = svm0.predict(test_features)\n",
    "# 得到准确率(基于训练集)\n",
    "acc_svm = round(svm0.score(train_features, train_label), 6)\n",
    "print(u'score准确率为 %.4lf' % acc_svm)\n",
    "# 使用K折交叉验证 统计准确率\n",
    "print(u'cross_val_score准确率为 %.4lf' % np.mean(cross_val_score(svm0, train_features, train_label, cv=10)))"
   ]
  },
  {
   "cell_type": "code",
   "execution_count": 84,
   "metadata": {},
   "outputs": [
    {
     "name": "stdout",
     "output_type": "stream",
     "text": [
      "score准确率为 0.8193\n",
      "cross_val_score准确率为 0.7094\n"
     ]
    }
   ],
   "source": [
    "# KNN\n",
    "knn = KNeighborsClassifier()\n",
    "knn.fit(train_features, train_label)\n",
    "knn_predict = knn.predict(test_features)\n",
    "# 得到准确率(基于训练集)\n",
    "acc_knn = round(knn.score(train_features, train_label), 6)\n",
    "print(u'score准确率为 %.4lf' % acc_knn)\n",
    "# 使用K折交叉验证 统计准确率\n",
    "print(u'cross_val_score准确率为 %.4lf' % np.mean(cross_val_score(knn, train_features, train_label, cv=10)))"
   ]
  },
  {
   "cell_type": "code",
   "execution_count": 85,
   "metadata": {},
   "outputs": [
    {
     "name": "stdout",
     "output_type": "stream",
     "text": [
      "score准确率为 0.9820\n",
      "cross_val_score准确率为 0.7980\n"
     ]
    }
   ],
   "source": [
    "# Adaboost\n",
    "dt_stump = DecisionTreeClassifier(max_depth=5,min_samples_leaf=1)\n",
    "dt_stump.fit(train_features, train_label)\n",
    "\n",
    "n_estimators=500\n",
    "ada = AdaBoostClassifier(base_estimator=dt_stump,n_estimators=n_estimators)\n",
    "ada.fit(train_features, train_label)\n",
    "ada_predict = ada.predict(test_features)\n",
    "# 得到准确率(基于训练集)\n",
    "acc_ada = round(ada.score(train_features, train_label), 6)\n",
    "print(u'score准确率为 %.4lf' % acc_ada)\n",
    "# 使用K折交叉验证 统计准确率\n",
    "print(u'cross_val_score准确率为 %.4lf' % np.mean(cross_val_score(ada, train_features, train_label, cv=10)))"
   ]
  },
  {
   "cell_type": "code",
   "execution_count": 86,
   "metadata": {},
   "outputs": [
    {
     "name": "stdout",
     "output_type": "stream",
     "text": [
      "score准确率为 0.8721\n",
      "cross_val_score准确率为 0.8227\n"
     ]
    }
   ],
   "source": [
    "# XGBoost\n",
    "xgb = XGBClassifier()\n",
    "xgb.fit(train_features, train_label)\n",
    "xgb_predict = xgb.predict(test_features)\n",
    "# 得到准确率(基于训练集)\n",
    "acc_xgb = round(xgb.score(train_features, train_label), 6)\n",
    "print(u'score准确率为 %.4lf' % acc_xgb)\n",
    "# 使用K折交叉验证 统计准确率\n",
    "print(u'cross_val_score准确率为 %.4lf' % np.mean(cross_val_score(xgb, train_features, train_label, cv=10)))"
   ]
  }
 ],
 "metadata": {
  "kernelspec": {
   "display_name": "Python 3",
   "language": "python",
   "name": "python3"
  },
  "language_info": {
   "codemirror_mode": {
    "name": "ipython",
    "version": 3
   },
   "file_extension": ".py",
   "mimetype": "text/x-python",
   "name": "python",
   "nbconvert_exporter": "python",
   "pygments_lexer": "ipython3",
   "version": "3.7.4"
  }
 },
 "nbformat": 4,
 "nbformat_minor": 4
}
