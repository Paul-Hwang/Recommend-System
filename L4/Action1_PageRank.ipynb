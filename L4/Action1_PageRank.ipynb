{
 "cells": [
  {
   "cell_type": "code",
   "execution_count": 76,
   "metadata": {},
   "outputs": [],
   "source": [
    "import networkx as nx\n",
    "import numpy as np\n",
    "import matplotlib.pyplot as plt\n",
    "import pandas as pd"
   ]
  },
  {
   "cell_type": "code",
   "execution_count": 77,
   "metadata": {},
   "outputs": [],
   "source": [
    "a = np.array([[0, 0, 0, 1/3, 0, 0],\n",
    "            [1/4, 0, 0, 0, 1/2, 0],\n",
    "            [0, 1, 0, 1/3, 1/2, 0],\n",
    "            [1/4, 0, 0, 0, 0, 1],\n",
    "            [1/4, 0, 1, 1/3, 0, 0],\n",
    "            [1/4, 0, 0, 0, 0, 0]])\n",
    "\n",
    "b = np.array([1/6, 1/6, 1/6, 1/6, 1/6, 1/6])\n",
    "\n",
    "w = b\n",
    "\n",
    "# 简化模型\n",
    "def work(a, w):\n",
    "    for i in range(100):\n",
    "        w = np.dot(a, w)\n",
    "        # print(w)\n",
    "    return w\n",
    "\n",
    "# 随机模型\n",
    "def random_work(a, w, n):\n",
    "    d = 0.85\n",
    "    for i in range(100):\n",
    "        w = (1 - d) / n + d * np.dot(a, w)\n",
    "        # print(w)\n",
    "    return w"
   ]
  },
  {
   "cell_type": "code",
   "execution_count": 78,
   "metadata": {},
   "outputs": [
    {
     "name": "stdout",
     "output_type": "stream",
     "text": [
      "简化模型第100次模拟结果:  [1.47911420e-31 2.00000000e-01 4.00000000e-01 2.21867130e-31\n",
      " 4.00000000e-01 7.39557098e-32] \n",
      "随机模型第100次模拟结果:  [0.04288042 0.17901327 0.33994289 0.06310737 0.34094396 0.03411209]\n"
     ]
    }
   ],
   "source": [
    "wk = work(a, w)\n",
    "rd_wk = random_work(a, w, 6)\n",
    "print('简化模型第100次模拟结果: ', wk, '\\n随机模型第100次模拟结果: ', rd_wk)"
   ]
  },
  {
   "cell_type": "code",
   "execution_count": 114,
   "metadata": {},
   "outputs": [],
   "source": [
    "G = nx.DiGraph()\n",
    "edges = [('A', 'B'), ('A', 'D'), ('A', 'E'), ('A', 'F'), ('B', 'C'), ('C', 'E'), ('D', 'A'), ('D', 'C'), ('D', 'E'), ('E', 'B'), ('E', 'C'), ('F', 'D')]\n",
    "for i in edges:\n",
    "    G.add_edge(i[0], i[1])"
   ]
  },
  {
   "cell_type": "code",
   "execution_count": 115,
   "metadata": {},
   "outputs": [
    {
     "name": "stdout",
     "output_type": "stream",
     "text": [
      "pagerank值是:  {'A': 4.362295028000273e-11, 'B': 0.20000025428691245, 'D': 6.554246553540412e-11, 'E': 0.40000101720462666, 'F': 2.182304589249693e-11, 'C': 0.39999872837747247}\n"
     ]
    }
   ],
   "source": [
    "pagerank_list = nx.pagerank(G, alpha=1)\n",
    "print('pagerank值是: ', pagerank_list)"
   ]
  },
  {
   "cell_type": "code",
   "execution_count": 116,
   "metadata": {},
   "outputs": [
    {
     "name": "stdout",
     "output_type": "stream",
     "text": [
      "random_pagerank值是:  {'A': 0.04288042051996868, 'B': 0.17901275990207988, 'D': 0.0631073657542518, 'E': 0.3409441105134389, 'F': 0.034112089475917554, 'C': 0.3399432538343432}\n"
     ]
    }
   ],
   "source": [
    "random_pagerank_list = nx.pagerank(G, alpha=0.85)\n",
    "print('random_pagerank值是: ', random_pagerank_list)"
   ]
  },
  {
   "cell_type": "code",
   "execution_count": 117,
   "metadata": {},
   "outputs": [],
   "source": [
    "df = pd.DataFrame(wk, index=('A', 'B', 'C', 'D', 'E', 'F'), columns={'pr_100_simulation'})\n",
    "df.insert(1, 'random_pr_100_simulation', rd_wk)\n",
    "\n",
    "df1 = pd.DataFrame(pagerank_list.values(), index=pagerank_list.keys(), columns={'pr'})\n",
    "df1.insert(1, 'rd_pr', random_pagerank_list.values())"
   ]
  },
  {
   "cell_type": "code",
   "execution_count": 118,
   "metadata": {},
   "outputs": [],
   "source": [
    "comparison = pd.concat((df,df1), axis=1, sort=False)\n",
    "cols = [comparison.columns[i] for i in range(len(comparison.columns))]\n",
    "cols.insert(1, cols.pop(cols.index('pr')))\n",
    "comparison = comparison.loc[:, cols]"
   ]
  },
  {
   "cell_type": "code",
   "execution_count": 120,
   "metadata": {},
   "outputs": [
    {
     "name": "stdout",
     "output_type": "stream",
     "text": [
      "模拟结果与networkx结果对比: \n",
      "    pr_100_simulation            pr  random_pr_100_simulation     rd_pr\n",
      "A       1.479114e-31  4.362295e-11                  0.042880  0.042880\n",
      "B       2.000000e-01  2.000003e-01                  0.179013  0.179013\n",
      "C       4.000000e-01  3.999987e-01                  0.339943  0.339943\n",
      "D       2.218671e-31  6.554247e-11                  0.063107  0.063107\n",
      "E       4.000000e-01  4.000010e-01                  0.340944  0.340944\n",
      "F       7.395571e-32  2.182305e-11                  0.034112  0.034112\n"
     ]
    }
   ],
   "source": [
    "print('模拟结果与networkx结果对比: \\n', comparison)"
   ]
  }
 ],
 "metadata": {
  "kernelspec": {
   "display_name": "Python 3",
   "language": "python",
   "name": "python3"
  },
  "language_info": {
   "codemirror_mode": {
    "name": "ipython",
    "version": 3
   },
   "file_extension": ".py",
   "mimetype": "text/x-python",
   "name": "python",
   "nbconvert_exporter": "python",
   "pygments_lexer": "ipython3",
   "version": "3.7.4"
  },
  "pycharm": {
   "stem_cell": {
    "cell_type": "raw",
    "source": [],
    "metadata": {
     "collapsed": false
    }
   }
  }
 },
 "nbformat": 4,
 "nbformat_minor": 4
}