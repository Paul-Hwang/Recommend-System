{
 "cells": [
  {
   "cell_type": "code",
   "execution_count": 20,
   "metadata": {},
   "outputs": [],
   "source": [
    "import numpy as np\n",
    "import pandas as pd\n",
    "from sklearn.model_selection import train_test_split\n",
    "from sklearn.preprocessing import MinMaxScaler, LabelEncoder, OneHotEncoder\n",
    "from sklearn.model_selection import cross_val_score\n",
    "from sklearn.linear_model import LogisticRegression"
   ]
  },
  {
   "cell_type": "code",
   "execution_count": 21,
   "metadata": {},
   "outputs": [],
   "source": [
    "train = pd.read_csv('train.csv', index_col='user_id')\n",
    "test = pd.read_csv('test.csv', index_col='user_id')\n",
    "pd.set_option('display.max_rows', 10)\n",
    "\n",
    "train_x = train.drop(['Attrition', 'EmployeeNumber', 'EmployeeCount', 'StandardHours'], axis=1)\n",
    "train_y = train['Attrition']\n",
    "test.drop(['EmployeeNumber', 'EmployeeCount', 'StandardHours'], axis=1, inplace=True)"
   ]
  },
  {
   "cell_type": "code",
   "execution_count": 22,
   "metadata": {},
   "outputs": [],
   "source": [
    "# One-Hot Encoder\n",
    "object_train_x = [col for col in train_x.columns if train_x[col].dtype == 'object']\n",
    "numerical_train_x = [col for col in train_x.columns if train_x[col].dtype != 'object']\n",
    "object_test = [col for col in test.columns if test[col].dtype == 'object']\n",
    "numerical_test = [col for col in test.columns if test[col].dtype != 'object']\n",
    "\n",
    "train_x_object = train_x[object_train_x]\n",
    "train_x_numerical = train_x[numerical_train_x]\n",
    "test_object = test[object_test]\n",
    "test_numerical = test[numerical_test]\n",
    "\n",
    "oh = OneHotEncoder(sparse=False)\n",
    "train_x_object_onehot = pd.DataFrame(oh.fit_transform(train_x_object))\n",
    "test_object_onehot = pd.DataFrame(oh.fit_transform(test_object))\n",
    "\n",
    "train_x_object_onehot.index = train_x.index\n",
    "test_object_onehot.index = test.index\n",
    "\n",
    "# Min-Max Scaler\n",
    "#mms = MinMaxScaler()\n",
    "#train_x_numerical = pd.DataFrame(mms.fit_transform(train_x_numerical))\n",
    "#train_x_numerical.index = train_x.index\n",
    "\n",
    "oh_train_x = pd.concat([train_x_numerical, train_x_object_onehot], axis=1)\n",
    "oh_test = pd.concat([test_numerical, test_object_onehot], axis=1)\n",
    "\n",
    "# Label Encoder\n",
    "lenc = LabelEncoder()\n",
    "train_y = pd.DataFrame(lenc.fit_transform(train_y))\n",
    "train_y.index = train_x.index"
   ]
  },
  {
   "cell_type": "code",
   "execution_count": 23,
   "metadata": {},
   "outputs": [],
   "source": [
    "# Train-Test Split\n",
    "train_x_train, train_x_test, train_y_train, train_y_test = train_test_split(oh_train_x, train_y, train_size=0.8, test_size=0.2, random_state=23)"
   ]
  },
  {
   "cell_type": "code",
   "execution_count": 24,
   "metadata": {},
   "outputs": [
    {
     "name": "stderr",
     "output_type": "stream",
     "text": [
      "D:\\Anaconda3\\lib\\site-packages\\sklearn\\utils\\validation.py:760: DataConversionWarning: A column-vector y was passed when a 1d array was expected. Please change the shape of y to (n_samples, ), for example using ravel().\n",
      "  y = column_or_1d(y, warn=True)\n"
     ]
    },
    {
     "data": {
      "text/plain": [
       "0.902542372881356"
      ]
     },
     "execution_count": 24,
     "metadata": {},
     "output_type": "execute_result"
    }
   ],
   "source": [
    "lr = LogisticRegression(solver='liblinear', multi_class='auto')\n",
    "lr.fit(train_x_train, train_y_train)\n",
    "results = lr.predict_proba(oh_test)\n",
    "lr.score(train_x_test, train_y_test)"
   ]
  },
  {
   "cell_type": "code",
   "execution_count": 18,
   "metadata": {},
   "outputs": [],
   "source": [
    "test_y = test.drop(test.columns[0:34], axis=1, inplace=False)\n",
    "test_y.insert(0, 'Attrition', results[:, 1])\n",
    "test_y = test_y.reset_index()\n",
    "test_y.to_csv('./output.csv', index=False)"
   ]
  },
  {
   "cell_type": "code",
   "execution_count": 25,
   "metadata": {},
   "outputs": [
    {
     "name": "stdout",
     "output_type": "stream",
     "text": [
      "score准确率为 0.9025\n"
     ]
    },
    {
     "name": "stderr",
     "output_type": "stream",
     "text": [
      "D:\\Anaconda3\\lib\\site-packages\\sklearn\\utils\\validation.py:760: DataConversionWarning: A column-vector y was passed when a 1d array was expected. Please change the shape of y to (n_samples, ), for example using ravel().\n",
      "  y = column_or_1d(y, warn=True)\n",
      "D:\\Anaconda3\\lib\\site-packages\\sklearn\\utils\\validation.py:760: DataConversionWarning: A column-vector y was passed when a 1d array was expected. Please change the shape of y to (n_samples, ), for example using ravel().\n",
      "  y = column_or_1d(y, warn=True)\n",
      "D:\\Anaconda3\\lib\\site-packages\\sklearn\\utils\\validation.py:760: DataConversionWarning: A column-vector y was passed when a 1d array was expected. Please change the shape of y to (n_samples, ), for example using ravel().\n",
      "  y = column_or_1d(y, warn=True)\n",
      "D:\\Anaconda3\\lib\\site-packages\\sklearn\\utils\\validation.py:760: DataConversionWarning: A column-vector y was passed when a 1d array was expected. Please change the shape of y to (n_samples, ), for example using ravel().\n",
      "  y = column_or_1d(y, warn=True)\n",
      "D:\\Anaconda3\\lib\\site-packages\\sklearn\\utils\\validation.py:760: DataConversionWarning: A column-vector y was passed when a 1d array was expected. Please change the shape of y to (n_samples, ), for example using ravel().\n",
      "  y = column_or_1d(y, warn=True)\n",
      "D:\\Anaconda3\\lib\\site-packages\\sklearn\\utils\\validation.py:760: DataConversionWarning: A column-vector y was passed when a 1d array was expected. Please change the shape of y to (n_samples, ), for example using ravel().\n",
      "  y = column_or_1d(y, warn=True)\n",
      "D:\\Anaconda3\\lib\\site-packages\\sklearn\\utils\\validation.py:760: DataConversionWarning: A column-vector y was passed when a 1d array was expected. Please change the shape of y to (n_samples, ), for example using ravel().\n",
      "  y = column_or_1d(y, warn=True)\n",
      "D:\\Anaconda3\\lib\\site-packages\\sklearn\\utils\\validation.py:760: DataConversionWarning: A column-vector y was passed when a 1d array was expected. Please change the shape of y to (n_samples, ), for example using ravel().\n",
      "  y = column_or_1d(y, warn=True)\n",
      "D:\\Anaconda3\\lib\\site-packages\\sklearn\\utils\\validation.py:760: DataConversionWarning: A column-vector y was passed when a 1d array was expected. Please change the shape of y to (n_samples, ), for example using ravel().\n",
      "  y = column_or_1d(y, warn=True)\n",
      "D:\\Anaconda3\\lib\\site-packages\\sklearn\\utils\\validation.py:760: DataConversionWarning: A column-vector y was passed when a 1d array was expected. Please change the shape of y to (n_samples, ), for example using ravel().\n",
      "  y = column_or_1d(y, warn=True)\n"
     ]
    },
    {
     "name": "stdout",
     "output_type": "stream",
     "text": [
      "cross_val_score准确率为 0.8607\n"
     ]
    }
   ],
   "source": [
    "# 得到准确率(基于训练集)\n",
    "acc = round(lr.score(train_x_test, train_y_test), 6)\n",
    "print(u'score准确率为 %.4lf' % acc)\n",
    "# 使用K折交叉验证 统计准确率\n",
    "print(u'cross_val_score准确率为 %.4lf' % np.mean(cross_val_score(lr, train_x_test, train_y_test, cv=10)))"
   ]
  }
 ],
 "metadata": {
  "kernelspec": {
   "display_name": "Python 3",
   "language": "python",
   "name": "python3"
  },
  "language_info": {
   "codemirror_mode": {
    "name": "ipython",
    "version": 3
   },
   "file_extension": ".py",
   "mimetype": "text/x-python",
   "name": "python",
   "nbconvert_exporter": "python",
   "pygments_lexer": "ipython3",
   "version": "3.7.4"
  }
 },
 "nbformat": 4,
 "nbformat_minor": 4
}
