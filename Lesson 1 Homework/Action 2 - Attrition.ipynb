{
 "cells": [
  {
   "cell_type": "code",
   "execution_count": 10,
   "metadata": {},
   "outputs": [],
   "source": [
    "import pandas as pd\n",
    "from sklearn.preprocessing import LabelEncoder\n",
    "from sklearn.linear_model import LogisticRegression\n",
    "from sklearn.metrics import accuracy_score\n",
    "from sklearn.tree import DecisionTreeClassifier"
   ]
  },
  {
   "cell_type": "code",
   "execution_count": 11,
   "metadata": {},
   "outputs": [],
   "source": [
    "train = pd.read_csv('train.csv')\n",
    "test = pd.read_csv('test.csv')\n",
    "pd.set_option('display.max_rows', 10)\n",
    "train.set_index(['user_id'], inplace=True)\n",
    "test.set_index(['user_id'], inplace=True)"
   ]
  },
  {
   "cell_type": "code",
   "execution_count": 76,
   "metadata": {},
   "outputs": [],
   "source": [
    "#train.drop(['EmployeeCount'], axis=1)\n",
    "#test.drop(['EmployeeCount'], axis=1)"
   ]
  },
  {
   "cell_type": "code",
   "execution_count": 12,
   "metadata": {},
   "outputs": [],
   "source": [
    "lenc = LabelEncoder()\n",
    "for col in train.columns:\n",
    "    if train[col].dtype == 'object':\n",
    "        l = lenc.fit_transform(train[col])\n",
    "        train[col] = l\n",
    "for col in test.columns:\n",
    "    if test[col].dtype == 'object':\n",
    "        l = lenc.fit_transform(test[col])\n",
    "        test[col] = l"
   ]
  },
  {
   "cell_type": "code",
   "execution_count": 13,
   "metadata": {},
   "outputs": [],
   "source": [
    "train_x = train.drop(['Attrition'], axis=1)\n",
    "train_y = train['Attrition']"
   ]
  },
  {
   "cell_type": "code",
   "execution_count": 14,
   "metadata": {},
   "outputs": [
    {
     "name": "stderr",
     "output_type": "stream",
     "text": [
      "D:\\Anaconda3\\lib\\site-packages\\sklearn\\linear_model\\logistic.py:432: FutureWarning: Default solver will be changed to 'lbfgs' in 0.22. Specify a solver to silence this warning.\n",
      "  FutureWarning)\n"
     ]
    }
   ],
   "source": [
    "# Logistic Regression\n",
    "lr = LogisticRegression()\n",
    "lr.fit(train_x, train_y)\n",
    "predict_y = lr.predict(test)\n",
    "\n",
    "test_y = test.drop(test.columns[0:34], axis=1, inplace=False)\n",
    "test_y.insert(0, 'Attrition', predict_y)\n",
    "test_y = test_y.reset_index()\n",
    "test_y.to_csv('./lr.csv', index=False)"
   ]
  },
  {
   "cell_type": "code",
   "execution_count": 9,
   "metadata": {},
   "outputs": [],
   "source": [
    "# Decision Tree\n",
    "'''clf = DecisionTreeClassifier()\n",
    "clf.fit(train_x, train_y)\n",
    "predict_y = clf.predict(test)\n",
    "\n",
    "test_y = test.drop(test.columns[0:34], axis=1, inplace=False)\n",
    "test_y.insert(0, 'Attrition', predict_y)\n",
    "test_y = test_y.reset_index()\n",
    "test_y.to_csv('./clf.csv', index=False)'''"
   ]
  }
 ],
 "metadata": {
  "kernelspec": {
   "display_name": "Python 3",
   "language": "python",
   "name": "python3"
  },
  "language_info": {
   "codemirror_mode": {
    "name": "ipython",
    "version": 3
   },
   "file_extension": ".py",
   "mimetype": "text/x-python",
   "name": "python",
   "nbconvert_exporter": "python",
   "pygments_lexer": "ipython3",
   "version": "3.7.4"
  }
 },
 "nbformat": 4,
 "nbformat_minor": 4
}
