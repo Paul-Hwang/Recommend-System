{
 "cells": [
  {
   "cell_type": "code",
   "execution_count": 31,
   "metadata": {},
   "outputs": [],
   "source": [
    "import pandas as pd\n",
    "import numpy as np\n",
    "from sklearn.preprocessing import LabelEncoder\n",
    "from sklearn.linear_model import LogisticRegression\n",
    "from sklearn.metrics import accuracy_score\n",
    "from sklearn.tree import DecisionTreeClassifier\n",
    "from tpot import TPOTClassifier\n",
    "from sklearn.model_selection import cross_val_score"
   ]
  },
  {
   "cell_type": "code",
   "execution_count": 23,
   "metadata": {},
   "outputs": [],
   "source": [
    "train = pd.read_csv('train.csv')\n",
    "test = pd.read_csv('test.csv')\n",
    "pd.set_option('display.max_rows', 10)\n",
    "train.set_index(['user_id'], inplace=True)\n",
    "test.set_index(['user_id'], inplace=True)"
   ]
  },
  {
   "cell_type": "code",
   "execution_count": 24,
   "metadata": {},
   "outputs": [],
   "source": [
    "lenc = LabelEncoder()\n",
    "for col in train.columns:\n",
    "    if train[col].dtype == 'object':\n",
    "        l = lenc.fit_transform(train[col])\n",
    "        train[col] = l\n",
    "for col in test.columns:\n",
    "    if test[col].dtype == 'object':\n",
    "        l = lenc.fit_transform(test[col])\n",
    "        test[col] = l"
   ]
  },
  {
   "cell_type": "code",
   "execution_count": 25,
   "metadata": {},
   "outputs": [],
   "source": [
    "train_x = train.drop(['Attrition', 'EmployeeCount', 'EmployeeNumber', 'Over18', 'StandardHours'], axis=1)\n",
    "train_y = train['Attrition']"
   ]
  },
  {
   "cell_type": "code",
   "execution_count": 27,
   "metadata": {},
   "outputs": [],
   "source": [
    "# Logistic Regression\n",
    "lr = LogisticRegression(solver='liblinear', multi_class='auto')\n",
    "lr.fit(train_x, train_y)\n",
    "predict_y = lr.predict(test.drop(['EmployeeCount', 'EmployeeNumber', 'Over18', 'StandardHours'], axis=1))\n",
    "\n",
    "test_y = test.drop(test.columns[0:34], axis=1, inplace=False)\n",
    "test_y.insert(0, 'Attrition', predict_y)\n",
    "test_y = test_y.reset_index()\n",
    "test_y.to_csv('./lr.csv', index=False)"
   ]
  },
  {
   "cell_type": "code",
   "execution_count": 32,
   "metadata": {},
   "outputs": [
    {
     "name": "stdout",
     "output_type": "stream",
     "text": [
      "score准确率为 0.8682\n",
      "cross_val_score准确率为 0.8571\n"
     ]
    }
   ],
   "source": [
    "# 得到准确率(基于训练集)\n",
    "acc = round(lr.score(train_x, train_y), 6)\n",
    "print(u'score准确率为 %.4lf' % acc)\n",
    "# 使用K折交叉验证 统计准确率\n",
    "print(u'cross_val_score准确率为 %.4lf' % np.mean(cross_val_score(lr, train_x, train_y, cv=10)))"
   ]
  },
  {
   "cell_type": "code",
   "execution_count": 20,
   "metadata": {},
   "outputs": [],
   "source": [
    "# Decision Tree\n",
    "'''clf = DecisionTreeClassifier(criterion='gini')\n",
    "clf.fit(train_x, train_y)\n",
    "predict_y = clf.predict(test)\n",
    "\n",
    "test_y = test.drop(test.columns[0:34], axis=1, inplace=False)\n",
    "test_y.insert(0, 'Attrition', predict_y)\n",
    "test_y = test_y.reset_index()\n",
    "test_y.to_csv('./clf.csv', index=False)'''"
   ]
  },
  {
   "cell_type": "code",
   "execution_count": 13,
   "metadata": {},
   "outputs": [
    {
     "data": {
      "application/vnd.jupyter.widget-view+json": {
       "model_id": "c677745b98d445a6beaa860d8654134e",
       "version_major": 2,
       "version_minor": 0
      },
      "text/plain": [
       "HBox(children=(IntProgress(value=0, description='Optimization Progress', max=630, style=ProgressStyle(descript…"
      ]
     },
     "metadata": {},
     "output_type": "display_data"
    },
    {
     "name": "stdout",
     "output_type": "stream",
     "text": [
      "Generation 1 - Current best internal CV score: 0.8707356653443924\n",
      "Generation 2 - Current best internal CV score: 0.8707356653443924\n",
      "Generation 3 - Current best internal CV score: 0.873306887847097\n",
      "Generation 4 - Current best internal CV score: 0.8749765596826542\n",
      "Generation 5 - Current best internal CV score: 0.8749765596826542\n",
      "Generation 6 - Current best internal CV score: 0.8749765596826542\n",
      "Generation 7 - Current best internal CV score: 0.8749765596826542\n",
      "Generation 8 - Current best internal CV score: 0.8750018031013342\n",
      "Generation 9 - Current best internal CV score: 0.8758276235124413\n",
      "Generation 10 - Current best internal CV score: 0.8758276235124413\n",
      "Generation 11 - Current best internal CV score: 0.8775369635773531\n",
      "Generation 12 - Current best internal CV score: 0.8775369635773531\n",
      "Generation 13 - Current best internal CV score: 0.8775369635773531\n",
      "Generation 14 - Current best internal CV score: 0.8817886765236207\n",
      "Generation 15 - Current best internal CV score: 0.8817886765236207\n",
      "Generation 16 - Current best internal CV score: 0.8817886765236207\n",
      "Generation 17 - Current best internal CV score: 0.8817886765236207\n",
      "Generation 18 - Current best internal CV score: 0.8826649837720879\n",
      "Generation 19 - Current best internal CV score: 0.8826649837720879\n",
      "Generation 20 - Current best internal CV score: 0.8860331770645511\n",
      "\n",
      "Best pipeline: GradientBoostingClassifier(MinMaxScaler(input_matrix), learning_rate=0.5, max_depth=1, max_features=0.7000000000000001, min_samples_leaf=17, min_samples_split=17, n_estimators=100, subsample=0.9000000000000001)\n"
     ]
    }
   ],
   "source": [
    "# TPOT\n",
    "tpot = TPOTClassifier(generations=20, population_size=30, verbosity=2)\n",
    "tpot.fit(train_x, train_y)\n",
    "tpot.export('tpot_attrition_pipeline.py')"
   ]
  }
 ],
 "metadata": {
  "kernelspec": {
   "display_name": "Python 3",
   "language": "python",
   "name": "python3"
  },
  "language_info": {
   "codemirror_mode": {
    "name": "ipython",
    "version": 3
   },
   "file_extension": ".py",
   "mimetype": "text/x-python",
   "name": "python",
   "nbconvert_exporter": "python",
   "pygments_lexer": "ipython3",
   "version": "3.7.4"
  }
 },
 "nbformat": 4,
 "nbformat_minor": 4
}
