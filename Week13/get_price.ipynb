{
 "cells": [
  {
   "cell_type": "code",
   "execution_count": 1,
   "metadata": {},
   "outputs": [],
   "source": [
    "import requests\n",
    "import json\n",
    "from selenium import webdriver\n",
    "import pandas as pd\n",
    "from lxml import etree\n",
    "import time"
   ]
  },
  {
   "cell_type": "code",
   "execution_count": 279,
   "metadata": {},
   "outputs": [],
   "source": [
    "def get_districts(url, y):\n",
    "    driver.get(url)\n",
    "    time.sleep(1)\n",
    "    html = driver.find_element_by_xpath(\"//*\").get_attribute(\"outerHTML\")\n",
    "    html = etree.HTML(html)\n",
    "    district_links = html.xpath(\"/html/body/div[@class='main-content']/div[@class='div-border items-list']/div[@class='items']/span[@class='elem-l']/a/@href\")\n",
    "    district_names = [link[link.index(y)+5:-1] for link in district_links]\n",
    "    temp_districts = {name:link for name,link in zip(district_names, district_links)}\n",
    "    temp_districts['whole_city'] = url\n",
    "    return temp_districts\n",
    "\n",
    "\n",
    "def get_data(url, city, name):\n",
    "    price_city = pd.DataFrame(columns=['date', 'city_district', 'price', 'increase'])\n",
    "    driver.get(url)\n",
    "    time.sleep(1)\n",
    "    html = driver.find_element_by_xpath(\"//*\").get_attribute(\"outerHTML\")\n",
    "    html = etree.HTML(html)\n",
    "    len_month_up = len(html.xpath(\"/html/body/div[@class='main-content']/div[@class='avger clearfix']\\\n",
    "                    /div[@class='fjlist-wrap clearfix']/div[@class='fjlist-box boxstyle2'][1]/ul/li[@class='clearfix up']\"))\n",
    "    len_month_down = len(html.xpath(\"/html/body/div[@class='main-content']/div[@class='avger clearfix']\\\n",
    "                    /div[@class='fjlist-wrap clearfix']/div[@class='fjlist-box boxstyle2'][1]/ul/li[@class='clearfix down']\"))\n",
    "    len_month_no_change = len(html.xpath(\"/html/body/div[@class='main-content']/div[@class='avger clearfix']\\\n",
    "                    /div[@class='fjlist-wrap clearfix']/div[@class='fjlist-box boxstyle2'][1]/ul/li[@class='clearfix nochange']\"))\n",
    "    len_all = {'up':len_month_up, 'down':len_month_down, 'nochange':len_month_no_change}\n",
    "    for i in len_all.keys():\n",
    "        if len_all[i] > 0:\n",
    "            for mon in range(1, len_all[i]+1):\n",
    "                y_m = html.xpath(f\"/html/body/div[@class='main-content']/div[@class='avger clearfix']/div[@class='fjlist-wrap clearfix']\\\n",
    "                     /div[@class='fjlist-box boxstyle2'][1]/ul/li[@class='clearfix {i}'][{mon}]/a[@class='nostyle']/b\")\n",
    "                y_m = y_m[0].xpath('string()')\n",
    "                y_m = y_m[:4] + '-' + y_m[5:7]\n",
    "                price = html.xpath(f\"/html/body/div[@class='main-content']/div[@class='avger clearfix']/div[@class='fjlist-wrap clearfix']\\\n",
    "                     /div[@class='fjlist-box boxstyle2'][1]/ul/li[@class='clearfix {i}'][{mon}]/a[@class='nostyle']/span\")\n",
    "                try:\n",
    "                    price = int(price[0].xpath('string()').split('元')[0])\n",
    "                except:\n",
    "                    price = None\n",
    "                increase = html.xpath(f\"/html/body/div[@class='main-content']/div[@class='avger clearfix']/div[@class='fjlist-wrap clearfix']\\\n",
    "                     /div[@class='fjlist-box boxstyle2'][1]/ul/li[@class='clearfix {i}'][{mon}]/a[@class='nostyle']/em\")\n",
    "                if i != 'nochange':\n",
    "                    increase = round(float(increase[0].xpath('string()').split('%')[0])/100, 4)\n",
    "                else:\n",
    "                    increase = None\n",
    "                temp = dict()\n",
    "                temp['date'] = y_m\n",
    "                temp['city_district'] = city + '_' + name\n",
    "                temp['price'] = price\n",
    "                if i == 'down':\n",
    "                    temp['increase'] = -increase\n",
    "                else:\n",
    "                    temp['increase'] = increase\n",
    "                price_city = price_city.append(temp, ignore_index=True)\n",
    "    return price_city\n",
    "        \n",
    "def work(start, end, cities):\n",
    "    range_y = [str(year) for year in range(start, end+1)]\n",
    "    price_city = pd.DataFrame(columns=['date', 'city_district', 'price', 'increase'])\n",
    "    for y in range_y:\n",
    "        for city in cities:\n",
    "            url = f'https://www.anjuke.com/fangjia/{city + y}/'\n",
    "            temp_districts = get_districts(url, y)        \n",
    "            for name in temp_districts.keys():\n",
    "                temp = get_data(temp_districts[name], city, name)\n",
    "                price_city = price_city.append(temp)\n",
    "            time.sleep(1)\n",
    "    return price_city"
   ]
  },
  {
   "cell_type": "code",
   "execution_count": 282,
   "metadata": {},
   "outputs": [],
   "source": [
    "driver = webdriver.Chrome(executable_path='/Users/paulhwang/Desktop/chromedriver')\n",
    "price_city = work(2011, 2020, ['shenzhen', 'guangzhou', 'hangzhou', 'shanghai', 'beijing'])\n",
    "price_city.to_csv('price_cites.csv', index=False)"
   ]
  },
  {
   "cell_type": "code",
   "execution_count": null,
   "metadata": {},
   "outputs": [],
   "source": []
  }
 ],
 "metadata": {
  "kernelspec": {
   "display_name": "Python 3",
   "language": "python",
   "name": "python3"
  },
  "language_info": {
   "codemirror_mode": {
    "name": "ipython",
    "version": 3
   },
   "file_extension": ".py",
   "mimetype": "text/x-python",
   "name": "python",
   "nbconvert_exporter": "python",
   "pygments_lexer": "ipython3",
   "version": "3.7.4"
  }
 },
 "nbformat": 4,
 "nbformat_minor": 4
}
