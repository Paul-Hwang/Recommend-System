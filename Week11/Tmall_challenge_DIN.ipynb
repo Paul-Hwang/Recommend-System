{
  "nbformat": 4,
  "nbformat_minor": 0,
  "metadata": {
    "colab": {
      "name": "Tmall_challenge_DIN.ipynb",
      "provenance": [],
      "machine_shape": "hm"
    },
    "kernelspec": {
      "name": "python3",
      "display_name": "Python 3"
    },
    "accelerator": "TPU",
    "widgets": {
      "application/vnd.jupyter.widget-state+json": {
        "29f9db2fdd8f4109b1f9731d11ea1def": {
          "model_module": "@jupyter-widgets/controls",
          "model_name": "HBoxModel",
          "state": {
            "_view_name": "HBoxView",
            "_dom_classes": [],
            "_model_name": "HBoxModel",
            "_view_module": "@jupyter-widgets/controls",
            "_model_module_version": "1.5.0",
            "_view_count": null,
            "_view_module_version": "1.5.0",
            "box_style": "",
            "layout": "IPY_MODEL_c398a0409a6b46eeb7ce9b05eafff14f",
            "_model_module": "@jupyter-widgets/controls",
            "children": [
              "IPY_MODEL_9c00752d29e640e5b0fb942880c46c7a",
              "IPY_MODEL_7ea9fa96f9a54ba692ee213e4ca786fc"
            ]
          }
        },
        "c398a0409a6b46eeb7ce9b05eafff14f": {
          "model_module": "@jupyter-widgets/base",
          "model_name": "LayoutModel",
          "state": {
            "_view_name": "LayoutView",
            "grid_template_rows": null,
            "right": null,
            "justify_content": null,
            "_view_module": "@jupyter-widgets/base",
            "overflow": null,
            "_model_module_version": "1.2.0",
            "_view_count": null,
            "flex_flow": null,
            "width": null,
            "min_width": null,
            "border": null,
            "align_items": null,
            "bottom": null,
            "_model_module": "@jupyter-widgets/base",
            "top": null,
            "grid_column": null,
            "overflow_y": null,
            "overflow_x": null,
            "grid_auto_flow": null,
            "grid_area": null,
            "grid_template_columns": null,
            "flex": null,
            "_model_name": "LayoutModel",
            "justify_items": null,
            "grid_row": null,
            "max_height": null,
            "align_content": null,
            "visibility": null,
            "align_self": null,
            "height": null,
            "min_height": null,
            "padding": null,
            "grid_auto_rows": null,
            "grid_gap": null,
            "max_width": null,
            "order": null,
            "_view_module_version": "1.2.0",
            "grid_template_areas": null,
            "object_position": null,
            "object_fit": null,
            "grid_auto_columns": null,
            "margin": null,
            "display": null,
            "left": null
          }
        },
        "9c00752d29e640e5b0fb942880c46c7a": {
          "model_module": "@jupyter-widgets/controls",
          "model_name": "IntProgressModel",
          "state": {
            "_view_name": "ProgressView",
            "style": "IPY_MODEL_7252b38a7ed7456896c062cdba1b5a62",
            "_dom_classes": [],
            "description": "100%",
            "_model_name": "IntProgressModel",
            "bar_style": "success",
            "max": 260865,
            "_view_module": "@jupyter-widgets/controls",
            "_model_module_version": "1.5.0",
            "value": 260865,
            "_view_count": null,
            "_view_module_version": "1.5.0",
            "orientation": "horizontal",
            "min": 0,
            "description_tooltip": null,
            "_model_module": "@jupyter-widgets/controls",
            "layout": "IPY_MODEL_b8093517337a41878742e82e9f7069c1"
          }
        },
        "7ea9fa96f9a54ba692ee213e4ca786fc": {
          "model_module": "@jupyter-widgets/controls",
          "model_name": "HTMLModel",
          "state": {
            "_view_name": "HTMLView",
            "style": "IPY_MODEL_9642a0b7933e412488cdd22d200c6cef",
            "_dom_classes": [],
            "description": "",
            "_model_name": "HTMLModel",
            "placeholder": "​",
            "_view_module": "@jupyter-widgets/controls",
            "_model_module_version": "1.5.0",
            "value": " 260865/260865 [00:00&lt;00:00, 435872.12it/s]",
            "_view_count": null,
            "_view_module_version": "1.5.0",
            "description_tooltip": null,
            "_model_module": "@jupyter-widgets/controls",
            "layout": "IPY_MODEL_91b529783b6144e49a6baf2f74d38e3f"
          }
        },
        "7252b38a7ed7456896c062cdba1b5a62": {
          "model_module": "@jupyter-widgets/controls",
          "model_name": "ProgressStyleModel",
          "state": {
            "_view_name": "StyleView",
            "_model_name": "ProgressStyleModel",
            "description_width": "initial",
            "_view_module": "@jupyter-widgets/base",
            "_model_module_version": "1.5.0",
            "_view_count": null,
            "_view_module_version": "1.2.0",
            "bar_color": null,
            "_model_module": "@jupyter-widgets/controls"
          }
        },
        "b8093517337a41878742e82e9f7069c1": {
          "model_module": "@jupyter-widgets/base",
          "model_name": "LayoutModel",
          "state": {
            "_view_name": "LayoutView",
            "grid_template_rows": null,
            "right": null,
            "justify_content": null,
            "_view_module": "@jupyter-widgets/base",
            "overflow": null,
            "_model_module_version": "1.2.0",
            "_view_count": null,
            "flex_flow": null,
            "width": null,
            "min_width": null,
            "border": null,
            "align_items": null,
            "bottom": null,
            "_model_module": "@jupyter-widgets/base",
            "top": null,
            "grid_column": null,
            "overflow_y": null,
            "overflow_x": null,
            "grid_auto_flow": null,
            "grid_area": null,
            "grid_template_columns": null,
            "flex": null,
            "_model_name": "LayoutModel",
            "justify_items": null,
            "grid_row": null,
            "max_height": null,
            "align_content": null,
            "visibility": null,
            "align_self": null,
            "height": null,
            "min_height": null,
            "padding": null,
            "grid_auto_rows": null,
            "grid_gap": null,
            "max_width": null,
            "order": null,
            "_view_module_version": "1.2.0",
            "grid_template_areas": null,
            "object_position": null,
            "object_fit": null,
            "grid_auto_columns": null,
            "margin": null,
            "display": null,
            "left": null
          }
        },
        "9642a0b7933e412488cdd22d200c6cef": {
          "model_module": "@jupyter-widgets/controls",
          "model_name": "DescriptionStyleModel",
          "state": {
            "_view_name": "StyleView",
            "_model_name": "DescriptionStyleModel",
            "description_width": "",
            "_view_module": "@jupyter-widgets/base",
            "_model_module_version": "1.5.0",
            "_view_count": null,
            "_view_module_version": "1.2.0",
            "_model_module": "@jupyter-widgets/controls"
          }
        },
        "91b529783b6144e49a6baf2f74d38e3f": {
          "model_module": "@jupyter-widgets/base",
          "model_name": "LayoutModel",
          "state": {
            "_view_name": "LayoutView",
            "grid_template_rows": null,
            "right": null,
            "justify_content": null,
            "_view_module": "@jupyter-widgets/base",
            "overflow": null,
            "_model_module_version": "1.2.0",
            "_view_count": null,
            "flex_flow": null,
            "width": null,
            "min_width": null,
            "border": null,
            "align_items": null,
            "bottom": null,
            "_model_module": "@jupyter-widgets/base",
            "top": null,
            "grid_column": null,
            "overflow_y": null,
            "overflow_x": null,
            "grid_auto_flow": null,
            "grid_area": null,
            "grid_template_columns": null,
            "flex": null,
            "_model_name": "LayoutModel",
            "justify_items": null,
            "grid_row": null,
            "max_height": null,
            "align_content": null,
            "visibility": null,
            "align_self": null,
            "height": null,
            "min_height": null,
            "padding": null,
            "grid_auto_rows": null,
            "grid_gap": null,
            "max_width": null,
            "order": null,
            "_view_module_version": "1.2.0",
            "grid_template_areas": null,
            "object_position": null,
            "object_fit": null,
            "grid_auto_columns": null,
            "margin": null,
            "display": null,
            "left": null
          }
        },
        "bc3a116514d441cd80894b373a552603": {
          "model_module": "@jupyter-widgets/controls",
          "model_name": "HBoxModel",
          "state": {
            "_view_name": "HBoxView",
            "_dom_classes": [],
            "_model_name": "HBoxModel",
            "_view_module": "@jupyter-widgets/controls",
            "_model_module_version": "1.5.0",
            "_view_count": null,
            "_view_module_version": "1.5.0",
            "box_style": "",
            "layout": "IPY_MODEL_46d525f9f5e743c296cd57f009af4ed1",
            "_model_module": "@jupyter-widgets/controls",
            "children": [
              "IPY_MODEL_8edeac0da3f94c51be0c94a0c3f1bb35",
              "IPY_MODEL_cd763782e5b34c4bbe53c0a2f760dfaa"
            ]
          }
        },
        "46d525f9f5e743c296cd57f009af4ed1": {
          "model_module": "@jupyter-widgets/base",
          "model_name": "LayoutModel",
          "state": {
            "_view_name": "LayoutView",
            "grid_template_rows": null,
            "right": null,
            "justify_content": null,
            "_view_module": "@jupyter-widgets/base",
            "overflow": null,
            "_model_module_version": "1.2.0",
            "_view_count": null,
            "flex_flow": null,
            "width": null,
            "min_width": null,
            "border": null,
            "align_items": null,
            "bottom": null,
            "_model_module": "@jupyter-widgets/base",
            "top": null,
            "grid_column": null,
            "overflow_y": null,
            "overflow_x": null,
            "grid_auto_flow": null,
            "grid_area": null,
            "grid_template_columns": null,
            "flex": null,
            "_model_name": "LayoutModel",
            "justify_items": null,
            "grid_row": null,
            "max_height": null,
            "align_content": null,
            "visibility": null,
            "align_self": null,
            "height": null,
            "min_height": null,
            "padding": null,
            "grid_auto_rows": null,
            "grid_gap": null,
            "max_width": null,
            "order": null,
            "_view_module_version": "1.2.0",
            "grid_template_areas": null,
            "object_position": null,
            "object_fit": null,
            "grid_auto_columns": null,
            "margin": null,
            "display": null,
            "left": null
          }
        },
        "8edeac0da3f94c51be0c94a0c3f1bb35": {
          "model_module": "@jupyter-widgets/controls",
          "model_name": "IntProgressModel",
          "state": {
            "_view_name": "ProgressView",
            "style": "IPY_MODEL_85de6ae9e4c749cab4358f9fe3dc3a0e",
            "_dom_classes": [],
            "description": "100%",
            "_model_name": "IntProgressModel",
            "bar_style": "success",
            "max": 260865,
            "_view_module": "@jupyter-widgets/controls",
            "_model_module_version": "1.5.0",
            "value": 260865,
            "_view_count": null,
            "_view_module_version": "1.5.0",
            "orientation": "horizontal",
            "min": 0,
            "description_tooltip": null,
            "_model_module": "@jupyter-widgets/controls",
            "layout": "IPY_MODEL_b551db5239d746f29c706905d10b2492"
          }
        },
        "cd763782e5b34c4bbe53c0a2f760dfaa": {
          "model_module": "@jupyter-widgets/controls",
          "model_name": "HTMLModel",
          "state": {
            "_view_name": "HTMLView",
            "style": "IPY_MODEL_0c84fad37ab648d98344a19b28e9634d",
            "_dom_classes": [],
            "description": "",
            "_model_name": "HTMLModel",
            "placeholder": "​",
            "_view_module": "@jupyter-widgets/controls",
            "_model_module_version": "1.5.0",
            "value": " 260865/260865 [00:01&lt;00:00, 241546.54it/s]",
            "_view_count": null,
            "_view_module_version": "1.5.0",
            "description_tooltip": null,
            "_model_module": "@jupyter-widgets/controls",
            "layout": "IPY_MODEL_a1ada2b217a9461cb317082b15ec58fc"
          }
        },
        "85de6ae9e4c749cab4358f9fe3dc3a0e": {
          "model_module": "@jupyter-widgets/controls",
          "model_name": "ProgressStyleModel",
          "state": {
            "_view_name": "StyleView",
            "_model_name": "ProgressStyleModel",
            "description_width": "initial",
            "_view_module": "@jupyter-widgets/base",
            "_model_module_version": "1.5.0",
            "_view_count": null,
            "_view_module_version": "1.2.0",
            "bar_color": null,
            "_model_module": "@jupyter-widgets/controls"
          }
        },
        "b551db5239d746f29c706905d10b2492": {
          "model_module": "@jupyter-widgets/base",
          "model_name": "LayoutModel",
          "state": {
            "_view_name": "LayoutView",
            "grid_template_rows": null,
            "right": null,
            "justify_content": null,
            "_view_module": "@jupyter-widgets/base",
            "overflow": null,
            "_model_module_version": "1.2.0",
            "_view_count": null,
            "flex_flow": null,
            "width": null,
            "min_width": null,
            "border": null,
            "align_items": null,
            "bottom": null,
            "_model_module": "@jupyter-widgets/base",
            "top": null,
            "grid_column": null,
            "overflow_y": null,
            "overflow_x": null,
            "grid_auto_flow": null,
            "grid_area": null,
            "grid_template_columns": null,
            "flex": null,
            "_model_name": "LayoutModel",
            "justify_items": null,
            "grid_row": null,
            "max_height": null,
            "align_content": null,
            "visibility": null,
            "align_self": null,
            "height": null,
            "min_height": null,
            "padding": null,
            "grid_auto_rows": null,
            "grid_gap": null,
            "max_width": null,
            "order": null,
            "_view_module_version": "1.2.0",
            "grid_template_areas": null,
            "object_position": null,
            "object_fit": null,
            "grid_auto_columns": null,
            "margin": null,
            "display": null,
            "left": null
          }
        },
        "0c84fad37ab648d98344a19b28e9634d": {
          "model_module": "@jupyter-widgets/controls",
          "model_name": "DescriptionStyleModel",
          "state": {
            "_view_name": "StyleView",
            "_model_name": "DescriptionStyleModel",
            "description_width": "",
            "_view_module": "@jupyter-widgets/base",
            "_model_module_version": "1.5.0",
            "_view_count": null,
            "_view_module_version": "1.2.0",
            "_model_module": "@jupyter-widgets/controls"
          }
        },
        "a1ada2b217a9461cb317082b15ec58fc": {
          "model_module": "@jupyter-widgets/base",
          "model_name": "LayoutModel",
          "state": {
            "_view_name": "LayoutView",
            "grid_template_rows": null,
            "right": null,
            "justify_content": null,
            "_view_module": "@jupyter-widgets/base",
            "overflow": null,
            "_model_module_version": "1.2.0",
            "_view_count": null,
            "flex_flow": null,
            "width": null,
            "min_width": null,
            "border": null,
            "align_items": null,
            "bottom": null,
            "_model_module": "@jupyter-widgets/base",
            "top": null,
            "grid_column": null,
            "overflow_y": null,
            "overflow_x": null,
            "grid_auto_flow": null,
            "grid_area": null,
            "grid_template_columns": null,
            "flex": null,
            "_model_name": "LayoutModel",
            "justify_items": null,
            "grid_row": null,
            "max_height": null,
            "align_content": null,
            "visibility": null,
            "align_self": null,
            "height": null,
            "min_height": null,
            "padding": null,
            "grid_auto_rows": null,
            "grid_gap": null,
            "max_width": null,
            "order": null,
            "_view_module_version": "1.2.0",
            "grid_template_areas": null,
            "object_position": null,
            "object_fit": null,
            "grid_auto_columns": null,
            "margin": null,
            "display": null,
            "left": null
          }
        },
        "2838ed1b47b04e25aaa12a1612bff56d": {
          "model_module": "@jupyter-widgets/controls",
          "model_name": "HBoxModel",
          "state": {
            "_view_name": "HBoxView",
            "_dom_classes": [],
            "_model_name": "HBoxModel",
            "_view_module": "@jupyter-widgets/controls",
            "_model_module_version": "1.5.0",
            "_view_count": null,
            "_view_module_version": "1.5.0",
            "box_style": "",
            "layout": "IPY_MODEL_c1887401342d4b26b9579ec54af8addb",
            "_model_module": "@jupyter-widgets/controls",
            "children": [
              "IPY_MODEL_77e3979306854d5dab618a3b65799e42",
              "IPY_MODEL_cb47a3229f8e405f8fcd342ad796af1a"
            ]
          }
        },
        "c1887401342d4b26b9579ec54af8addb": {
          "model_module": "@jupyter-widgets/base",
          "model_name": "LayoutModel",
          "state": {
            "_view_name": "LayoutView",
            "grid_template_rows": null,
            "right": null,
            "justify_content": null,
            "_view_module": "@jupyter-widgets/base",
            "overflow": null,
            "_model_module_version": "1.2.0",
            "_view_count": null,
            "flex_flow": null,
            "width": null,
            "min_width": null,
            "border": null,
            "align_items": null,
            "bottom": null,
            "_model_module": "@jupyter-widgets/base",
            "top": null,
            "grid_column": null,
            "overflow_y": null,
            "overflow_x": null,
            "grid_auto_flow": null,
            "grid_area": null,
            "grid_template_columns": null,
            "flex": null,
            "_model_name": "LayoutModel",
            "justify_items": null,
            "grid_row": null,
            "max_height": null,
            "align_content": null,
            "visibility": null,
            "align_self": null,
            "height": null,
            "min_height": null,
            "padding": null,
            "grid_auto_rows": null,
            "grid_gap": null,
            "max_width": null,
            "order": null,
            "_view_module_version": "1.2.0",
            "grid_template_areas": null,
            "object_position": null,
            "object_fit": null,
            "grid_auto_columns": null,
            "margin": null,
            "display": null,
            "left": null
          }
        },
        "77e3979306854d5dab618a3b65799e42": {
          "model_module": "@jupyter-widgets/controls",
          "model_name": "IntProgressModel",
          "state": {
            "_view_name": "ProgressView",
            "style": "IPY_MODEL_a137692f8fcc4ab98c53d533e46df216",
            "_dom_classes": [],
            "description": "100%",
            "_model_name": "IntProgressModel",
            "bar_style": "success",
            "max": 261477,
            "_view_module": "@jupyter-widgets/controls",
            "_model_module_version": "1.5.0",
            "value": 261477,
            "_view_count": null,
            "_view_module_version": "1.5.0",
            "orientation": "horizontal",
            "min": 0,
            "description_tooltip": null,
            "_model_module": "@jupyter-widgets/controls",
            "layout": "IPY_MODEL_d3e01bd23cf341f09e5495c0f706302b"
          }
        },
        "cb47a3229f8e405f8fcd342ad796af1a": {
          "model_module": "@jupyter-widgets/controls",
          "model_name": "HTMLModel",
          "state": {
            "_view_name": "HTMLView",
            "style": "IPY_MODEL_676347c717704f4aa036a734b07f7043",
            "_dom_classes": [],
            "description": "",
            "_model_name": "HTMLModel",
            "placeholder": "​",
            "_view_module": "@jupyter-widgets/controls",
            "_model_module_version": "1.5.0",
            "value": " 261477/261477 [00:03&lt;00:00, 79238.60it/s]",
            "_view_count": null,
            "_view_module_version": "1.5.0",
            "description_tooltip": null,
            "_model_module": "@jupyter-widgets/controls",
            "layout": "IPY_MODEL_ab1d99959035407da4ddcb2ff407bb48"
          }
        },
        "a137692f8fcc4ab98c53d533e46df216": {
          "model_module": "@jupyter-widgets/controls",
          "model_name": "ProgressStyleModel",
          "state": {
            "_view_name": "StyleView",
            "_model_name": "ProgressStyleModel",
            "description_width": "initial",
            "_view_module": "@jupyter-widgets/base",
            "_model_module_version": "1.5.0",
            "_view_count": null,
            "_view_module_version": "1.2.0",
            "bar_color": null,
            "_model_module": "@jupyter-widgets/controls"
          }
        },
        "d3e01bd23cf341f09e5495c0f706302b": {
          "model_module": "@jupyter-widgets/base",
          "model_name": "LayoutModel",
          "state": {
            "_view_name": "LayoutView",
            "grid_template_rows": null,
            "right": null,
            "justify_content": null,
            "_view_module": "@jupyter-widgets/base",
            "overflow": null,
            "_model_module_version": "1.2.0",
            "_view_count": null,
            "flex_flow": null,
            "width": null,
            "min_width": null,
            "border": null,
            "align_items": null,
            "bottom": null,
            "_model_module": "@jupyter-widgets/base",
            "top": null,
            "grid_column": null,
            "overflow_y": null,
            "overflow_x": null,
            "grid_auto_flow": null,
            "grid_area": null,
            "grid_template_columns": null,
            "flex": null,
            "_model_name": "LayoutModel",
            "justify_items": null,
            "grid_row": null,
            "max_height": null,
            "align_content": null,
            "visibility": null,
            "align_self": null,
            "height": null,
            "min_height": null,
            "padding": null,
            "grid_auto_rows": null,
            "grid_gap": null,
            "max_width": null,
            "order": null,
            "_view_module_version": "1.2.0",
            "grid_template_areas": null,
            "object_position": null,
            "object_fit": null,
            "grid_auto_columns": null,
            "margin": null,
            "display": null,
            "left": null
          }
        },
        "676347c717704f4aa036a734b07f7043": {
          "model_module": "@jupyter-widgets/controls",
          "model_name": "DescriptionStyleModel",
          "state": {
            "_view_name": "StyleView",
            "_model_name": "DescriptionStyleModel",
            "description_width": "",
            "_view_module": "@jupyter-widgets/base",
            "_model_module_version": "1.5.0",
            "_view_count": null,
            "_view_module_version": "1.2.0",
            "_model_module": "@jupyter-widgets/controls"
          }
        },
        "ab1d99959035407da4ddcb2ff407bb48": {
          "model_module": "@jupyter-widgets/base",
          "model_name": "LayoutModel",
          "state": {
            "_view_name": "LayoutView",
            "grid_template_rows": null,
            "right": null,
            "justify_content": null,
            "_view_module": "@jupyter-widgets/base",
            "overflow": null,
            "_model_module_version": "1.2.0",
            "_view_count": null,
            "flex_flow": null,
            "width": null,
            "min_width": null,
            "border": null,
            "align_items": null,
            "bottom": null,
            "_model_module": "@jupyter-widgets/base",
            "top": null,
            "grid_column": null,
            "overflow_y": null,
            "overflow_x": null,
            "grid_auto_flow": null,
            "grid_area": null,
            "grid_template_columns": null,
            "flex": null,
            "_model_name": "LayoutModel",
            "justify_items": null,
            "grid_row": null,
            "max_height": null,
            "align_content": null,
            "visibility": null,
            "align_self": null,
            "height": null,
            "min_height": null,
            "padding": null,
            "grid_auto_rows": null,
            "grid_gap": null,
            "max_width": null,
            "order": null,
            "_view_module_version": "1.2.0",
            "grid_template_areas": null,
            "object_position": null,
            "object_fit": null,
            "grid_auto_columns": null,
            "margin": null,
            "display": null,
            "left": null
          }
        },
        "b5da98bcb2e04473af35038d6b978d2b": {
          "model_module": "@jupyter-widgets/controls",
          "model_name": "HBoxModel",
          "state": {
            "_view_name": "HBoxView",
            "_dom_classes": [],
            "_model_name": "HBoxModel",
            "_view_module": "@jupyter-widgets/controls",
            "_model_module_version": "1.5.0",
            "_view_count": null,
            "_view_module_version": "1.5.0",
            "box_style": "",
            "layout": "IPY_MODEL_9a5a8a04c4454e01bacc254557b988e0",
            "_model_module": "@jupyter-widgets/controls",
            "children": [
              "IPY_MODEL_0ae5e3daaabc47b8b5f987d1d2445fdd",
              "IPY_MODEL_db21726aa1c14ebb96b586b374a4fd8f"
            ]
          }
        },
        "9a5a8a04c4454e01bacc254557b988e0": {
          "model_module": "@jupyter-widgets/base",
          "model_name": "LayoutModel",
          "state": {
            "_view_name": "LayoutView",
            "grid_template_rows": null,
            "right": null,
            "justify_content": null,
            "_view_module": "@jupyter-widgets/base",
            "overflow": null,
            "_model_module_version": "1.2.0",
            "_view_count": null,
            "flex_flow": null,
            "width": null,
            "min_width": null,
            "border": null,
            "align_items": null,
            "bottom": null,
            "_model_module": "@jupyter-widgets/base",
            "top": null,
            "grid_column": null,
            "overflow_y": null,
            "overflow_x": null,
            "grid_auto_flow": null,
            "grid_area": null,
            "grid_template_columns": null,
            "flex": null,
            "_model_name": "LayoutModel",
            "justify_items": null,
            "grid_row": null,
            "max_height": null,
            "align_content": null,
            "visibility": null,
            "align_self": null,
            "height": null,
            "min_height": null,
            "padding": null,
            "grid_auto_rows": null,
            "grid_gap": null,
            "max_width": null,
            "order": null,
            "_view_module_version": "1.2.0",
            "grid_template_areas": null,
            "object_position": null,
            "object_fit": null,
            "grid_auto_columns": null,
            "margin": null,
            "display": null,
            "left": null
          }
        },
        "0ae5e3daaabc47b8b5f987d1d2445fdd": {
          "model_module": "@jupyter-widgets/controls",
          "model_name": "IntProgressModel",
          "state": {
            "_view_name": "ProgressView",
            "style": "IPY_MODEL_8e5e84dc734a40fea1439e372330d48d",
            "_dom_classes": [],
            "description": "100%",
            "_model_name": "IntProgressModel",
            "bar_style": "success",
            "max": 261477,
            "_view_module": "@jupyter-widgets/controls",
            "_model_module_version": "1.5.0",
            "value": 261477,
            "_view_count": null,
            "_view_module_version": "1.5.0",
            "orientation": "horizontal",
            "min": 0,
            "description_tooltip": null,
            "_model_module": "@jupyter-widgets/controls",
            "layout": "IPY_MODEL_f33b420c309643d98a7cdcf16ffe14a7"
          }
        },
        "db21726aa1c14ebb96b586b374a4fd8f": {
          "model_module": "@jupyter-widgets/controls",
          "model_name": "HTMLModel",
          "state": {
            "_view_name": "HTMLView",
            "style": "IPY_MODEL_72e077ff7c09491a90cd5cf643c80c07",
            "_dom_classes": [],
            "description": "",
            "_model_name": "HTMLModel",
            "placeholder": "​",
            "_view_module": "@jupyter-widgets/controls",
            "_model_module_version": "1.5.0",
            "value": " 261477/261477 [00:02&lt;00:00, 122518.81it/s]",
            "_view_count": null,
            "_view_module_version": "1.5.0",
            "description_tooltip": null,
            "_model_module": "@jupyter-widgets/controls",
            "layout": "IPY_MODEL_1c52b5cdd4db4699813e776ff3271f77"
          }
        },
        "8e5e84dc734a40fea1439e372330d48d": {
          "model_module": "@jupyter-widgets/controls",
          "model_name": "ProgressStyleModel",
          "state": {
            "_view_name": "StyleView",
            "_model_name": "ProgressStyleModel",
            "description_width": "initial",
            "_view_module": "@jupyter-widgets/base",
            "_model_module_version": "1.5.0",
            "_view_count": null,
            "_view_module_version": "1.2.0",
            "bar_color": null,
            "_model_module": "@jupyter-widgets/controls"
          }
        },
        "f33b420c309643d98a7cdcf16ffe14a7": {
          "model_module": "@jupyter-widgets/base",
          "model_name": "LayoutModel",
          "state": {
            "_view_name": "LayoutView",
            "grid_template_rows": null,
            "right": null,
            "justify_content": null,
            "_view_module": "@jupyter-widgets/base",
            "overflow": null,
            "_model_module_version": "1.2.0",
            "_view_count": null,
            "flex_flow": null,
            "width": null,
            "min_width": null,
            "border": null,
            "align_items": null,
            "bottom": null,
            "_model_module": "@jupyter-widgets/base",
            "top": null,
            "grid_column": null,
            "overflow_y": null,
            "overflow_x": null,
            "grid_auto_flow": null,
            "grid_area": null,
            "grid_template_columns": null,
            "flex": null,
            "_model_name": "LayoutModel",
            "justify_items": null,
            "grid_row": null,
            "max_height": null,
            "align_content": null,
            "visibility": null,
            "align_self": null,
            "height": null,
            "min_height": null,
            "padding": null,
            "grid_auto_rows": null,
            "grid_gap": null,
            "max_width": null,
            "order": null,
            "_view_module_version": "1.2.0",
            "grid_template_areas": null,
            "object_position": null,
            "object_fit": null,
            "grid_auto_columns": null,
            "margin": null,
            "display": null,
            "left": null
          }
        },
        "72e077ff7c09491a90cd5cf643c80c07": {
          "model_module": "@jupyter-widgets/controls",
          "model_name": "DescriptionStyleModel",
          "state": {
            "_view_name": "StyleView",
            "_model_name": "DescriptionStyleModel",
            "description_width": "",
            "_view_module": "@jupyter-widgets/base",
            "_model_module_version": "1.5.0",
            "_view_count": null,
            "_view_module_version": "1.2.0",
            "_model_module": "@jupyter-widgets/controls"
          }
        },
        "1c52b5cdd4db4699813e776ff3271f77": {
          "model_module": "@jupyter-widgets/base",
          "model_name": "LayoutModel",
          "state": {
            "_view_name": "LayoutView",
            "grid_template_rows": null,
            "right": null,
            "justify_content": null,
            "_view_module": "@jupyter-widgets/base",
            "overflow": null,
            "_model_module_version": "1.2.0",
            "_view_count": null,
            "flex_flow": null,
            "width": null,
            "min_width": null,
            "border": null,
            "align_items": null,
            "bottom": null,
            "_model_module": "@jupyter-widgets/base",
            "top": null,
            "grid_column": null,
            "overflow_y": null,
            "overflow_x": null,
            "grid_auto_flow": null,
            "grid_area": null,
            "grid_template_columns": null,
            "flex": null,
            "_model_name": "LayoutModel",
            "justify_items": null,
            "grid_row": null,
            "max_height": null,
            "align_content": null,
            "visibility": null,
            "align_self": null,
            "height": null,
            "min_height": null,
            "padding": null,
            "grid_auto_rows": null,
            "grid_gap": null,
            "max_width": null,
            "order": null,
            "_view_module_version": "1.2.0",
            "grid_template_areas": null,
            "object_position": null,
            "object_fit": null,
            "grid_auto_columns": null,
            "margin": null,
            "display": null,
            "left": null
          }
        }
      }
    }
  },
  "cells": [
    {
      "cell_type": "code",
      "metadata": {
        "id": "dPIPMdaUpGVG",
        "colab_type": "code",
        "outputId": "a1c06ff7-4309-4ee7-9f69-6702cce8f8c6",
        "colab": {
          "base_uri": "https://localhost:8080/",
          "height": 34
        }
      },
      "source": [
        "from google.colab import drive\n",
        "drive.mount('/content/drive')\n",
        "import os\n",
        "os.chdir('/content/drive/My Drive/Colab Notebooks/Tmall_challenge')"
      ],
      "execution_count": 1,
      "outputs": [
        {
          "output_type": "stream",
          "text": [
            "Drive already mounted at /content/drive; to attempt to forcibly remount, call drive.mount(\"/content/drive\", force_remount=True).\n"
          ],
          "name": "stdout"
        }
      ]
    },
    {
      "cell_type": "code",
      "metadata": {
        "id": "vmLGnEtpp2Aa",
        "colab_type": "code",
        "outputId": "ebff2e2f-d3d3-41e4-9281-d327f41f5718",
        "colab": {
          "base_uri": "https://localhost:8080/",
          "height": 187
        }
      },
      "source": [
        "!pip install deepctr\n",
        "!pip install tqdm"
      ],
      "execution_count": 2,
      "outputs": [
        {
          "output_type": "stream",
          "text": [
            "Requirement already satisfied: deepctr in /usr/local/lib/python3.6/dist-packages (0.7.4)\n",
            "Requirement already satisfied: h5py in /usr/local/lib/python3.6/dist-packages (from deepctr) (2.10.0)\n",
            "Requirement already satisfied: requests in /usr/local/lib/python3.6/dist-packages (from deepctr) (2.21.0)\n",
            "Requirement already satisfied: six in /usr/local/lib/python3.6/dist-packages (from h5py->deepctr) (1.12.0)\n",
            "Requirement already satisfied: numpy>=1.7 in /usr/local/lib/python3.6/dist-packages (from h5py->deepctr) (1.18.2)\n",
            "Requirement already satisfied: urllib3<1.25,>=1.21.1 in /usr/local/lib/python3.6/dist-packages (from requests->deepctr) (1.24.3)\n",
            "Requirement already satisfied: certifi>=2017.4.17 in /usr/local/lib/python3.6/dist-packages (from requests->deepctr) (2019.11.28)\n",
            "Requirement already satisfied: chardet<3.1.0,>=3.0.2 in /usr/local/lib/python3.6/dist-packages (from requests->deepctr) (3.0.4)\n",
            "Requirement already satisfied: idna<2.9,>=2.5 in /usr/local/lib/python3.6/dist-packages (from requests->deepctr) (2.8)\n",
            "Requirement already satisfied: tqdm in /usr/local/lib/python3.6/dist-packages (4.38.0)\n"
          ],
          "name": "stdout"
        }
      ]
    },
    {
      "cell_type": "code",
      "metadata": {
        "id": "S5U69NwXqTVW",
        "colab_type": "code",
        "colab": {}
      },
      "source": [
        "import pandas as pd\n",
        "import numpy as np\n",
        "from sklearn.preprocessing import LabelEncoder, OneHotEncoder\n",
        "from deepctr.inputs import SparseFeat, VarLenSparseFeat, DenseFeat\n",
        "from deepctr.models import DIN\n",
        "from tqdm import tqdm_notebook"
      ],
      "execution_count": 0,
      "outputs": []
    },
    {
      "cell_type": "code",
      "metadata": {
        "id": "xar4fdBfw3oo",
        "colab_type": "code",
        "colab": {
          "base_uri": "https://localhost:8080/",
          "height": 54
        },
        "outputId": "f1630dd0-897c-4cae-d003-efa476f7ab59"
      },
      "source": [
        "# 加载样本\n",
        "'''train_data = pd.read_csv('./sample/train_data_sample.csv')\n",
        "test_data = pd.read_csv('./sample/test_data_sample.csv')\n",
        "user_info = pd.read_csv('./sample/user_info_sample.csv')\n",
        "user_log = pd.read_csv('./sample/user_log_sample.csv')\n",
        "train_data1 = pd.read_csv('./train_format2.csv')'''"
      ],
      "execution_count": 4,
      "outputs": [
        {
          "output_type": "execute_result",
          "data": {
            "text/plain": [
              "\"train_data = pd.read_csv('./sample/train_data_sample.csv')\\ntest_data = pd.read_csv('./sample/test_data_sample.csv')\\nuser_info = pd.read_csv('./sample/user_info_sample.csv')\\nuser_log = pd.read_csv('./sample/user_log_sample.csv')\\ntrain_data1 = pd.read_csv('./train_format2.csv')\""
            ]
          },
          "metadata": {
            "tags": []
          },
          "execution_count": 4
        }
      ]
    },
    {
      "cell_type": "code",
      "metadata": {
        "id": "m0EgDN3FxLXd",
        "colab_type": "code",
        "colab": {}
      },
      "source": [
        "# 全量数据\n",
        "\n",
        "train_data = pd.read_csv('./train_format1.csv')\n",
        "test_data = pd.read_csv('./test_format1.csv')\n",
        "user_info = pd.read_csv('./user_info_format1.csv')\n",
        "user_log = pd.read_csv('./user_log_format1.csv')\n",
        "train_data1 = pd.read_csv('./train_format2.csv')"
      ],
      "execution_count": 0,
      "outputs": []
    },
    {
      "cell_type": "code",
      "metadata": {
        "id": "xGl7lsb3xRiu",
        "colab_type": "code",
        "colab": {
          "base_uri": "https://localhost:8080/",
          "height": 54
        },
        "outputId": "c9ff0343-2681-43b6-fd1f-b3ed75894101"
      },
      "source": [
        "train_data['origin'] = 'train'\n",
        "test_data['origin'] = 'test'\n",
        "matrix = pd.concat([train_data, test_data], ignore_index=True, sort=False)\n",
        "# 数据处理\n",
        "user_log.rename(columns={'seller_id': 'merchant_id'}, inplace=True)\n",
        "user_log['brand_id'].fillna(0, inplace=True)\n",
        "user_log['brand_id'] = user_log['brand_id'].astype('int64')\n",
        "user_log['time_stamp'] = pd.to_datetime(user_log['time_stamp'], format='%H%M')\n",
        "user_info['age_range'].fillna(0, inplace=True)\n",
        "user_info = user_info.replace([8], [7])\n",
        "user_info['age_range'] = user_info['age_range'].astype('int64')\n",
        "user_info['gender'].fillna(2, inplace=True)\n",
        "user_info['gender'] = user_info['gender'].astype('int64')\n",
        "\n",
        "'''# 对离散特征做LabelEncoder\n",
        "lbe_merchant_id=LabelEncoder()\n",
        "lbe_merchant_id.fit(np.r_[0,user_log['merchant_id'].values])\n",
        "user_log['merchant_id']=lbe_merchant_id.transform(user_log['merchant_id'])\n",
        "matrix['merchant_id']=lbe_merchant_id.transform(matrix['merchant_id'])\n",
        "\n",
        "lbe_user_id=LabelEncoder()\n",
        "user_log['user_id']=lbe_user_id.fit_transform(user_log['user_id'])\n",
        "user_info['user_id']=lbe_user_id.transform(user_info['user_id'])\n",
        "matrix['user_id']=lbe_user_id.transform(matrix['user_id'])\n",
        "\n",
        "lbe_item_id=LabelEncoder()\n",
        "user_log['item_id']=lbe_item_id.fit_transform(user_log['item_id'])\n",
        "lbe_cat_id=LabelEncoder()\n",
        "user_log['cat_id']=lbe_cat_id.fit_transform(user_log['cat_id'])\n",
        "lbe_brand_id=LabelEncoder()\n",
        "user_log['brand_id']=lbe_brand_id.fit_transform(user_log['brand_id'])'''"
      ],
      "execution_count": 6,
      "outputs": [
        {
          "output_type": "execute_result",
          "data": {
            "text/plain": [
              "\"# 对离散特征做LabelEncoder\\nlbe_merchant_id=LabelEncoder()\\nlbe_merchant_id.fit(np.r_[0,user_log['merchant_id'].values])\\nuser_log['merchant_id']=lbe_merchant_id.transform(user_log['merchant_id'])\\nmatrix['merchant_id']=lbe_merchant_id.transform(matrix['merchant_id'])\\n\\nlbe_user_id=LabelEncoder()\\nuser_log['user_id']=lbe_user_id.fit_transform(user_log['user_id'])\\nuser_info['user_id']=lbe_user_id.transform(user_info['user_id'])\\nmatrix['user_id']=lbe_user_id.transform(matrix['user_id'])\\n\\nlbe_item_id=LabelEncoder()\\nuser_log['item_id']=lbe_item_id.fit_transform(user_log['item_id'])\\nlbe_cat_id=LabelEncoder()\\nuser_log['cat_id']=lbe_cat_id.fit_transform(user_log['cat_id'])\\nlbe_brand_id=LabelEncoder()\\nuser_log['brand_id']=lbe_brand_id.fit_transform(user_log['brand_id'])\""
            ]
          },
          "metadata": {
            "tags": []
          },
          "execution_count": 6
        }
      ]
    },
    {
      "cell_type": "code",
      "metadata": {
        "id": "ThzlfDAnxVLe",
        "colab_type": "code",
        "colab": {}
      },
      "source": [
        "matrix.drop('prob', axis=1, inplace=True)\n",
        "matrix = matrix.merge(user_info, on='user_id', how='left')\n"
      ],
      "execution_count": 0,
      "outputs": []
    },
    {
      "cell_type": "code",
      "metadata": {
        "id": "FBSHeGnMxahI",
        "colab_type": "code",
        "colab": {
          "base_uri": "https://localhost:8080/",
          "height": 34
        },
        "outputId": "380e066c-b330-4620-f7f3-4b8c4c2c3dae"
      },
      "source": [
        "# 用户特征处理\n",
        "groups = user_log.groupby(['user_id'])\n",
        "temp = groups.size().reset_index().rename(columns={0: 'u1'})\n",
        "matrix = matrix.merge(temp, on='user_id', how='left')\n",
        "temp = groups['item_id'].agg([('u2', 'nunique')]).reset_index()\n",
        "matrix = matrix.merge(temp, on='user_id', how='left')\n",
        "temp = groups['cat_id'].agg([('u3', 'nunique')]).reset_index()\n",
        "matrix = matrix.merge(temp, on='user_id', how='left')\n",
        "temp = groups['merchant_id'].agg([('u4', 'nunique')]).reset_index()\n",
        "matrix = matrix.merge(temp, on='user_id', how='left')\n",
        "temp = groups['brand_id'].agg([('u5', 'nunique')]).reset_index()\n",
        "matrix = matrix.merge(temp, on='user_id', how='left')\n",
        "temp = groups['time_stamp'].agg([('F_time', 'min'), ('L_time', 'max')]).reset_index()\n",
        "temp['u6'] = (temp['L_time'] - temp['F_time']).dt.seconds/3600\n",
        "matrix = matrix.merge(temp[['user_id', 'u6']], on='user_id', how='left')\n",
        "temp = groups['action_type'].value_counts().unstack().reset_index().rename(columns={0: 'u7', 1: 'u8', 2: 'u9', 3: 'u10'})\n",
        "matrix = matrix.merge(temp, on='user_id', how='left')\n",
        "\n",
        "# 商户特征处理\n",
        "groups = user_log.groupby(['merchant_id'])\n",
        "temp = groups.size().reset_index().rename(columns={0: 'm1'})\n",
        "matrix = matrix.merge(temp, on='merchant_id', how='left')\n",
        "temp = groups['user_id', 'item_id', 'cat_id', 'brand_id'].nunique().reset_index().rename(columns={'user_id': 'm2', 'item_id': 'm3', 'cat_id': 'm4', 'brand_id': 'm5'})\n",
        "matrix = matrix.merge(temp, on='merchant_id', how='left')\n",
        "temp = groups['action_type'].value_counts().unstack().reset_index().rename(columns={0: 'm6', 1: 'm7', 2: 'm8', 3: 'm9'})\n",
        "matrix = matrix.merge(temp, on='merchant_id', how='left')\n",
        "temp = train_data1[train_data1['label'] == -1].groupby('merchant_id').size().reset_index().rename(columns={0: 'm10'})\n",
        "matrix = matrix.merge(temp, on='merchant_id', how='left')\n",
        "\n",
        "import gc\n",
        "del user_info, train_data1\n",
        "gc.collect()"
      ],
      "execution_count": 8,
      "outputs": [
        {
          "output_type": "execute_result",
          "data": {
            "text/plain": [
              "0"
            ]
          },
          "metadata": {
            "tags": []
          },
          "execution_count": 8
        }
      ]
    },
    {
      "cell_type": "code",
      "metadata": {
        "id": "x-Hzali7xbXW",
        "colab_type": "code",
        "colab": {}
      },
      "source": [
        "groups = user_log.groupby(['user_id', 'merchant_id'])\n",
        "temp = groups.size().reset_index().rename(columns={0: 'um1'})\n",
        "matrix = matrix.merge(temp, on=['user_id', 'merchant_id'], how='left')\n",
        "temp = groups['item_id', 'cat_id', 'brand_id'].nunique().reset_index().rename(columns={'item_id': 'um2', 'cat_id': 'um3', 'brand_id': 'um4'})\n",
        "matrix = matrix.merge(temp, on=['user_id', 'merchant_id'], how='left')\n",
        "temp = groups['action_type'].value_counts().unstack().reset_index().rename(columns={0: 'um5', 1: 'um6', 2: 'um7', 3: 'um8'})\n",
        "matrix = matrix.merge(temp, on=['user_id', 'merchant_id'], how='left')\n",
        "temp = groups['time_stamp'].agg([('first', 'min'), ('last', 'max')]).reset_index()\n",
        "temp['um9'] = (temp['last'] - temp['first']).dt.seconds/3600\n",
        "temp.drop(['last', 'first'], axis=1, inplace=True)\n",
        "matrix = matrix.merge(temp, on=['user_id', 'merchant_id'], how='left')"
      ],
      "execution_count": 0,
      "outputs": []
    },
    {
      "cell_type": "code",
      "metadata": {
        "id": "hlDl_B2rxeYE",
        "colab_type": "code",
        "colab": {}
      },
      "source": [
        "matrix['r1'] = matrix['u9'] / matrix['u7']\n",
        "matrix['r2'] = matrix['m8'] / matrix['m6']\n",
        "matrix['r3'] = matrix['um7'] / matrix['um5']\n",
        "matrix.fillna(0, inplace=True)\n",
        "temp = pd.get_dummies(matrix['age_range'], prefix='age')\n",
        "matrix = pd.concat([matrix, temp], axis=1)\n",
        "temp = pd.get_dummies(matrix['gender'], prefix='gen')\n",
        "matrix = pd.concat([matrix, temp], axis=1)\n",
        "matrix.drop(['age_range', 'gender'], axis=1, inplace=True)"
      ],
      "execution_count": 0,
      "outputs": []
    },
    {
      "cell_type": "code",
      "metadata": {
        "id": "FMUEEmEyUVpT",
        "colab_type": "code",
        "colab": {}
      },
      "source": [
        "lbe_action_type = {0:1, 1:2, 2:3, 3:4}\n",
        "user_log['action_type'] = user_log['action_type'].map(lbe_action_type)\n",
        "temp = pd.DataFrame(user_log.groupby('user_id')['merchant_id','action_type'].agg(lambda x:list(x)))\n",
        "temp.columns = ['hist_merchant_id','hist_action_type']\n",
        "matrix = matrix.merge(temp, on='user_id', how='left')\n",
        "\n",
        "max_len = 500\n",
        "for feature in ['hist_merchant_id', 'hist_action_type']:\n",
        "    matrix[feature] = matrix[feature].map(lambda x: np.array(x + [0] * (max_len - len(x)))[:max_len])\n"
      ],
      "execution_count": 0,
      "outputs": []
    },
    {
      "cell_type": "code",
      "metadata": {
        "id": "3vpMdZuwxhP-",
        "colab_type": "code",
        "colab": {}
      },
      "source": [
        "train_data = matrix[matrix['origin'] == 'train'].drop('origin', axis=1)\n",
        "test = matrix[matrix['origin'] == 'test'].drop(['label', 'origin'], axis=1)\n",
        "x_train, y_train = train_data.drop('label', axis=1), train_data['label']"
      ],
      "execution_count": 0,
      "outputs": []
    },
    {
      "cell_type": "code",
      "metadata": {
        "id": "V1B1KYRm7T0b",
        "colab_type": "code",
        "colab": {}
      },
      "source": [
        "x_train['action_type']=3\n",
        "feature_columns = []\n",
        "for col in x_train.columns:\n",
        "    if col not in ['hist_merchant_id', 'hist_action_type']:\n",
        "        num = x_train[col].nunique()\n",
        "        if num > 10000:\n",
        "            dim = 10\n",
        "        else:\n",
        "            if num > 1000:\n",
        "                dim = 8\n",
        "            else:\n",
        "                dim = 4\n",
        "        if col in ['user_id', 'merchant_id','age_0', 'age_1', 'age_2', 'age_3', 'age_4', 'age_5', 'age_6', 'age_7', 'gen_0', 'gen_1', 'gen_2']:\n",
        "            feature_columns += [SparseFeat(col, x_train[col].max()+1, embedding_dim=dim)]\n",
        "        elif col  == 'action_type':\n",
        "            feature_columns += [SparseFeat(col, 4+1, embedding_dim=dim)]\n",
        "        else:\n",
        "            feature_columns += [DenseFeat(col, 1)]\n",
        "\n",
        "feature_columns += [VarLenSparseFeat(SparseFeat('hist_merchant_id', vocabulary_size=user_log['merchant_id'].nunique()+1, embedding_dim=8, embedding_name='merchant_id'), maxlen=max_len),\n",
        "                    VarLenSparseFeat(SparseFeat('hist_action_type', vocabulary_size=user_log['action_type'].nunique()+1, embedding_dim=4, embedding_name='action_type'), maxlen=max_len)]\n",
        "hist_features = ['merchant_id', 'action_type']"
      ],
      "execution_count": 0,
      "outputs": []
    },
    {
      "cell_type": "code",
      "metadata": {
        "id": "jFIeeqq3AxNt",
        "colab_type": "code",
        "colab": {
          "base_uri": "https://localhost:8080/",
          "height": 853
        },
        "outputId": "2c8bb82a-bf59-416b-9853-2cf57e0923ca"
      },
      "source": [
        "feature_columns"
      ],
      "execution_count": 14,
      "outputs": [
        {
          "output_type": "execute_result",
          "data": {
            "text/plain": [
              "[SparseFeat(name='user_id', vocabulary_size=424171, embedding_dim=10, use_hash=False, dtype='int32', embedding_name='user_id', group_name='default_group'),\n",
              " SparseFeat(name='merchant_id', vocabulary_size=4994, embedding_dim=8, use_hash=False, dtype='int32', embedding_name='merchant_id', group_name='default_group'),\n",
              " DenseFeat(name='u1', dimension=1, dtype='float32'),\n",
              " DenseFeat(name='u2', dimension=1, dtype='float32'),\n",
              " DenseFeat(name='u3', dimension=1, dtype='float32'),\n",
              " DenseFeat(name='u4', dimension=1, dtype='float32'),\n",
              " DenseFeat(name='u5', dimension=1, dtype='float32'),\n",
              " DenseFeat(name='u6', dimension=1, dtype='float32'),\n",
              " DenseFeat(name='u7', dimension=1, dtype='float32'),\n",
              " DenseFeat(name='u8', dimension=1, dtype='float32'),\n",
              " DenseFeat(name='u9', dimension=1, dtype='float32'),\n",
              " DenseFeat(name='u10', dimension=1, dtype='float32'),\n",
              " DenseFeat(name='m1', dimension=1, dtype='float32'),\n",
              " DenseFeat(name='m2', dimension=1, dtype='float32'),\n",
              " DenseFeat(name='m3', dimension=1, dtype='float32'),\n",
              " DenseFeat(name='m4', dimension=1, dtype='float32'),\n",
              " DenseFeat(name='m5', dimension=1, dtype='float32'),\n",
              " DenseFeat(name='m6', dimension=1, dtype='float32'),\n",
              " DenseFeat(name='m7', dimension=1, dtype='float32'),\n",
              " DenseFeat(name='m8', dimension=1, dtype='float32'),\n",
              " DenseFeat(name='m9', dimension=1, dtype='float32'),\n",
              " DenseFeat(name='m10', dimension=1, dtype='float32'),\n",
              " DenseFeat(name='um1', dimension=1, dtype='float32'),\n",
              " DenseFeat(name='um2', dimension=1, dtype='float32'),\n",
              " DenseFeat(name='um3', dimension=1, dtype='float32'),\n",
              " DenseFeat(name='um4', dimension=1, dtype='float32'),\n",
              " DenseFeat(name='um5', dimension=1, dtype='float32'),\n",
              " DenseFeat(name='um6', dimension=1, dtype='float32'),\n",
              " DenseFeat(name='um7', dimension=1, dtype='float32'),\n",
              " DenseFeat(name='um8', dimension=1, dtype='float32'),\n",
              " DenseFeat(name='um9', dimension=1, dtype='float32'),\n",
              " DenseFeat(name='r1', dimension=1, dtype='float32'),\n",
              " DenseFeat(name='r2', dimension=1, dtype='float32'),\n",
              " DenseFeat(name='r3', dimension=1, dtype='float32'),\n",
              " DenseFeat(name='age_0.0', dimension=1, dtype='float32'),\n",
              " DenseFeat(name='age_1.0', dimension=1, dtype='float32'),\n",
              " DenseFeat(name='age_2.0', dimension=1, dtype='float32'),\n",
              " DenseFeat(name='age_3.0', dimension=1, dtype='float32'),\n",
              " DenseFeat(name='age_4.0', dimension=1, dtype='float32'),\n",
              " DenseFeat(name='age_5.0', dimension=1, dtype='float32'),\n",
              " DenseFeat(name='age_6.0', dimension=1, dtype='float32'),\n",
              " DenseFeat(name='age_7.0', dimension=1, dtype='float32'),\n",
              " DenseFeat(name='gen_0.0', dimension=1, dtype='float32'),\n",
              " DenseFeat(name='gen_1.0', dimension=1, dtype='float32'),\n",
              " DenseFeat(name='gen_2.0', dimension=1, dtype='float32'),\n",
              " SparseFeat(name='action_type', vocabulary_size=5, embedding_dim=4, use_hash=False, dtype='int32', embedding_name='action_type', group_name='default_group'),\n",
              " VarLenSparseFeat(sparsefeat=SparseFeat(name='hist_merchant_id', vocabulary_size=4996, embedding_dim=8, use_hash=False, dtype='int32', embedding_name='merchant_id', group_name='default_group'), maxlen=500, combiner='mean', length_name=None, weight_name=None, weight_norm=True),\n",
              " VarLenSparseFeat(sparsefeat=SparseFeat(name='hist_action_type', vocabulary_size=5, embedding_dim=4, use_hash=False, dtype='int32', embedding_name='action_type', group_name='default_group'), maxlen=500, combiner='mean', length_name=None, weight_name=None, weight_norm=True)]"
            ]
          },
          "metadata": {
            "tags": []
          },
          "execution_count": 14
        }
      ]
    },
    {
      "cell_type": "code",
      "metadata": {
        "id": "kCZy1SWAmxGI",
        "colab_type": "code",
        "colab": {
          "base_uri": "https://localhost:8080/",
          "height": 676,
          "referenced_widgets": [
            "29f9db2fdd8f4109b1f9731d11ea1def",
            "c398a0409a6b46eeb7ce9b05eafff14f",
            "9c00752d29e640e5b0fb942880c46c7a",
            "7ea9fa96f9a54ba692ee213e4ca786fc",
            "7252b38a7ed7456896c062cdba1b5a62",
            "b8093517337a41878742e82e9f7069c1",
            "9642a0b7933e412488cdd22d200c6cef",
            "91b529783b6144e49a6baf2f74d38e3f",
            "bc3a116514d441cd80894b373a552603",
            "46d525f9f5e743c296cd57f009af4ed1",
            "8edeac0da3f94c51be0c94a0c3f1bb35",
            "cd763782e5b34c4bbe53c0a2f760dfaa",
            "85de6ae9e4c749cab4358f9fe3dc3a0e",
            "b551db5239d746f29c706905d10b2492",
            "0c84fad37ab648d98344a19b28e9634d",
            "a1ada2b217a9461cb317082b15ec58fc"
          ]
        },
        "outputId": "beb7bc86-0a28-40a7-bf50-1f8e05848194"
      },
      "source": [
        "model = DIN(feature_columns, hist_features)\n",
        "model.compile('adam', 'binary_crossentropy', metrics=['binary_crossentropy'])\n",
        "\n",
        "feature_names = list(x_train.columns)\n",
        "train_model_input = {name: x_train[name].values for name in feature_names}\n",
        "for feature in ['hist_merchant_id', 'hist_action_type']:\n",
        "    l = []\n",
        "    for i in tqdm_notebook(train_model_input[feature]):\n",
        "        l.append(i)\n",
        "    train_model_input[feature] = np.array(l)\n",
        "history = model.fit(train_model_input, y_train.map(float), verbose=True, epochs=10, validation_split=0.2, batch_size=512)"
      ],
      "execution_count": 15,
      "outputs": [
        {
          "output_type": "stream",
          "text": [
            "WARNING:tensorflow:\n",
            "The following Variables were used a Lambda layer's call (lambda), but\n",
            "are not present in its tracked objects:\n",
            "  <tf.Variable 'attention_sequence_pooling_layer/local_activation_unit/kernel:0' shape=(40, 1) dtype=float32>\n",
            "  <tf.Variable 'attention_sequence_pooling_layer/local_activation_unit/bias:0' shape=(1,) dtype=float32>\n",
            "It is possible that this is intended behavior, but it is more likely\n",
            "an omission. This is a strong indication that this layer should be\n",
            "formulated as a subclassed Layer rather than a Lambda layer.\n"
          ],
          "name": "stdout"
        },
        {
          "output_type": "stream",
          "text": [
            "/usr/local/lib/python3.6/dist-packages/ipykernel_launcher.py:8: TqdmDeprecationWarning: This function will be removed in tqdm==5.0.0\n",
            "Please use `tqdm.notebook.tqdm` instead of `tqdm.tqdm_notebook`\n",
            "  \n"
          ],
          "name": "stderr"
        },
        {
          "output_type": "display_data",
          "data": {
            "application/vnd.jupyter.widget-view+json": {
              "model_id": "29f9db2fdd8f4109b1f9731d11ea1def",
              "version_minor": 0,
              "version_major": 2
            },
            "text/plain": [
              "HBox(children=(IntProgress(value=0, max=260865), HTML(value='')))"
            ]
          },
          "metadata": {
            "tags": []
          }
        },
        {
          "output_type": "stream",
          "text": [
            "\n"
          ],
          "name": "stdout"
        },
        {
          "output_type": "display_data",
          "data": {
            "application/vnd.jupyter.widget-view+json": {
              "model_id": "bc3a116514d441cd80894b373a552603",
              "version_minor": 0,
              "version_major": 2
            },
            "text/plain": [
              "HBox(children=(IntProgress(value=0, max=260865), HTML(value='')))"
            ]
          },
          "metadata": {
            "tags": []
          }
        },
        {
          "output_type": "stream",
          "text": [
            "\n",
            "Epoch 1/10\n"
          ],
          "name": "stdout"
        },
        {
          "output_type": "stream",
          "text": [
            "/usr/local/lib/python3.6/dist-packages/tensorflow/python/framework/indexed_slices.py:434: UserWarning: Converting sparse IndexedSlices to a dense Tensor of unknown shape. This may consume a large amount of memory.\n",
            "  \"Converting sparse IndexedSlices to a dense Tensor of unknown shape. \"\n"
          ],
          "name": "stderr"
        },
        {
          "output_type": "stream",
          "text": [
            "408/408 [==============================] - 127s 312ms/step - loss: 1.0672 - binary_crossentropy: 1.0674 - val_loss: 0.9430 - val_binary_crossentropy: 0.9431\n",
            "Epoch 2/10\n",
            "408/408 [==============================] - 129s 317ms/step - loss: 0.9436 - binary_crossentropy: 0.9433 - val_loss: 0.9430 - val_binary_crossentropy: 0.9431\n",
            "Epoch 3/10\n",
            "408/408 [==============================] - 129s 316ms/step - loss: 0.9433 - binary_crossentropy: 0.9433 - val_loss: 0.9430 - val_binary_crossentropy: 0.9431\n",
            "Epoch 4/10\n",
            "408/408 [==============================] - 130s 319ms/step - loss: 0.9431 - binary_crossentropy: 0.9433 - val_loss: 0.9430 - val_binary_crossentropy: 0.9431\n",
            "Epoch 5/10\n",
            "408/408 [==============================] - 129s 317ms/step - loss: 0.9435 - binary_crossentropy: 0.9433 - val_loss: 0.9430 - val_binary_crossentropy: 0.9431\n",
            "Epoch 6/10\n",
            "408/408 [==============================] - 129s 317ms/step - loss: 0.9434 - binary_crossentropy: 0.9433 - val_loss: 0.9430 - val_binary_crossentropy: 0.9431\n",
            "Epoch 7/10\n",
            "408/408 [==============================] - 130s 319ms/step - loss: 0.9434 - binary_crossentropy: 0.9433 - val_loss: 0.9430 - val_binary_crossentropy: 0.9431\n",
            "Epoch 8/10\n",
            "408/408 [==============================] - 131s 322ms/step - loss: 0.9435 - binary_crossentropy: 0.9433 - val_loss: 0.9430 - val_binary_crossentropy: 0.9431\n",
            "Epoch 9/10\n",
            "408/408 [==============================] - 133s 326ms/step - loss: 0.9434 - binary_crossentropy: 0.9433 - val_loss: 0.9430 - val_binary_crossentropy: 0.9431\n",
            "Epoch 10/10\n",
            "408/408 [==============================] - 139s 341ms/step - loss: 0.9434 - binary_crossentropy: 0.9433 - val_loss: 0.9430 - val_binary_crossentropy: 0.9431\n"
          ],
          "name": "stdout"
        }
      ]
    },
    {
      "cell_type": "code",
      "metadata": {
        "id": "DXnJil4NMNhT",
        "colab_type": "code",
        "colab": {
          "base_uri": "https://localhost:8080/",
          "height": 166,
          "referenced_widgets": [
            "2838ed1b47b04e25aaa12a1612bff56d",
            "c1887401342d4b26b9579ec54af8addb",
            "77e3979306854d5dab618a3b65799e42",
            "cb47a3229f8e405f8fcd342ad796af1a",
            "a137692f8fcc4ab98c53d533e46df216",
            "d3e01bd23cf341f09e5495c0f706302b",
            "676347c717704f4aa036a734b07f7043",
            "ab1d99959035407da4ddcb2ff407bb48",
            "b5da98bcb2e04473af35038d6b978d2b",
            "9a5a8a04c4454e01bacc254557b988e0",
            "0ae5e3daaabc47b8b5f987d1d2445fdd",
            "db21726aa1c14ebb96b586b374a4fd8f",
            "8e5e84dc734a40fea1439e372330d48d",
            "f33b420c309643d98a7cdcf16ffe14a7",
            "72e077ff7c09491a90cd5cf643c80c07",
            "1c52b5cdd4db4699813e776ff3271f77"
          ]
        },
        "outputId": "215f36a9-a503-4c43-8070-cdb2f0f74c13"
      },
      "source": [
        "test['action_type']=3\n",
        "test_model_input = {name:test[name].values for name in feature_names}\n",
        "\n",
        "for fea in ['hist_merchant_id','hist_action_type']:\n",
        "    l = []\n",
        "    for i in tqdm_notebook(test_model_input[fea]):\n",
        "        l.append(i)\n",
        "    test_model_input[fea]=np.array(l)\n",
        "\n",
        "# 得到预测结果\n",
        "prob = model.predict(test_model_input)\n",
        "test_data['prob'] = prob"
      ],
      "execution_count": 16,
      "outputs": [
        {
          "output_type": "stream",
          "text": [
            "/usr/local/lib/python3.6/dist-packages/ipykernel_launcher.py:6: TqdmDeprecationWarning: This function will be removed in tqdm==5.0.0\n",
            "Please use `tqdm.notebook.tqdm` instead of `tqdm.tqdm_notebook`\n",
            "  \n"
          ],
          "name": "stderr"
        },
        {
          "output_type": "display_data",
          "data": {
            "application/vnd.jupyter.widget-view+json": {
              "model_id": "2838ed1b47b04e25aaa12a1612bff56d",
              "version_minor": 0,
              "version_major": 2
            },
            "text/plain": [
              "HBox(children=(IntProgress(value=0, max=261477), HTML(value='')))"
            ]
          },
          "metadata": {
            "tags": []
          }
        },
        {
          "output_type": "stream",
          "text": [
            "\n"
          ],
          "name": "stdout"
        },
        {
          "output_type": "display_data",
          "data": {
            "application/vnd.jupyter.widget-view+json": {
              "model_id": "b5da98bcb2e04473af35038d6b978d2b",
              "version_minor": 0,
              "version_major": 2
            },
            "text/plain": [
              "HBox(children=(IntProgress(value=0, max=261477), HTML(value='')))"
            ]
          },
          "metadata": {
            "tags": []
          }
        },
        {
          "output_type": "stream",
          "text": [
            "\n"
          ],
          "name": "stdout"
        }
      ]
    },
    {
      "cell_type": "code",
      "metadata": {
        "id": "_uhbDoSLXZut",
        "colab_type": "code",
        "colab": {}
      },
      "source": [
        "model.predict?"
      ],
      "execution_count": 0,
      "outputs": []
    }
  ]
}