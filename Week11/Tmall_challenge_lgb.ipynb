{
 "cells": [
  {
   "cell_type": "code",
   "execution_count": 16,
   "metadata": {},
   "outputs": [],
   "source": [
    "import pandas as pd\n",
    "from sklearn.model_selection import train_test_split\n",
    "import xgboost as xgb\n",
    "import lightgbm as lgb"
   ]
  },
  {
   "cell_type": "code",
   "execution_count": 2,
   "metadata": {},
   "outputs": [],
   "source": [
    "# 全量数据\n",
    "\n",
    "train_data = pd.read_csv('./data_format1/train_format1.csv')\n",
    "test_data = pd.read_csv('./data_format1/test_format1.csv')\n",
    "user_info = pd.read_csv('./data_format1/user_info_format1.csv')\n",
    "user_log = pd.read_csv('./data_format1/user_log_format1.csv')\n"
   ]
  },
  {
   "cell_type": "code",
   "execution_count": 3,
   "metadata": {},
   "outputs": [
    {
     "data": {
      "text/plain": [
       "\"\\nuser_info.set_index('user_id', inplace=True)\\nuser_log.set_index('user_id', inplace=True)\\ntrain_data_sample = train_data.sample(n=15000)\\ntest_data_sample = test_data.sample(n=5000)\\nsample_user_id = train_data_sample['user_id'].tolist() + test_data_sample['user_id'].tolist()\\nuser_info_sample = user_info.loc[sample_user_id]\\nuser_log_sample = user_log.loc[sample_user_id]\\ntrain_data_sample.set_index('user_id', inplace=True)\\ntest_data_sample.set_index('user_id', inplace=True)\\n\""
      ]
     },
     "execution_count": 3,
     "metadata": {},
     "output_type": "execute_result"
    }
   ],
   "source": [
    "# 样本提取\n",
    "'''\n",
    "user_info.set_index('user_id', inplace=True)\n",
    "user_log.set_index('user_id', inplace=True)\n",
    "train_data_sample = train_data.sample(n=15000)\n",
    "test_data_sample = test_data.sample(n=5000)\n",
    "sample_user_id = train_data_sample['user_id'].tolist() + test_data_sample['user_id'].tolist()\n",
    "user_info_sample = user_info.loc[sample_user_id]\n",
    "user_log_sample = user_log.loc[sample_user_id]\n",
    "train_data_sample.set_index('user_id', inplace=True)\n",
    "test_data_sample.set_index('user_id', inplace=True)\n",
    "'''"
   ]
  },
  {
   "cell_type": "code",
   "execution_count": 4,
   "metadata": {},
   "outputs": [
    {
     "data": {
      "text/plain": [
       "\"\\ntrain_data_sample.to_csv('./sample/train_data_sample.csv')\\ntest_data_sample.to_csv('./sample/test_data_sample.csv')\\nuser_info_sample.to_csv('./sample/user_info_sample.csv')\\nuser_log_sample.to_csv('./sample/user_log_sample.csv')\\n\""
      ]
     },
     "execution_count": 4,
     "metadata": {},
     "output_type": "execute_result"
    }
   ],
   "source": [
    "# 保存样本\n",
    "'''\n",
    "train_data_sample.to_csv('./sample/train_data_sample.csv')\n",
    "test_data_sample.to_csv('./sample/test_data_sample.csv')\n",
    "user_info_sample.to_csv('./sample/user_info_sample.csv')\n",
    "user_log_sample.to_csv('./sample/user_log_sample.csv')\n",
    "'''"
   ]
  },
  {
   "cell_type": "code",
   "execution_count": 5,
   "metadata": {},
   "outputs": [
    {
     "data": {
      "text/plain": [
       "\"\\ntrain_data = pd.read_csv('./sample/train_data_sample.csv')\\ntest_data = pd.read_csv('./sample/test_data_sample.csv')\\nuser_info = pd.read_csv('./sample/user_info_sample.csv')\\nuser_log = pd.read_csv('./sample/user_log_sample.csv')\\n\""
      ]
     },
     "execution_count": 5,
     "metadata": {},
     "output_type": "execute_result"
    }
   ],
   "source": [
    "# 加载样本\n",
    "'''\n",
    "train_data = pd.read_csv('./sample/train_data_sample.csv')\n",
    "test_data = pd.read_csv('./sample/test_data_sample.csv')\n",
    "user_info = pd.read_csv('./sample/user_info_sample.csv')\n",
    "user_log = pd.read_csv('./sample/user_log_sample.csv')\n",
    "'''"
   ]
  },
  {
   "cell_type": "code",
   "execution_count": 6,
   "metadata": {},
   "outputs": [],
   "source": [
    "user_log.rename(columns={'seller_id': 'merchant_id'}, inplace=True)"
   ]
  },
  {
   "cell_type": "code",
   "execution_count": 7,
   "metadata": {},
   "outputs": [],
   "source": [
    "# 数据清洗\n",
    "user_log['brand_id'].fillna(0, inplace=True)\n",
    "user_log['brand_id'] = user_log['brand_id'].astype('int64')\n",
    "user_log['time_stamp'] = pd.to_datetime(user_log['time_stamp'], format='%H%M')\n",
    "user_info['age_range'].fillna(0, inplace=True)\n",
    "user_info = user_info.replace([8], [7])\n",
    "user_info['age_range'] = user_info['age_range'].astype('int64')\n",
    "user_info['gender'].fillna(2, inplace=True)\n",
    "user_info['gender'] = user_info['gender'].astype('int64')"
   ]
  },
  {
   "cell_type": "code",
   "execution_count": 8,
   "metadata": {},
   "outputs": [
    {
     "name": "stdout",
     "output_type": "stream",
     "text": [
      "<class 'pandas.core.frame.DataFrame'>\n",
      "RangeIndex: 260864 entries, 0 to 260863\n",
      "Data columns (total 3 columns):\n",
      " #   Column       Non-Null Count   Dtype\n",
      "---  ------       --------------   -----\n",
      " 0   user_id      260864 non-null  int64\n",
      " 1   merchant_id  260864 non-null  int64\n",
      " 2   label        260864 non-null  int64\n",
      "dtypes: int64(3)\n",
      "memory usage: 6.0 MB\n",
      "None\n",
      "<class 'pandas.core.frame.DataFrame'>\n",
      "RangeIndex: 424170 entries, 0 to 424169\n",
      "Data columns (total 3 columns):\n",
      " #   Column     Non-Null Count   Dtype\n",
      "---  ------     --------------   -----\n",
      " 0   user_id    424170 non-null  int64\n",
      " 1   age_range  424170 non-null  int64\n",
      " 2   gender     424170 non-null  int64\n",
      "dtypes: int64(3)\n",
      "memory usage: 9.7 MB\n",
      "None\n",
      "<class 'pandas.core.frame.DataFrame'>\n",
      "RangeIndex: 54925330 entries, 0 to 54925329\n",
      "Data columns (total 7 columns):\n",
      " #   Column       Non-Null Count     Dtype         \n",
      "---  ------       --------------     -----         \n",
      " 0   user_id      54925330 non-null  int64         \n",
      " 1   item_id      54925330 non-null  int64         \n",
      " 2   cat_id       54925330 non-null  int64         \n",
      " 3   merchant_id  54925330 non-null  int64         \n",
      " 4   brand_id     54925330 non-null  int64         \n",
      " 5   time_stamp   54925330 non-null  datetime64[ns]\n",
      " 6   action_type  54925330 non-null  int64         \n",
      "dtypes: datetime64[ns](1), int64(6)\n",
      "memory usage: 2.9 GB\n",
      "None\n"
     ]
    }
   ],
   "source": [
    "print(train_data.info())\n",
    "print(user_info.info())\n",
    "print(user_log.info(null_counts=True))"
   ]
  },
  {
   "cell_type": "code",
   "execution_count": 9,
   "metadata": {},
   "outputs": [],
   "source": [
    "train_data['origin'] = 'train'\n",
    "test_data['origin'] = 'test'\n",
    "matrix = pd.concat([train_data, test_data], ignore_index=True, sort=False)\n",
    "matrix.drop('prob', axis=1, inplace=True)\n",
    "matrix = matrix.merge(user_info, on='user_id', how='left')"
   ]
  },
  {
   "cell_type": "code",
   "execution_count": 10,
   "metadata": {},
   "outputs": [
    {
     "name": "stderr",
     "output_type": "stream",
     "text": [
      "/Users/paulhwang/anaconda3/envs/python3/lib/python3.7/site-packages/ipykernel_launcher.py:23: FutureWarning: Indexing with multiple keys (implicitly converted to a tuple of keys) will be deprecated, use a list instead.\n"
     ]
    }
   ],
   "source": [
    "# 用户特征处理\n",
    "groups = user_log.groupby(['user_id'])\n",
    "temp = groups.size().reset_index().rename(columns={0: 'u1'})\n",
    "matrix = matrix.merge(temp, on='user_id', how='left')\n",
    "temp = groups['item_id'].agg([('u2', 'nunique')]).reset_index()\n",
    "matrix = matrix.merge(temp, on='user_id', how='left')\n",
    "temp = groups['cat_id'].agg([('u3', 'nunique')]).reset_index()\n",
    "matrix = matrix.merge(temp, on='user_id', how='left')\n",
    "temp = groups['merchant_id'].agg([('u4', 'nunique')]).reset_index()\n",
    "matrix = matrix.merge(temp, on='user_id', how='left')\n",
    "temp = groups['brand_id'].agg([('u5', 'nunique')]).reset_index()\n",
    "matrix = matrix.merge(temp, on='user_id', how='left')\n",
    "temp = groups['time_stamp'].agg([('F_time', 'min'), ('L_time', 'max')]).reset_index()\n",
    "temp['u6'] = (temp['L_time'] - temp['F_time']).dt.seconds/3600\n",
    "matrix = matrix.merge(temp[['user_id', 'u6']], on='user_id', how='left')\n",
    "temp = groups['action_type'].value_counts().unstack().reset_index().rename(columns={0: 'u7', 1: 'u8', 2: 'u9', 3: 'u10'})\n",
    "matrix = matrix.merge(temp, on='user_id', how='left')\n",
    "\n",
    "# 商户特征处理\n",
    "groups = user_log.groupby(['merchant_id'])\n",
    "temp = groups.size().reset_index().rename(columns={0: 'm1'})\n",
    "matrix = matrix.merge(temp, on='merchant_id', how='left')\n",
    "temp = groups['user_id', 'item_id', 'cat_id', 'brand_id'].nunique().reset_index().rename(columns={'user_id': 'm2', 'item_id': 'm3', 'cat_id': 'm4', 'brand_id': 'm5'})\n",
    "matrix = matrix.merge(temp, on='merchant_id', how='left')\n",
    "temp = groups['action_type'].value_counts().unstack().reset_index().rename(columns={0: 'm6', 1: 'm7', 2: 'm8', 3: 'm9'})\n",
    "matrix = matrix.merge(temp, on='merchant_id', how='left')\n",
    "temp = train_data[train_data['label'] == -1].groupby('merchant_id').size().reset_index().rename(columns={0: 'm10'})\n",
    "matrix = matrix.merge(temp, on='merchant_id', how='left')"
   ]
  },
  {
   "cell_type": "code",
   "execution_count": 11,
   "metadata": {},
   "outputs": [
    {
     "name": "stderr",
     "output_type": "stream",
     "text": [
      "/Users/paulhwang/anaconda3/envs/python3/lib/python3.7/site-packages/ipykernel_launcher.py:4: FutureWarning: Indexing with multiple keys (implicitly converted to a tuple of keys) will be deprecated, use a list instead.\n",
      "  after removing the cwd from sys.path.\n"
     ]
    }
   ],
   "source": [
    "groups = user_log.groupby(['user_id', 'merchant_id'])\n",
    "temp = groups.size().reset_index().rename(columns={0: 'um1'})\n",
    "matrix = matrix.merge(temp, on=['user_id', 'merchant_id'], how='left')\n",
    "temp = groups['item_id', 'cat_id', 'brand_id'].nunique().reset_index().rename(columns={'item_id': 'um2', 'cat_id': 'um3', 'brand_id': 'um4'})\n",
    "matrix = matrix.merge(temp, on=['user_id', 'merchant_id'], how='left')\n",
    "temp = groups['action_type'].value_counts().unstack().reset_index().rename(columns={0: 'um5', 1: 'um6', 2: 'um7', 3: 'um8'})\n",
    "matrix = matrix.merge(temp, on=['user_id', 'merchant_id'], how='left')\n",
    "temp = groups['time_stamp'].agg([('first', 'min'), ('last', 'max')]).reset_index()\n",
    "temp['um9'] = (temp['last'] - temp['first']).dt.seconds/3600\n",
    "temp.drop(['last', 'first'], axis=1, inplace=True)\n",
    "matrix = matrix.merge(temp, on=['user_id', 'merchant_id'], how='left')"
   ]
  },
  {
   "cell_type": "code",
   "execution_count": 12,
   "metadata": {},
   "outputs": [],
   "source": [
    "matrix['r1'] = matrix['u9'] / matrix['u7']\n",
    "matrix['r2'] = matrix['m8'] / matrix['m6']\n",
    "matrix['r3'] = matrix['um7'] / matrix['um5']\n",
    "matrix.fillna(0, inplace=True)\n",
    "temp = pd.get_dummies(matrix['age_range'], prefix='age')\n",
    "matrix = pd.concat([matrix, temp], axis=1)\n",
    "temp = pd.get_dummies(matrix['gender'], prefix='gen')\n",
    "matrix = pd.concat([matrix, temp], axis=1)\n",
    "matrix.drop(['age_range', 'gender'], axis=1, inplace=True)"
   ]
  },
  {
   "cell_type": "code",
   "execution_count": 13,
   "metadata": {},
   "outputs": [],
   "source": [
    "train_data = matrix[matrix['origin'] == 'train'].drop('origin', axis=1)\n",
    "test = matrix[matrix['origin'] == 'test'].drop(['origin', 'label'], axis=1)\n",
    "x_train, y_train = train_data.drop('label', axis=1), train_data['label']"
   ]
  },
  {
   "cell_type": "code",
   "execution_count": 18,
   "metadata": {},
   "outputs": [
    {
     "name": "stdout",
     "output_type": "stream",
     "text": [
      "Training until validation scores don't improve for 200 rounds\n",
      "[25]\ttraining's auc: 0.65535\tvalid_1's auc: 0.639696\n",
      "[50]\ttraining's auc: 0.659684\tvalid_1's auc: 0.642372\n",
      "[75]\ttraining's auc: 0.663904\tvalid_1's auc: 0.645767\n",
      "[100]\ttraining's auc: 0.668344\tvalid_1's auc: 0.647636\n",
      "[125]\ttraining's auc: 0.675189\tvalid_1's auc: 0.65249\n",
      "[150]\ttraining's auc: 0.679349\tvalid_1's auc: 0.654103\n",
      "[175]\ttraining's auc: 0.682561\tvalid_1's auc: 0.65522\n",
      "[200]\ttraining's auc: 0.686129\tvalid_1's auc: 0.656901\n",
      "[225]\ttraining's auc: 0.690178\tvalid_1's auc: 0.659698\n",
      "[250]\ttraining's auc: 0.69351\tvalid_1's auc: 0.660984\n",
      "[275]\ttraining's auc: 0.696746\tvalid_1's auc: 0.662102\n",
      "[300]\ttraining's auc: 0.700315\tvalid_1's auc: 0.664167\n",
      "[325]\ttraining's auc: 0.703251\tvalid_1's auc: 0.664837\n",
      "[350]\ttraining's auc: 0.706121\tvalid_1's auc: 0.665513\n",
      "[375]\ttraining's auc: 0.709035\tvalid_1's auc: 0.665953\n",
      "[400]\ttraining's auc: 0.711596\tvalid_1's auc: 0.666397\n",
      "[425]\ttraining's auc: 0.714224\tvalid_1's auc: 0.666802\n",
      "[450]\ttraining's auc: 0.716965\tvalid_1's auc: 0.667651\n",
      "[475]\ttraining's auc: 0.719562\tvalid_1's auc: 0.668378\n",
      "[500]\ttraining's auc: 0.721779\tvalid_1's auc: 0.668884\n",
      "[525]\ttraining's auc: 0.724099\tvalid_1's auc: 0.669708\n",
      "[550]\ttraining's auc: 0.726437\tvalid_1's auc: 0.669926\n",
      "[575]\ttraining's auc: 0.728961\tvalid_1's auc: 0.670274\n",
      "[600]\ttraining's auc: 0.731148\tvalid_1's auc: 0.670507\n",
      "[625]\ttraining's auc: 0.732949\tvalid_1's auc: 0.670842\n",
      "[650]\ttraining's auc: 0.735283\tvalid_1's auc: 0.671125\n",
      "[675]\ttraining's auc: 0.737199\tvalid_1's auc: 0.671298\n",
      "[700]\ttraining's auc: 0.739411\tvalid_1's auc: 0.671455\n",
      "[725]\ttraining's auc: 0.741518\tvalid_1's auc: 0.671728\n",
      "[750]\ttraining's auc: 0.743614\tvalid_1's auc: 0.671689\n",
      "[775]\ttraining's auc: 0.745387\tvalid_1's auc: 0.671768\n",
      "[800]\ttraining's auc: 0.747658\tvalid_1's auc: 0.67242\n",
      "[825]\ttraining's auc: 0.749429\tvalid_1's auc: 0.672486\n",
      "[850]\ttraining's auc: 0.751157\tvalid_1's auc: 0.672954\n",
      "[875]\ttraining's auc: 0.753019\tvalid_1's auc: 0.673126\n",
      "[900]\ttraining's auc: 0.754864\tvalid_1's auc: 0.673377\n",
      "[925]\ttraining's auc: 0.756656\tvalid_1's auc: 0.673979\n",
      "[950]\ttraining's auc: 0.75856\tvalid_1's auc: 0.67407\n",
      "[975]\ttraining's auc: 0.760248\tvalid_1's auc: 0.674043\n",
      "[1000]\ttraining's auc: 0.76183\tvalid_1's auc: 0.674101\n",
      "[1025]\ttraining's auc: 0.763523\tvalid_1's auc: 0.674316\n",
      "[1050]\ttraining's auc: 0.765322\tvalid_1's auc: 0.674455\n",
      "[1075]\ttraining's auc: 0.767192\tvalid_1's auc: 0.674652\n",
      "[1100]\ttraining's auc: 0.768592\tvalid_1's auc: 0.674673\n",
      "[1125]\ttraining's auc: 0.770168\tvalid_1's auc: 0.674636\n",
      "[1150]\ttraining's auc: 0.77184\tvalid_1's auc: 0.674798\n",
      "[1175]\ttraining's auc: 0.773504\tvalid_1's auc: 0.674816\n",
      "[1200]\ttraining's auc: 0.775255\tvalid_1's auc: 0.674745\n",
      "[1225]\ttraining's auc: 0.776935\tvalid_1's auc: 0.674883\n",
      "[1250]\ttraining's auc: 0.778488\tvalid_1's auc: 0.674759\n",
      "[1275]\ttraining's auc: 0.780218\tvalid_1's auc: 0.674848\n",
      "[1300]\ttraining's auc: 0.781924\tvalid_1's auc: 0.674861\n",
      "[1325]\ttraining's auc: 0.78354\tvalid_1's auc: 0.674884\n",
      "[1350]\ttraining's auc: 0.785211\tvalid_1's auc: 0.674932\n",
      "[1375]\ttraining's auc: 0.786404\tvalid_1's auc: 0.675123\n",
      "[1400]\ttraining's auc: 0.78781\tvalid_1's auc: 0.675054\n",
      "[1425]\ttraining's auc: 0.789463\tvalid_1's auc: 0.67517\n",
      "[1450]\ttraining's auc: 0.791065\tvalid_1's auc: 0.675103\n",
      "[1475]\ttraining's auc: 0.792376\tvalid_1's auc: 0.675066\n",
      "[1500]\ttraining's auc: 0.793737\tvalid_1's auc: 0.675069\n",
      "[1525]\ttraining's auc: 0.794882\tvalid_1's auc: 0.674984\n",
      "[1550]\ttraining's auc: 0.796055\tvalid_1's auc: 0.675076\n",
      "[1575]\ttraining's auc: 0.797389\tvalid_1's auc: 0.674947\n",
      "[1600]\ttraining's auc: 0.798794\tvalid_1's auc: 0.675125\n",
      "[1625]\ttraining's auc: 0.800295\tvalid_1's auc: 0.675292\n",
      "[1650]\ttraining's auc: 0.801548\tvalid_1's auc: 0.67541\n",
      "[1675]\ttraining's auc: 0.802574\tvalid_1's auc: 0.675305\n",
      "[1700]\ttraining's auc: 0.803657\tvalid_1's auc: 0.675269\n",
      "[1725]\ttraining's auc: 0.804965\tvalid_1's auc: 0.675103\n",
      "[1750]\ttraining's auc: 0.806525\tvalid_1's auc: 0.675164\n",
      "[1775]\ttraining's auc: 0.807643\tvalid_1's auc: 0.675015\n",
      "[1800]\ttraining's auc: 0.808756\tvalid_1's auc: 0.675138\n",
      "[1825]\ttraining's auc: 0.810074\tvalid_1's auc: 0.675197\n",
      "[1850]\ttraining's auc: 0.811435\tvalid_1's auc: 0.675397\n",
      "Early stopping, best iteration is:\n",
      "[1656]\ttraining's auc: 0.801922\tvalid_1's auc: 0.675446\n"
     ]
    }
   ],
   "source": [
    "train_x, vali_x, train_y, vali_y = train_test_split(x_train, y_train, test_size=0.2)\n",
    "params = {'boosting_type': 'gbdt', 'objective': 'binary', 'metric': 'auc', 'learning_rate': 0.01, 'max_depth': 15, 'feature_fraction': 0.8, 'bagging_fraction': 0.9,\n",
    "         'bagging_freq': 8, 'lambda_l1': 0.6, 'lambda_l2': 0}\n",
    "trn_data = lgb.Dataset(train_x, label=train_y)\n",
    "val_data = lgb.Dataset(vali_x, label=vali_y)\n",
    "model = lgb.train(params, trn_data, valid_sets=[trn_data, val_data], num_boost_round=10000, early_stopping_rounds=200, verbose_eval=25)"
   ]
  },
  {
   "cell_type": "code",
   "execution_count": 21,
   "metadata": {},
   "outputs": [],
   "source": [
    "prob = model.predict(test)\n",
    "test_data['prob'] = pd.Series(prob)\n",
    "test_data.drop(['origin'], axis=1, inplace=True)"
   ]
  },
  {
   "cell_type": "code",
   "execution_count": 23,
   "metadata": {},
   "outputs": [],
   "source": [
    "test_data.to_csv('prediction_lgb.csv', index=False)"
   ]
  },
  {
   "cell_type": "code",
   "execution_count": 22,
   "metadata": {},
   "outputs": [
    {
     "data": {
      "text/html": [
       "<div>\n",
       "<style scoped>\n",
       "    .dataframe tbody tr th:only-of-type {\n",
       "        vertical-align: middle;\n",
       "    }\n",
       "\n",
       "    .dataframe tbody tr th {\n",
       "        vertical-align: top;\n",
       "    }\n",
       "\n",
       "    .dataframe thead th {\n",
       "        text-align: right;\n",
       "    }\n",
       "</style>\n",
       "<table border=\"1\" class=\"dataframe\">\n",
       "  <thead>\n",
       "    <tr style=\"text-align: right;\">\n",
       "      <th></th>\n",
       "      <th>user_id</th>\n",
       "      <th>merchant_id</th>\n",
       "      <th>prob</th>\n",
       "    </tr>\n",
       "  </thead>\n",
       "  <tbody>\n",
       "    <tr>\n",
       "      <th>0</th>\n",
       "      <td>163968</td>\n",
       "      <td>4605</td>\n",
       "      <td>0.048878</td>\n",
       "    </tr>\n",
       "    <tr>\n",
       "      <th>1</th>\n",
       "      <td>360576</td>\n",
       "      <td>1581</td>\n",
       "      <td>0.080782</td>\n",
       "    </tr>\n",
       "    <tr>\n",
       "      <th>2</th>\n",
       "      <td>98688</td>\n",
       "      <td>1964</td>\n",
       "      <td>0.050594</td>\n",
       "    </tr>\n",
       "    <tr>\n",
       "      <th>3</th>\n",
       "      <td>98688</td>\n",
       "      <td>3645</td>\n",
       "      <td>0.034064</td>\n",
       "    </tr>\n",
       "    <tr>\n",
       "      <th>4</th>\n",
       "      <td>295296</td>\n",
       "      <td>3361</td>\n",
       "      <td>0.065510</td>\n",
       "    </tr>\n",
       "    <tr>\n",
       "      <th>...</th>\n",
       "      <td>...</td>\n",
       "      <td>...</td>\n",
       "      <td>...</td>\n",
       "    </tr>\n",
       "    <tr>\n",
       "      <th>261472</th>\n",
       "      <td>228479</td>\n",
       "      <td>3111</td>\n",
       "      <td>0.075131</td>\n",
       "    </tr>\n",
       "    <tr>\n",
       "      <th>261473</th>\n",
       "      <td>97919</td>\n",
       "      <td>2341</td>\n",
       "      <td>0.024572</td>\n",
       "    </tr>\n",
       "    <tr>\n",
       "      <th>261474</th>\n",
       "      <td>97919</td>\n",
       "      <td>3971</td>\n",
       "      <td>0.110609</td>\n",
       "    </tr>\n",
       "    <tr>\n",
       "      <th>261475</th>\n",
       "      <td>32639</td>\n",
       "      <td>3536</td>\n",
       "      <td>0.039919</td>\n",
       "    </tr>\n",
       "    <tr>\n",
       "      <th>261476</th>\n",
       "      <td>32639</td>\n",
       "      <td>3319</td>\n",
       "      <td>0.059335</td>\n",
       "    </tr>\n",
       "  </tbody>\n",
       "</table>\n",
       "<p>261477 rows × 3 columns</p>\n",
       "</div>"
      ],
      "text/plain": [
       "        user_id  merchant_id      prob\n",
       "0        163968         4605  0.048878\n",
       "1        360576         1581  0.080782\n",
       "2         98688         1964  0.050594\n",
       "3         98688         3645  0.034064\n",
       "4        295296         3361  0.065510\n",
       "...         ...          ...       ...\n",
       "261472   228479         3111  0.075131\n",
       "261473    97919         2341  0.024572\n",
       "261474    97919         3971  0.110609\n",
       "261475    32639         3536  0.039919\n",
       "261476    32639         3319  0.059335\n",
       "\n",
       "[261477 rows x 3 columns]"
      ]
     },
     "execution_count": 22,
     "metadata": {},
     "output_type": "execute_result"
    }
   ],
   "source": [
    "test_data"
   ]
  }
 ],
 "metadata": {
  "kernelspec": {
   "display_name": "Python 3",
   "language": "python",
   "name": "python3"
  },
  "language_info": {
   "codemirror_mode": {
    "name": "ipython",
    "version": 3
   },
   "file_extension": ".py",
   "mimetype": "text/x-python",
   "name": "python",
   "nbconvert_exporter": "python",
   "pygments_lexer": "ipython3",
   "version": "3.7.4"
  }
 },
 "nbformat": 4,
 "nbformat_minor": 4
}
