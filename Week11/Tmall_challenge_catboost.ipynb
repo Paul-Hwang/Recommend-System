{
 "cells": [
  {
   "cell_type": "code",
   "execution_count": 1,
   "metadata": {},
   "outputs": [],
   "source": [
    "import pandas as pd\n",
    "from sklearn.model_selection import train_test_split\n",
    "from catboost import CatBoostClassifier"
   ]
  },
  {
   "cell_type": "code",
   "execution_count": 2,
   "metadata": {},
   "outputs": [],
   "source": [
    "# 全量数据\n",
    "\n",
    "train_data = pd.read_csv('./data_format1/train_format1.csv')\n",
    "test_data = pd.read_csv('./data_format1/test_format1.csv')\n",
    "user_info = pd.read_csv('./data_format1/user_info_format1.csv')\n",
    "user_log = pd.read_csv('./data_format1/user_log_format1.csv')\n"
   ]
  },
  {
   "cell_type": "code",
   "execution_count": 5,
   "metadata": {},
   "outputs": [
    {
     "data": {
      "text/plain": [
       "\"\\ntrain_data = pd.read_csv('./sample/train_data_sample.csv')\\ntest_data = pd.read_csv('./sample/test_data_sample.csv')\\nuser_info = pd.read_csv('./sample/user_info_sample.csv')\\nuser_log = pd.read_csv('./sample/user_log_sample.csv')\\n\""
      ]
     },
     "execution_count": 5,
     "metadata": {},
     "output_type": "execute_result"
    }
   ],
   "source": [
    "# 加载样本\n",
    "'''\n",
    "train_data = pd.read_csv('./sample/train_data_sample.csv')\n",
    "test_data = pd.read_csv('./sample/test_data_sample.csv')\n",
    "user_info = pd.read_csv('./sample/user_info_sample.csv')\n",
    "user_log = pd.read_csv('./sample/user_log_sample.csv')\n",
    "'''"
   ]
  },
  {
   "cell_type": "code",
   "execution_count": 3,
   "metadata": {},
   "outputs": [],
   "source": [
    "user_log.rename(columns={'seller_id': 'merchant_id'}, inplace=True)"
   ]
  },
  {
   "cell_type": "code",
   "execution_count": 4,
   "metadata": {},
   "outputs": [],
   "source": [
    "# 数据清洗\n",
    "user_log['brand_id'].fillna(0, inplace=True)\n",
    "user_log['brand_id'] = user_log['brand_id'].astype('int64')\n",
    "user_log['time_stamp'] = pd.to_datetime(user_log['time_stamp'], format='%H%M')\n",
    "user_info['age_range'].fillna(0, inplace=True)\n",
    "user_info = user_info.replace([8], [7])\n",
    "user_info['age_range'] = user_info['age_range'].astype('int64')\n",
    "user_info['gender'].fillna(2, inplace=True)\n",
    "user_info['gender'] = user_info['gender'].astype('int64')"
   ]
  },
  {
   "cell_type": "code",
   "execution_count": 5,
   "metadata": {},
   "outputs": [
    {
     "name": "stdout",
     "output_type": "stream",
     "text": [
      "<class 'pandas.core.frame.DataFrame'>\n",
      "RangeIndex: 260864 entries, 0 to 260863\n",
      "Data columns (total 3 columns):\n",
      " #   Column       Non-Null Count   Dtype\n",
      "---  ------       --------------   -----\n",
      " 0   user_id      260864 non-null  int64\n",
      " 1   merchant_id  260864 non-null  int64\n",
      " 2   label        260864 non-null  int64\n",
      "dtypes: int64(3)\n",
      "memory usage: 6.0 MB\n",
      "None\n",
      "<class 'pandas.core.frame.DataFrame'>\n",
      "RangeIndex: 424170 entries, 0 to 424169\n",
      "Data columns (total 3 columns):\n",
      " #   Column     Non-Null Count   Dtype\n",
      "---  ------     --------------   -----\n",
      " 0   user_id    424170 non-null  int64\n",
      " 1   age_range  424170 non-null  int64\n",
      " 2   gender     424170 non-null  int64\n",
      "dtypes: int64(3)\n",
      "memory usage: 9.7 MB\n",
      "None\n",
      "<class 'pandas.core.frame.DataFrame'>\n",
      "RangeIndex: 54925330 entries, 0 to 54925329\n",
      "Data columns (total 7 columns):\n",
      " #   Column       Non-Null Count     Dtype         \n",
      "---  ------       --------------     -----         \n",
      " 0   user_id      54925330 non-null  int64         \n",
      " 1   item_id      54925330 non-null  int64         \n",
      " 2   cat_id       54925330 non-null  int64         \n",
      " 3   merchant_id  54925330 non-null  int64         \n",
      " 4   brand_id     54925330 non-null  int64         \n",
      " 5   time_stamp   54925330 non-null  datetime64[ns]\n",
      " 6   action_type  54925330 non-null  int64         \n",
      "dtypes: datetime64[ns](1), int64(6)\n",
      "memory usage: 2.9 GB\n",
      "None\n"
     ]
    }
   ],
   "source": [
    "print(train_data.info())\n",
    "print(user_info.info())\n",
    "print(user_log.info(null_counts=True))"
   ]
  },
  {
   "cell_type": "code",
   "execution_count": 6,
   "metadata": {},
   "outputs": [],
   "source": [
    "train_data['origin'] = 'train'\n",
    "test_data['origin'] = 'test'\n",
    "matrix = pd.concat([train_data, test_data], ignore_index=True, sort=False)\n",
    "matrix.drop('prob', axis=1, inplace=True)\n",
    "matrix = matrix.merge(user_info, on='user_id', how='left')"
   ]
  },
  {
   "cell_type": "code",
   "execution_count": 7,
   "metadata": {},
   "outputs": [
    {
     "name": "stderr",
     "output_type": "stream",
     "text": [
      "/Users/paulhwang/anaconda3/envs/python3/lib/python3.7/site-packages/ipykernel_launcher.py:23: FutureWarning: Indexing with multiple keys (implicitly converted to a tuple of keys) will be deprecated, use a list instead.\n"
     ]
    }
   ],
   "source": [
    "# 用户特征处理\n",
    "groups = user_log.groupby(['user_id'])\n",
    "temp = groups.size().reset_index().rename(columns={0: 'u1'})\n",
    "matrix = matrix.merge(temp, on='user_id', how='left')\n",
    "temp = groups['item_id'].agg([('u2', 'nunique')]).reset_index()\n",
    "matrix = matrix.merge(temp, on='user_id', how='left')\n",
    "temp = groups['cat_id'].agg([('u3', 'nunique')]).reset_index()\n",
    "matrix = matrix.merge(temp, on='user_id', how='left')\n",
    "temp = groups['merchant_id'].agg([('u4', 'nunique')]).reset_index()\n",
    "matrix = matrix.merge(temp, on='user_id', how='left')\n",
    "temp = groups['brand_id'].agg([('u5', 'nunique')]).reset_index()\n",
    "matrix = matrix.merge(temp, on='user_id', how='left')\n",
    "temp = groups['time_stamp'].agg([('F_time', 'min'), ('L_time', 'max')]).reset_index()\n",
    "temp['u6'] = (temp['L_time'] - temp['F_time']).dt.seconds/3600\n",
    "matrix = matrix.merge(temp[['user_id', 'u6']], on='user_id', how='left')\n",
    "temp = groups['action_type'].value_counts().unstack().reset_index().rename(columns={0: 'u7', 1: 'u8', 2: 'u9', 3: 'u10'})\n",
    "matrix = matrix.merge(temp, on='user_id', how='left')\n",
    "\n",
    "# 商户特征处理\n",
    "groups = user_log.groupby(['merchant_id'])\n",
    "temp = groups.size().reset_index().rename(columns={0: 'm1'})\n",
    "matrix = matrix.merge(temp, on='merchant_id', how='left')\n",
    "temp = groups['user_id', 'item_id', 'cat_id', 'brand_id'].nunique().reset_index().rename(columns={'user_id': 'm2', 'item_id': 'm3', 'cat_id': 'm4', 'brand_id': 'm5'})\n",
    "matrix = matrix.merge(temp, on='merchant_id', how='left')\n",
    "temp = groups['action_type'].value_counts().unstack().reset_index().rename(columns={0: 'm6', 1: 'm7', 2: 'm8', 3: 'm9'})\n",
    "matrix = matrix.merge(temp, on='merchant_id', how='left')\n",
    "temp = train_data[train_data['label'] == -1].groupby('merchant_id').size().reset_index().rename(columns={0: 'm10'})\n",
    "matrix = matrix.merge(temp, on='merchant_id', how='left')"
   ]
  },
  {
   "cell_type": "code",
   "execution_count": 8,
   "metadata": {},
   "outputs": [
    {
     "name": "stderr",
     "output_type": "stream",
     "text": [
      "/Users/paulhwang/anaconda3/envs/python3/lib/python3.7/site-packages/ipykernel_launcher.py:4: FutureWarning: Indexing with multiple keys (implicitly converted to a tuple of keys) will be deprecated, use a list instead.\n",
      "  after removing the cwd from sys.path.\n"
     ]
    }
   ],
   "source": [
    "groups = user_log.groupby(['user_id', 'merchant_id'])\n",
    "temp = groups.size().reset_index().rename(columns={0: 'um1'})\n",
    "matrix = matrix.merge(temp, on=['user_id', 'merchant_id'], how='left')\n",
    "temp = groups['item_id', 'cat_id', 'brand_id'].nunique().reset_index().rename(columns={'item_id': 'um2', 'cat_id': 'um3', 'brand_id': 'um4'})\n",
    "matrix = matrix.merge(temp, on=['user_id', 'merchant_id'], how='left')\n",
    "temp = groups['action_type'].value_counts().unstack().reset_index().rename(columns={0: 'um5', 1: 'um6', 2: 'um7', 3: 'um8'})\n",
    "matrix = matrix.merge(temp, on=['user_id', 'merchant_id'], how='left')\n",
    "temp = groups['time_stamp'].agg([('first', 'min'), ('last', 'max')]).reset_index()\n",
    "temp['um9'] = (temp['last'] - temp['first']).dt.seconds/3600\n",
    "temp.drop(['last', 'first'], axis=1, inplace=True)\n",
    "matrix = matrix.merge(temp, on=['user_id', 'merchant_id'], how='left')"
   ]
  },
  {
   "cell_type": "code",
   "execution_count": 9,
   "metadata": {},
   "outputs": [],
   "source": [
    "matrix['r1'] = matrix['u9'] / matrix['u7']\n",
    "matrix['r2'] = matrix['m8'] / matrix['m6']\n",
    "matrix['r3'] = matrix['um7'] / matrix['um5']\n",
    "matrix.fillna(0, inplace=True)\n",
    "temp = pd.get_dummies(matrix['age_range'], prefix='age')\n",
    "matrix = pd.concat([matrix, temp], axis=1)\n",
    "temp = pd.get_dummies(matrix['gender'], prefix='gen')\n",
    "matrix = pd.concat([matrix, temp], axis=1)\n",
    "matrix.drop(['age_range', 'gender'], axis=1, inplace=True)"
   ]
  },
  {
   "cell_type": "code",
   "execution_count": 15,
   "metadata": {},
   "outputs": [],
   "source": [
    "categorical_features_indices = ['u7', 'u8', 'u9', 'u10', 'm6', 'm7', 'm8', 'm9', 'um5', 'um6', 'um7', 'um8', 'age_0.0', 'age_1.0', 'age_2.0', 'age_3.0', 'age_4.0',\n",
    "                               'age_5.0', 'age_6.0', 'age_7.0', 'gen_0.0', 'gen_1.0', 'gen_2.0']\n",
    "for i in categorical_features_indices:\n",
    "    matrix[i] = matrix[i].astype('int64')\n",
    "\n",
    "train_data = matrix[matrix['origin'] == 'train'].drop('origin', axis=1)\n",
    "test = matrix[matrix['origin'] == 'test'].drop(['origin', 'label'], axis=1)\n",
    "x_train, y_train = train_data.drop('label', axis=1), train_data['label']"
   ]
  },
  {
   "cell_type": "code",
   "execution_count": 13,
   "metadata": {},
   "outputs": [
    {
     "name": "stdout",
     "output_type": "stream",
     "text": [
      "<class 'pandas.core.frame.DataFrame'>\n",
      "Int64Index: 260865 entries, 0 to 260864\n",
      "Data columns (total 45 columns):\n",
      " #   Column       Non-Null Count   Dtype  \n",
      "---  ------       --------------   -----  \n",
      " 0   user_id      260865 non-null  int64  \n",
      " 1   merchant_id  260865 non-null  int64  \n",
      " 2   u1           260865 non-null  int64  \n",
      " 3   u2           260865 non-null  int64  \n",
      " 4   u3           260865 non-null  int64  \n",
      " 5   u4           260865 non-null  int64  \n",
      " 6   u5           260865 non-null  int64  \n",
      " 7   u6           260865 non-null  float64\n",
      " 8   u7           260865 non-null  float64\n",
      " 9   u8           260865 non-null  float64\n",
      " 10  u9           260865 non-null  float64\n",
      " 11  u10          260865 non-null  float64\n",
      " 12  m1           260865 non-null  int64  \n",
      " 13  m2           260865 non-null  int64  \n",
      " 14  m3           260865 non-null  int64  \n",
      " 15  m4           260865 non-null  int64  \n",
      " 16  m5           260865 non-null  int64  \n",
      " 17  m6           260865 non-null  float64\n",
      " 18  m7           260865 non-null  float64\n",
      " 19  m8           260865 non-null  float64\n",
      " 20  m9           260865 non-null  float64\n",
      " 21  m10          260865 non-null  float64\n",
      " 22  um1          260865 non-null  int64  \n",
      " 23  um2          260865 non-null  int64  \n",
      " 24  um3          260865 non-null  int64  \n",
      " 25  um4          260865 non-null  int64  \n",
      " 26  um5          260865 non-null  float64\n",
      " 27  um6          260865 non-null  float64\n",
      " 28  um7          260865 non-null  float64\n",
      " 29  um8          260865 non-null  float64\n",
      " 30  um9          260865 non-null  float64\n",
      " 31  r1           260865 non-null  float64\n",
      " 32  r2           260865 non-null  float64\n",
      " 33  r3           260865 non-null  float64\n",
      " 34  age_0.0      260865 non-null  uint8  \n",
      " 35  age_1.0      260865 non-null  uint8  \n",
      " 36  age_2.0      260865 non-null  uint8  \n",
      " 37  age_3.0      260865 non-null  uint8  \n",
      " 38  age_4.0      260865 non-null  uint8  \n",
      " 39  age_5.0      260865 non-null  uint8  \n",
      " 40  age_6.0      260865 non-null  uint8  \n",
      " 41  age_7.0      260865 non-null  uint8  \n",
      " 42  gen_0.0      260865 non-null  uint8  \n",
      " 43  gen_1.0      260865 non-null  uint8  \n",
      " 44  gen_2.0      260865 non-null  uint8  \n",
      "dtypes: float64(18), int64(16), uint8(11)\n",
      "memory usage: 72.4 MB\n"
     ]
    }
   ],
   "source": [
    "x_train.info()"
   ]
  },
  {
   "cell_type": "code",
   "execution_count": 27,
   "metadata": {},
   "outputs": [
    {
     "name": "stderr",
     "output_type": "stream",
     "text": [
      "Warning: Overfitting detector is active, thus evaluation metric is calculated on every iteration. 'metric_period' is ignored for evaluation metric.\n"
     ]
    },
    {
     "name": "stdout",
     "output_type": "stream",
     "text": [
      "0:\ttest: 0.5742304\tbest: 0.5742304 (0)\ttotal: 140ms\tremaining: 3m 30s\n",
      "50:\ttest: 0.6259265\tbest: 0.6265540 (41)\ttotal: 6.58s\tremaining: 3m 7s\n",
      "100:\ttest: 0.6660367\tbest: 0.6660367 (100)\ttotal: 14.7s\tremaining: 3m 23s\n",
      "150:\ttest: 0.6702016\tbest: 0.6702016 (150)\ttotal: 25.7s\tremaining: 3m 49s\n",
      "200:\ttest: 0.6724564\tbest: 0.6724661 (198)\ttotal: 36.9s\tremaining: 3m 58s\n",
      "250:\ttest: 0.6747086\tbest: 0.6747086 (250)\ttotal: 47.7s\tremaining: 3m 57s\n",
      "300:\ttest: 0.6763149\tbest: 0.6763170 (298)\ttotal: 58.5s\tremaining: 3m 53s\n",
      "350:\ttest: 0.6774276\tbest: 0.6774276 (350)\ttotal: 1m 7s\tremaining: 3m 41s\n",
      "400:\ttest: 0.6780672\tbest: 0.6780672 (400)\ttotal: 1m 18s\tremaining: 3m 35s\n",
      "450:\ttest: 0.6787507\tbest: 0.6787507 (450)\ttotal: 1m 29s\tremaining: 3m 29s\n",
      "500:\ttest: 0.6793446\tbest: 0.6793446 (500)\ttotal: 1m 40s\tremaining: 3m 20s\n",
      "550:\ttest: 0.6798645\tbest: 0.6798645 (550)\ttotal: 1m 51s\tremaining: 3m 11s\n",
      "600:\ttest: 0.6802855\tbest: 0.6802875 (598)\ttotal: 2m 1s\tremaining: 3m 2s\n",
      "650:\ttest: 0.6806828\tbest: 0.6806828 (650)\ttotal: 2m 12s\tremaining: 2m 53s\n",
      "700:\ttest: 0.6809877\tbest: 0.6809886 (699)\ttotal: 2m 24s\tremaining: 2m 44s\n",
      "750:\ttest: 0.6812954\tbest: 0.6812954 (750)\ttotal: 2m 34s\tremaining: 2m 34s\n",
      "800:\ttest: 0.6815952\tbest: 0.6816060 (799)\ttotal: 2m 44s\tremaining: 2m 23s\n",
      "850:\ttest: 0.6818742\tbest: 0.6818742 (850)\ttotal: 2m 56s\tremaining: 2m 14s\n",
      "900:\ttest: 0.6820890\tbest: 0.6820890 (900)\ttotal: 3m 6s\tremaining: 2m 4s\n",
      "950:\ttest: 0.6822619\tbest: 0.6822619 (950)\ttotal: 3m 15s\tremaining: 1m 53s\n",
      "1000:\ttest: 0.6824093\tbest: 0.6824116 (999)\ttotal: 3m 26s\tremaining: 1m 43s\n",
      "1050:\ttest: 0.6826327\tbest: 0.6826350 (1049)\ttotal: 3m 36s\tremaining: 1m 32s\n",
      "1100:\ttest: 0.6827524\tbest: 0.6827524 (1100)\ttotal: 3m 47s\tremaining: 1m 22s\n",
      "1150:\ttest: 0.6829755\tbest: 0.6829844 (1149)\ttotal: 3m 57s\tremaining: 1m 12s\n",
      "1200:\ttest: 0.6830753\tbest: 0.6830753 (1200)\ttotal: 4m 8s\tremaining: 1m 1s\n",
      "1250:\ttest: 0.6832464\tbest: 0.6832464 (1250)\ttotal: 4m 18s\tremaining: 51.5s\n",
      "1300:\ttest: 0.6833069\tbest: 0.6833069 (1300)\ttotal: 4m 29s\tremaining: 41.2s\n",
      "1350:\ttest: 0.6833745\tbest: 0.6833745 (1350)\ttotal: 4m 41s\tremaining: 31s\n",
      "1400:\ttest: 0.6834483\tbest: 0.6834534 (1360)\ttotal: 4m 52s\tremaining: 20.7s\n",
      "1450:\ttest: 0.6835336\tbest: 0.6835336 (1450)\ttotal: 5m 4s\tremaining: 10.3s\n",
      "1499:\ttest: 0.6836233\tbest: 0.6836233 (1499)\ttotal: 5m 14s\tremaining: 0us\n",
      "\n",
      "bestTest = 0.683623327\n",
      "bestIteration = 1499\n",
      "\n"
     ]
    },
    {
     "data": {
      "text/plain": [
       "<catboost.core.CatBoostClassifier at 0x113d24410>"
      ]
     },
     "execution_count": 27,
     "metadata": {},
     "output_type": "execute_result"
    }
   ],
   "source": [
    "train_x, vali_x, train_y, vali_y = train_test_split(x_train, y_train, test_size=0.2)\n",
    "model = CatBoostClassifier(iterations=1500, depth=6, learning_rate=0.015, loss_function='Logloss', eval_metric='AUC', bagging_temperature=0.83, rsm=0.78, od_type='Iter',\n",
    "                          od_wait=150, metric_period=50, l2_leaf_reg=5, thread_count=20, random_seed=967, logging_level='Verbose')\n",
    "\n",
    "model.fit(train_x, train_y, eval_set=(vali_x, vali_y), cat_features=categorical_features_indices)"
   ]
  },
  {
   "cell_type": "code",
   "execution_count": 28,
   "metadata": {},
   "outputs": [],
   "source": [
    "prob = model.predict_proba(test)\n",
    "test_data['prob'] = pd.Series(prob[:, 1])\n",
    "#test_data.drop(['origin'], axis=1, inplace=True)"
   ]
  },
  {
   "cell_type": "code",
   "execution_count": 29,
   "metadata": {},
   "outputs": [],
   "source": [
    "test_data.to_csv('prediction_catboost.csv', index=False)"
   ]
  },
  {
   "cell_type": "code",
   "execution_count": 19,
   "metadata": {},
   "outputs": [
    {
     "data": {
      "text/html": [
       "<div>\n",
       "<style scoped>\n",
       "    .dataframe tbody tr th:only-of-type {\n",
       "        vertical-align: middle;\n",
       "    }\n",
       "\n",
       "    .dataframe tbody tr th {\n",
       "        vertical-align: top;\n",
       "    }\n",
       "\n",
       "    .dataframe thead th {\n",
       "        text-align: right;\n",
       "    }\n",
       "</style>\n",
       "<table border=\"1\" class=\"dataframe\">\n",
       "  <thead>\n",
       "    <tr style=\"text-align: right;\">\n",
       "      <th></th>\n",
       "      <th>user_id</th>\n",
       "      <th>merchant_id</th>\n",
       "      <th>prob</th>\n",
       "    </tr>\n",
       "  </thead>\n",
       "  <tbody>\n",
       "    <tr>\n",
       "      <th>0</th>\n",
       "      <td>163968</td>\n",
       "      <td>4605</td>\n",
       "      <td>0.055029</td>\n",
       "    </tr>\n",
       "    <tr>\n",
       "      <th>1</th>\n",
       "      <td>360576</td>\n",
       "      <td>1581</td>\n",
       "      <td>0.097740</td>\n",
       "    </tr>\n",
       "    <tr>\n",
       "      <th>2</th>\n",
       "      <td>98688</td>\n",
       "      <td>1964</td>\n",
       "      <td>0.055483</td>\n",
       "    </tr>\n",
       "    <tr>\n",
       "      <th>3</th>\n",
       "      <td>98688</td>\n",
       "      <td>3645</td>\n",
       "      <td>0.050062</td>\n",
       "    </tr>\n",
       "    <tr>\n",
       "      <th>4</th>\n",
       "      <td>295296</td>\n",
       "      <td>3361</td>\n",
       "      <td>0.063816</td>\n",
       "    </tr>\n",
       "    <tr>\n",
       "      <th>...</th>\n",
       "      <td>...</td>\n",
       "      <td>...</td>\n",
       "      <td>...</td>\n",
       "    </tr>\n",
       "    <tr>\n",
       "      <th>261472</th>\n",
       "      <td>228479</td>\n",
       "      <td>3111</td>\n",
       "      <td>0.079313</td>\n",
       "    </tr>\n",
       "    <tr>\n",
       "      <th>261473</th>\n",
       "      <td>97919</td>\n",
       "      <td>2341</td>\n",
       "      <td>0.029915</td>\n",
       "    </tr>\n",
       "    <tr>\n",
       "      <th>261474</th>\n",
       "      <td>97919</td>\n",
       "      <td>3971</td>\n",
       "      <td>0.073271</td>\n",
       "    </tr>\n",
       "    <tr>\n",
       "      <th>261475</th>\n",
       "      <td>32639</td>\n",
       "      <td>3536</td>\n",
       "      <td>0.047449</td>\n",
       "    </tr>\n",
       "    <tr>\n",
       "      <th>261476</th>\n",
       "      <td>32639</td>\n",
       "      <td>3319</td>\n",
       "      <td>0.066182</td>\n",
       "    </tr>\n",
       "  </tbody>\n",
       "</table>\n",
       "<p>261477 rows × 3 columns</p>\n",
       "</div>"
      ],
      "text/plain": [
       "        user_id  merchant_id      prob\n",
       "0        163968         4605  0.055029\n",
       "1        360576         1581  0.097740\n",
       "2         98688         1964  0.055483\n",
       "3         98688         3645  0.050062\n",
       "4        295296         3361  0.063816\n",
       "...         ...          ...       ...\n",
       "261472   228479         3111  0.079313\n",
       "261473    97919         2341  0.029915\n",
       "261474    97919         3971  0.073271\n",
       "261475    32639         3536  0.047449\n",
       "261476    32639         3319  0.066182\n",
       "\n",
       "[261477 rows x 3 columns]"
      ]
     },
     "execution_count": 19,
     "metadata": {},
     "output_type": "execute_result"
    }
   ],
   "source": [
    "test_data"
   ]
  }
 ],
 "metadata": {
  "kernelspec": {
   "display_name": "Python 3",
   "language": "python",
   "name": "python3"
  },
  "language_info": {
   "codemirror_mode": {
    "name": "ipython",
    "version": 3
   },
   "file_extension": ".py",
   "mimetype": "text/x-python",
   "name": "python",
   "nbconvert_exporter": "python",
   "pygments_lexer": "ipython3",
   "version": "3.7.4"
  }
 },
 "nbformat": 4,
 "nbformat_minor": 4
}
