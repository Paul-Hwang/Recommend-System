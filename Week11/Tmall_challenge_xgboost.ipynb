{
 "cells": [
  {
   "cell_type": "code",
   "execution_count": 1,
   "metadata": {},
   "outputs": [],
   "source": [
    "import pandas as pd\n",
    "from sklearn.model_selection import train_test_split\n",
    "import xgboost as xgb"
   ]
  },
  {
   "cell_type": "code",
   "execution_count": 2,
   "metadata": {},
   "outputs": [],
   "source": [
    "# 全量数据\n",
    "\n",
    "train_data = pd.read_csv('./data_format1/train_format1.csv')\n",
    "test_data = pd.read_csv('./data_format1/test_format1.csv')\n",
    "user_info = pd.read_csv('./data_format1/user_info_format1.csv')\n",
    "user_log = pd.read_csv('./data_format1/user_log_format1.csv')\n"
   ]
  },
  {
   "cell_type": "code",
   "execution_count": 3,
   "metadata": {},
   "outputs": [],
   "source": [
    "# 样本提取\n",
    "'''\n",
    "user_info.set_index('user_id', inplace=True)\n",
    "user_log.set_index('user_id', inplace=True)\n",
    "train_data_sample = train_data.sample(n=15000)\n",
    "test_data_sample = test_data.sample(n=5000)\n",
    "sample_user_id = train_data_sample['user_id'].tolist() + test_data_sample['user_id'].tolist()\n",
    "user_info_sample = user_info.loc[sample_user_id]\n",
    "user_log_sample = user_log.loc[sample_user_id]\n",
    "train_data_sample.set_index('user_id', inplace=True)\n",
    "test_data_sample.set_index('user_id', inplace=True)\n",
    "'''"
   ]
  },
  {
   "cell_type": "code",
   "execution_count": 4,
   "metadata": {},
   "outputs": [],
   "source": [
    "# 保存样本\n",
    "'''\n",
    "train_data_sample.to_csv('./sample/train_data_sample.csv')\n",
    "test_data_sample.to_csv('./sample/test_data_sample.csv')\n",
    "user_info_sample.to_csv('./sample/user_info_sample.csv')\n",
    "user_log_sample.to_csv('./sample/user_log_sample.csv')\n",
    "'''"
   ]
  },
  {
   "cell_type": "code",
   "execution_count": 2,
   "metadata": {},
   "outputs": [],
   "source": [
    "# 加载样本\n",
    "'''\n",
    "train_data = pd.read_csv('./sample/train_data_sample.csv')\n",
    "test_data = pd.read_csv('./sample/test_data_sample.csv')\n",
    "user_info = pd.read_csv('./sample/user_info_sample.csv')\n",
    "user_log = pd.read_csv('./sample/user_log_sample.csv')\n",
    "'''"
   ]
  },
  {
   "cell_type": "code",
   "execution_count": 3,
   "metadata": {},
   "outputs": [],
   "source": [
    "user_log.rename(columns={'seller_id': 'merchant_id'}, inplace=True)"
   ]
  },
  {
   "cell_type": "code",
   "execution_count": 4,
   "metadata": {},
   "outputs": [],
   "source": [
    "# 数据清洗\n",
    "user_log['brand_id'].fillna(0, inplace=True)\n",
    "user_log['brand_id'] = user_log['brand_id'].astype('int64')\n",
    "user_log['time_stamp'] = pd.to_datetime(user_log['time_stamp'], format='%H%M')\n",
    "user_info['age_range'].fillna(0, inplace=True)\n",
    "user_info = user_info.replace([8], [7])\n",
    "user_info['age_range'] = user_info['age_range'].astype('int64')\n",
    "user_info['gender'].fillna(2, inplace=True)\n",
    "user_info['gender'] = user_info['gender'].astype('int64')"
   ]
  },
  {
   "cell_type": "code",
   "execution_count": 5,
   "metadata": {},
   "outputs": [
    {
     "name": "stdout",
     "output_type": "stream",
     "text": [
      "<class 'pandas.core.frame.DataFrame'>\n",
      "RangeIndex: 260864 entries, 0 to 260863\n",
      "Data columns (total 3 columns):\n",
      " #   Column       Non-Null Count   Dtype\n",
      "---  ------       --------------   -----\n",
      " 0   user_id      260864 non-null  int64\n",
      " 1   merchant_id  260864 non-null  int64\n",
      " 2   label        260864 non-null  int64\n",
      "dtypes: int64(3)\n",
      "memory usage: 6.0 MB\n",
      "None\n",
      "<class 'pandas.core.frame.DataFrame'>\n",
      "RangeIndex: 424170 entries, 0 to 424169\n",
      "Data columns (total 3 columns):\n",
      " #   Column     Non-Null Count   Dtype\n",
      "---  ------     --------------   -----\n",
      " 0   user_id    424170 non-null  int64\n",
      " 1   age_range  424170 non-null  int64\n",
      " 2   gender     424170 non-null  int64\n",
      "dtypes: int64(3)\n",
      "memory usage: 9.7 MB\n",
      "None\n",
      "<class 'pandas.core.frame.DataFrame'>\n",
      "RangeIndex: 54925330 entries, 0 to 54925329\n",
      "Data columns (total 7 columns):\n",
      " #   Column       Non-Null Count     Dtype         \n",
      "---  ------       --------------     -----         \n",
      " 0   user_id      54925330 non-null  int64         \n",
      " 1   item_id      54925330 non-null  int64         \n",
      " 2   cat_id       54925330 non-null  int64         \n",
      " 3   merchant_id  54925330 non-null  int64         \n",
      " 4   brand_id     54925330 non-null  int64         \n",
      " 5   time_stamp   54925330 non-null  datetime64[ns]\n",
      " 6   action_type  54925330 non-null  int64         \n",
      "dtypes: datetime64[ns](1), int64(6)\n",
      "memory usage: 2.9 GB\n",
      "None\n"
     ]
    }
   ],
   "source": [
    "print(train_data.info())\n",
    "print(user_info.info())\n",
    "print(user_log.info(null_counts=True))"
   ]
  },
  {
   "cell_type": "code",
   "execution_count": 6,
   "metadata": {},
   "outputs": [],
   "source": [
    "train_data['origin'] = 'train'\n",
    "test_data['origin'] = 'test'\n",
    "matrix = pd.concat([train_data, test_data], ignore_index=True, sort=False)\n",
    "matrix.drop('prob', axis=1, inplace=True)\n",
    "matrix = matrix.merge(user_info, on='user_id', how='left')"
   ]
  },
  {
   "cell_type": "code",
   "execution_count": 7,
   "metadata": {},
   "outputs": [
    {
     "name": "stderr",
     "output_type": "stream",
     "text": [
      "/Users/paulhwang/anaconda3/envs/python3/lib/python3.7/site-packages/ipykernel_launcher.py:23: FutureWarning: Indexing with multiple keys (implicitly converted to a tuple of keys) will be deprecated, use a list instead.\n"
     ]
    }
   ],
   "source": [
    "# 用户特征处理\n",
    "groups = user_log.groupby(['user_id'])\n",
    "temp = groups.size().reset_index().rename(columns={0: 'u1'})\n",
    "matrix = matrix.merge(temp, on='user_id', how='left')\n",
    "temp = groups['item_id'].agg([('u2', 'nunique')]).reset_index()\n",
    "matrix = matrix.merge(temp, on='user_id', how='left')\n",
    "temp = groups['cat_id'].agg([('u3', 'nunique')]).reset_index()\n",
    "matrix = matrix.merge(temp, on='user_id', how='left')\n",
    "temp = groups['merchant_id'].agg([('u4', 'nunique')]).reset_index()\n",
    "matrix = matrix.merge(temp, on='user_id', how='left')\n",
    "temp = groups['brand_id'].agg([('u5', 'nunique')]).reset_index()\n",
    "matrix = matrix.merge(temp, on='user_id', how='left')\n",
    "temp = groups['time_stamp'].agg([('F_time', 'min'), ('L_time', 'max')]).reset_index()\n",
    "temp['u6'] = (temp['L_time'] - temp['F_time']).dt.seconds/3600\n",
    "matrix = matrix.merge(temp[['user_id', 'u6']], on='user_id', how='left')\n",
    "temp = groups['action_type'].value_counts().unstack().reset_index().rename(columns={0: 'u7', 1: 'u8', 2: 'u9', 3: 'u10'})\n",
    "matrix = matrix.merge(temp, on='user_id', how='left')\n",
    "\n",
    "# 商户特征处理\n",
    "groups = user_log.groupby(['merchant_id'])\n",
    "temp = groups.size().reset_index().rename(columns={0: 'm1'})\n",
    "matrix = matrix.merge(temp, on='merchant_id', how='left')\n",
    "temp = groups['user_id', 'item_id', 'cat_id', 'brand_id'].nunique().reset_index().rename(columns={'user_id': 'm2', 'item_id': 'm3', 'cat_id': 'm4', 'brand_id': 'm5'})\n",
    "matrix = matrix.merge(temp, on='merchant_id', how='left')\n",
    "temp = groups['action_type'].value_counts().unstack().reset_index().rename(columns={0: 'm6', 1: 'm7', 2: 'm8', 3: 'm9'})\n",
    "matrix = matrix.merge(temp, on='merchant_id', how='left')\n",
    "temp = train_data[train_data['label'] == -1].groupby('merchant_id').size().reset_index().rename(columns={0: 'm10'})\n",
    "matrix = matrix.merge(temp, on='merchant_id', how='left')"
   ]
  },
  {
   "cell_type": "code",
   "execution_count": 8,
   "metadata": {},
   "outputs": [
    {
     "name": "stderr",
     "output_type": "stream",
     "text": [
      "/Users/paulhwang/anaconda3/envs/python3/lib/python3.7/site-packages/ipykernel_launcher.py:4: FutureWarning: Indexing with multiple keys (implicitly converted to a tuple of keys) will be deprecated, use a list instead.\n",
      "  after removing the cwd from sys.path.\n"
     ]
    }
   ],
   "source": [
    "groups = user_log.groupby(['user_id', 'merchant_id'])\n",
    "temp = groups.size().reset_index().rename(columns={0: 'um1'})\n",
    "matrix = matrix.merge(temp, on=['user_id', 'merchant_id'], how='left')\n",
    "temp = groups['item_id', 'cat_id', 'brand_id'].nunique().reset_index().rename(columns={'item_id': 'um2', 'cat_id': 'um3', 'brand_id': 'um4'})\n",
    "matrix = matrix.merge(temp, on=['user_id', 'merchant_id'], how='left')\n",
    "temp = groups['action_type'].value_counts().unstack().reset_index().rename(columns={0: 'um5', 1: 'um6', 2: 'um7', 3: 'um8'})\n",
    "matrix = matrix.merge(temp, on=['user_id', 'merchant_id'], how='left')\n",
    "temp = groups['time_stamp'].agg([('first', 'min'), ('last', 'max')]).reset_index()\n",
    "temp['um9'] = (temp['last'] - temp['first']).dt.seconds/3600\n",
    "temp.drop(['last', 'first'], axis=1, inplace=True)\n",
    "matrix = matrix.merge(temp, on=['user_id', 'merchant_id'], how='left')"
   ]
  },
  {
   "cell_type": "code",
   "execution_count": 9,
   "metadata": {},
   "outputs": [],
   "source": [
    "matrix['r1'] = matrix['u9'] / matrix['u7']\n",
    "matrix['r2'] = matrix['m8'] / matrix['m6']\n",
    "matrix['r3'] = matrix['um7'] / matrix['um5']\n",
    "matrix.fillna(0, inplace=True)\n",
    "temp = pd.get_dummies(matrix['age_range'], prefix='age')\n",
    "matrix = pd.concat([matrix, temp], axis=1)\n",
    "temp = pd.get_dummies(matrix['gender'], prefix='gen')\n",
    "matrix = pd.concat([matrix, temp], axis=1)\n",
    "matrix.drop(['age_range', 'gender'], axis=1, inplace=True)"
   ]
  },
  {
   "cell_type": "code",
   "execution_count": 10,
   "metadata": {},
   "outputs": [],
   "source": [
    "train_data = matrix[matrix['origin'] == 'train'].drop('origin', axis=1)\n",
    "test = matrix[matrix['origin'] == 'test'].drop(['origin', 'label'], axis=1)\n",
    "x_train, y_train = train_data.drop('label', axis=1), train_data['label']"
   ]
  },
  {
   "cell_type": "code",
   "execution_count": 11,
   "metadata": {},
   "outputs": [
    {
     "name": "stdout",
     "output_type": "stream",
     "text": [
      "[0]\tvalidation_0-auc:0.640864\tvalidation_1-auc:0.639882\n",
      "Multiple eval metrics have been passed: 'validation_1-auc' will be used for early stopping.\n",
      "\n",
      "Will train until validation_1-auc hasn't improved in 10 rounds.\n",
      "[1]\tvalidation_0-auc:0.649406\tvalidation_1-auc:0.644581\n",
      "[2]\tvalidation_0-auc:0.656326\tvalidation_1-auc:0.649942\n",
      "[3]\tvalidation_0-auc:0.662931\tvalidation_1-auc:0.654453\n",
      "[4]\tvalidation_0-auc:0.666696\tvalidation_1-auc:0.655364\n",
      "[5]\tvalidation_0-auc:0.672409\tvalidation_1-auc:0.656128\n",
      "[6]\tvalidation_0-auc:0.674831\tvalidation_1-auc:0.656422\n",
      "[7]\tvalidation_0-auc:0.676874\tvalidation_1-auc:0.657238\n",
      "[8]\tvalidation_0-auc:0.67853\tvalidation_1-auc:0.657452\n",
      "[9]\tvalidation_0-auc:0.680377\tvalidation_1-auc:0.656899\n",
      "[10]\tvalidation_0-auc:0.684384\tvalidation_1-auc:0.657365\n",
      "[11]\tvalidation_0-auc:0.686982\tvalidation_1-auc:0.658591\n",
      "[12]\tvalidation_0-auc:0.688232\tvalidation_1-auc:0.65824\n",
      "[13]\tvalidation_0-auc:0.691135\tvalidation_1-auc:0.659435\n",
      "[14]\tvalidation_0-auc:0.692572\tvalidation_1-auc:0.65925\n",
      "[15]\tvalidation_0-auc:0.696045\tvalidation_1-auc:0.65982\n",
      "[16]\tvalidation_0-auc:0.698028\tvalidation_1-auc:0.659902\n",
      "[17]\tvalidation_0-auc:0.699808\tvalidation_1-auc:0.65923\n",
      "[18]\tvalidation_0-auc:0.702197\tvalidation_1-auc:0.660536\n",
      "[19]\tvalidation_0-auc:0.703767\tvalidation_1-auc:0.661523\n",
      "[20]\tvalidation_0-auc:0.705685\tvalidation_1-auc:0.661506\n",
      "[21]\tvalidation_0-auc:0.710605\tvalidation_1-auc:0.662762\n",
      "[22]\tvalidation_0-auc:0.711804\tvalidation_1-auc:0.662966\n",
      "[23]\tvalidation_0-auc:0.713316\tvalidation_1-auc:0.664031\n",
      "[24]\tvalidation_0-auc:0.714761\tvalidation_1-auc:0.663596\n",
      "[25]\tvalidation_0-auc:0.717121\tvalidation_1-auc:0.665004\n",
      "[26]\tvalidation_0-auc:0.71988\tvalidation_1-auc:0.665938\n",
      "[27]\tvalidation_0-auc:0.723005\tvalidation_1-auc:0.667504\n",
      "[28]\tvalidation_0-auc:0.726105\tvalidation_1-auc:0.668735\n",
      "[29]\tvalidation_0-auc:0.728231\tvalidation_1-auc:0.668335\n",
      "[30]\tvalidation_0-auc:0.730922\tvalidation_1-auc:0.668829\n",
      "[31]\tvalidation_0-auc:0.733962\tvalidation_1-auc:0.670185\n",
      "[32]\tvalidation_0-auc:0.735922\tvalidation_1-auc:0.670027\n",
      "[33]\tvalidation_0-auc:0.738478\tvalidation_1-auc:0.670373\n",
      "[34]\tvalidation_0-auc:0.740648\tvalidation_1-auc:0.671196\n",
      "[35]\tvalidation_0-auc:0.743082\tvalidation_1-auc:0.672132\n",
      "[36]\tvalidation_0-auc:0.746131\tvalidation_1-auc:0.672525\n",
      "[37]\tvalidation_0-auc:0.749195\tvalidation_1-auc:0.672162\n",
      "[38]\tvalidation_0-auc:0.751074\tvalidation_1-auc:0.672202\n",
      "[39]\tvalidation_0-auc:0.753091\tvalidation_1-auc:0.672032\n",
      "[40]\tvalidation_0-auc:0.754753\tvalidation_1-auc:0.672317\n",
      "[41]\tvalidation_0-auc:0.757352\tvalidation_1-auc:0.672449\n",
      "[42]\tvalidation_0-auc:0.760685\tvalidation_1-auc:0.674394\n",
      "[43]\tvalidation_0-auc:0.7625\tvalidation_1-auc:0.674365\n",
      "[44]\tvalidation_0-auc:0.764363\tvalidation_1-auc:0.674412\n",
      "[45]\tvalidation_0-auc:0.766339\tvalidation_1-auc:0.67399\n",
      "[46]\tvalidation_0-auc:0.767832\tvalidation_1-auc:0.673986\n",
      "[47]\tvalidation_0-auc:0.769404\tvalidation_1-auc:0.673476\n",
      "[48]\tvalidation_0-auc:0.771512\tvalidation_1-auc:0.673792\n",
      "[49]\tvalidation_0-auc:0.773977\tvalidation_1-auc:0.67443\n",
      "[50]\tvalidation_0-auc:0.775552\tvalidation_1-auc:0.674341\n",
      "[51]\tvalidation_0-auc:0.777311\tvalidation_1-auc:0.674915\n",
      "[52]\tvalidation_0-auc:0.779247\tvalidation_1-auc:0.675696\n",
      "[53]\tvalidation_0-auc:0.78062\tvalidation_1-auc:0.675409\n",
      "[54]\tvalidation_0-auc:0.782131\tvalidation_1-auc:0.674629\n",
      "[55]\tvalidation_0-auc:0.784587\tvalidation_1-auc:0.674627\n",
      "[56]\tvalidation_0-auc:0.786568\tvalidation_1-auc:0.675248\n",
      "[57]\tvalidation_0-auc:0.788313\tvalidation_1-auc:0.675357\n",
      "[58]\tvalidation_0-auc:0.789818\tvalidation_1-auc:0.675846\n",
      "[59]\tvalidation_0-auc:0.791561\tvalidation_1-auc:0.675525\n",
      "[60]\tvalidation_0-auc:0.791953\tvalidation_1-auc:0.675201\n",
      "[61]\tvalidation_0-auc:0.793988\tvalidation_1-auc:0.675299\n",
      "[62]\tvalidation_0-auc:0.795083\tvalidation_1-auc:0.675212\n",
      "[63]\tvalidation_0-auc:0.796266\tvalidation_1-auc:0.675178\n",
      "[64]\tvalidation_0-auc:0.798649\tvalidation_1-auc:0.675446\n",
      "[65]\tvalidation_0-auc:0.800969\tvalidation_1-auc:0.675466\n",
      "[66]\tvalidation_0-auc:0.80235\tvalidation_1-auc:0.675918\n",
      "[67]\tvalidation_0-auc:0.803678\tvalidation_1-auc:0.67556\n",
      "[68]\tvalidation_0-auc:0.804558\tvalidation_1-auc:0.675667\n",
      "[69]\tvalidation_0-auc:0.805938\tvalidation_1-auc:0.675298\n",
      "[70]\tvalidation_0-auc:0.80788\tvalidation_1-auc:0.675105\n",
      "[71]\tvalidation_0-auc:0.808445\tvalidation_1-auc:0.675254\n",
      "[72]\tvalidation_0-auc:0.809602\tvalidation_1-auc:0.675642\n",
      "[73]\tvalidation_0-auc:0.811789\tvalidation_1-auc:0.676371\n",
      "[74]\tvalidation_0-auc:0.813391\tvalidation_1-auc:0.676467\n",
      "[75]\tvalidation_0-auc:0.81437\tvalidation_1-auc:0.676526\n",
      "[76]\tvalidation_0-auc:0.815771\tvalidation_1-auc:0.676684\n",
      "[77]\tvalidation_0-auc:0.817175\tvalidation_1-auc:0.676375\n",
      "[78]\tvalidation_0-auc:0.818705\tvalidation_1-auc:0.676149\n",
      "[79]\tvalidation_0-auc:0.819993\tvalidation_1-auc:0.676246\n",
      "[80]\tvalidation_0-auc:0.82071\tvalidation_1-auc:0.676525\n",
      "[81]\tvalidation_0-auc:0.821969\tvalidation_1-auc:0.676824\n",
      "[82]\tvalidation_0-auc:0.823089\tvalidation_1-auc:0.677143\n",
      "[83]\tvalidation_0-auc:0.823993\tvalidation_1-auc:0.677038\n",
      "[84]\tvalidation_0-auc:0.82462\tvalidation_1-auc:0.677315\n",
      "[85]\tvalidation_0-auc:0.826742\tvalidation_1-auc:0.677132\n",
      "[86]\tvalidation_0-auc:0.827525\tvalidation_1-auc:0.677187\n",
      "[87]\tvalidation_0-auc:0.828783\tvalidation_1-auc:0.677077\n",
      "[88]\tvalidation_0-auc:0.829468\tvalidation_1-auc:0.677187\n",
      "[89]\tvalidation_0-auc:0.831094\tvalidation_1-auc:0.677632\n",
      "[90]\tvalidation_0-auc:0.831802\tvalidation_1-auc:0.677593\n",
      "[91]\tvalidation_0-auc:0.832687\tvalidation_1-auc:0.677677\n",
      "[92]\tvalidation_0-auc:0.833681\tvalidation_1-auc:0.677892\n",
      "[93]\tvalidation_0-auc:0.834807\tvalidation_1-auc:0.677913\n",
      "[94]\tvalidation_0-auc:0.835309\tvalidation_1-auc:0.677858\n",
      "[95]\tvalidation_0-auc:0.83575\tvalidation_1-auc:0.677635\n",
      "[96]\tvalidation_0-auc:0.836266\tvalidation_1-auc:0.677801\n",
      "[97]\tvalidation_0-auc:0.83704\tvalidation_1-auc:0.677861\n",
      "[98]\tvalidation_0-auc:0.8387\tvalidation_1-auc:0.678061\n",
      "[99]\tvalidation_0-auc:0.840044\tvalidation_1-auc:0.677953\n",
      "[100]\tvalidation_0-auc:0.84095\tvalidation_1-auc:0.678146\n",
      "[101]\tvalidation_0-auc:0.841856\tvalidation_1-auc:0.677606\n",
      "[102]\tvalidation_0-auc:0.842189\tvalidation_1-auc:0.67763\n",
      "[103]\tvalidation_0-auc:0.842307\tvalidation_1-auc:0.677547\n",
      "[104]\tvalidation_0-auc:0.842911\tvalidation_1-auc:0.677568\n",
      "[105]\tvalidation_0-auc:0.8444\tvalidation_1-auc:0.67748\n",
      "[106]\tvalidation_0-auc:0.845018\tvalidation_1-auc:0.677555\n",
      "[107]\tvalidation_0-auc:0.845968\tvalidation_1-auc:0.677482\n",
      "[108]\tvalidation_0-auc:0.84677\tvalidation_1-auc:0.677235\n",
      "[109]\tvalidation_0-auc:0.847432\tvalidation_1-auc:0.677339\n",
      "[110]\tvalidation_0-auc:0.848597\tvalidation_1-auc:0.677486\n",
      "Stopping. Best iteration:\n",
      "[100]\tvalidation_0-auc:0.84095\tvalidation_1-auc:0.678146\n",
      "\n"
     ]
    },
    {
     "data": {
      "text/plain": [
       "XGBClassifier(base_score=0.5, booster='gbtree', colsample_bylevel=1,\n",
       "              colsample_bynode=1, colsample_bytree=0.8, eta=0.3, gamma=0,\n",
       "              learning_rate=0.1, max_delta_step=0, max_depth=8,\n",
       "              min_child_weight=1, min_child_wight=300, missing=None,\n",
       "              n_estimators=1000, n_jobs=1, nthread=None,\n",
       "              objective='binary:logistic', random_state=0, reg_alpha=0,\n",
       "              reg_lambda=1, scale_pos_weight=1, seed=42, silent=None,\n",
       "              subsample=0.8, verbosity=1)"
      ]
     },
     "execution_count": 11,
     "metadata": {},
     "output_type": "execute_result"
    }
   ],
   "source": [
    "train_x, vali_x, train_y, vali_y = train_test_split(x_train, y_train, test_size=0.2)\n",
    "model = xgb.XGBClassifier(max_depth=8, n_estimators=1000, min_child_wight=300, colsample_bytree=0.8, subsample=0.8, eta=0.3, seed=42)\n",
    "model.fit(train_x, train_y, eval_metric='auc', eval_set=[(train_x, train_y), (vali_x, vali_y)], verbose=True, early_stopping_rounds=10)"
   ]
  },
  {
   "cell_type": "code",
   "execution_count": 12,
   "metadata": {},
   "outputs": [],
   "source": [
    "prob = model.predict_proba(test)\n",
    "test_data['prob'] = pd.Series(prob[:, 1])\n",
    "test_data.drop(['origin'], axis=1, inplace=True)"
   ]
  },
  {
   "cell_type": "code",
   "execution_count": 13,
   "metadata": {},
   "outputs": [],
   "source": [
    "test_data.to_csv('prediction.csv', index=False)"
   ]
  },
  {
   "cell_type": "code",
   "execution_count": null,
   "metadata": {},
   "outputs": [],
   "source": []
  }
 ],
 "metadata": {
  "kernelspec": {
   "display_name": "Python 3",
   "language": "python",
   "name": "python3"
  },
  "language_info": {
   "codemirror_mode": {
    "name": "ipython",
    "version": 3
   },
   "file_extension": ".py",
   "mimetype": "text/x-python",
   "name": "python",
   "nbconvert_exporter": "python",
   "pygments_lexer": "ipython3",
   "version": "3.7.4"
  }
 },
 "nbformat": 4,
 "nbformat_minor": 4
}
