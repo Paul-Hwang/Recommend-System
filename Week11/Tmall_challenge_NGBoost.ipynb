{
 "cells": [
  {
   "cell_type": "code",
   "execution_count": 2,
   "metadata": {},
   "outputs": [],
   "source": [
    "import pandas as pd\n",
    "from sklearn.model_selection import train_test_split\n",
    "from ngboost import NGBClassifier"
   ]
  },
  {
   "cell_type": "code",
   "execution_count": 3,
   "metadata": {},
   "outputs": [],
   "source": [
    "# 全量数据\n",
    "\n",
    "train_data = pd.read_csv('./data_format1/train_format1.csv')\n",
    "test_data = pd.read_csv('./data_format1/test_format1.csv')\n",
    "user_info = pd.read_csv('./data_format1/user_info_format1.csv')\n",
    "user_log = pd.read_csv('./data_format1/user_log_format1.csv')\n"
   ]
  },
  {
   "cell_type": "code",
   "execution_count": 4,
   "metadata": {},
   "outputs": [
    {
     "data": {
      "text/plain": [
       "\"\\ntrain_data = pd.read_csv('./sample/train_data_sample.csv')\\ntest_data = pd.read_csv('./sample/test_data_sample.csv')\\nuser_info = pd.read_csv('./sample/user_info_sample.csv')\\nuser_log = pd.read_csv('./sample/user_log_sample.csv')\\n\""
      ]
     },
     "execution_count": 4,
     "metadata": {},
     "output_type": "execute_result"
    }
   ],
   "source": [
    "# 加载样本\n",
    "'''\n",
    "train_data = pd.read_csv('./sample/train_data_sample.csv')\n",
    "test_data = pd.read_csv('./sample/test_data_sample.csv')\n",
    "user_info = pd.read_csv('./sample/user_info_sample.csv')\n",
    "user_log = pd.read_csv('./sample/user_log_sample.csv')\n",
    "'''"
   ]
  },
  {
   "cell_type": "code",
   "execution_count": 5,
   "metadata": {},
   "outputs": [],
   "source": [
    "user_log.rename(columns={'seller_id': 'merchant_id'}, inplace=True)"
   ]
  },
  {
   "cell_type": "code",
   "execution_count": 6,
   "metadata": {},
   "outputs": [],
   "source": [
    "# 数据清洗\n",
    "user_log['brand_id'].fillna(0, inplace=True)\n",
    "user_log['brand_id'] = user_log['brand_id'].astype('int64')\n",
    "user_log['time_stamp'] = pd.to_datetime(user_log['time_stamp'], format='%H%M')\n",
    "user_info['age_range'].fillna(0, inplace=True)\n",
    "user_info = user_info.replace([8], [7])\n",
    "user_info['age_range'] = user_info['age_range'].astype('int64')\n",
    "user_info['gender'].fillna(2, inplace=True)\n",
    "user_info['gender'] = user_info['gender'].astype('int64')"
   ]
  },
  {
   "cell_type": "code",
   "execution_count": 7,
   "metadata": {},
   "outputs": [
    {
     "name": "stdout",
     "output_type": "stream",
     "text": [
      "<class 'pandas.core.frame.DataFrame'>\n",
      "RangeIndex: 260864 entries, 0 to 260863\n",
      "Data columns (total 3 columns):\n",
      " #   Column       Non-Null Count   Dtype\n",
      "---  ------       --------------   -----\n",
      " 0   user_id      260864 non-null  int64\n",
      " 1   merchant_id  260864 non-null  int64\n",
      " 2   label        260864 non-null  int64\n",
      "dtypes: int64(3)\n",
      "memory usage: 6.0 MB\n",
      "None\n",
      "<class 'pandas.core.frame.DataFrame'>\n",
      "RangeIndex: 424170 entries, 0 to 424169\n",
      "Data columns (total 3 columns):\n",
      " #   Column     Non-Null Count   Dtype\n",
      "---  ------     --------------   -----\n",
      " 0   user_id    424170 non-null  int64\n",
      " 1   age_range  424170 non-null  int64\n",
      " 2   gender     424170 non-null  int64\n",
      "dtypes: int64(3)\n",
      "memory usage: 9.7 MB\n",
      "None\n",
      "<class 'pandas.core.frame.DataFrame'>\n",
      "RangeIndex: 54925330 entries, 0 to 54925329\n",
      "Data columns (total 7 columns):\n",
      " #   Column       Non-Null Count     Dtype         \n",
      "---  ------       --------------     -----         \n",
      " 0   user_id      54925330 non-null  int64         \n",
      " 1   item_id      54925330 non-null  int64         \n",
      " 2   cat_id       54925330 non-null  int64         \n",
      " 3   merchant_id  54925330 non-null  int64         \n",
      " 4   brand_id     54925330 non-null  int64         \n",
      " 5   time_stamp   54925330 non-null  datetime64[ns]\n",
      " 6   action_type  54925330 non-null  int64         \n",
      "dtypes: datetime64[ns](1), int64(6)\n",
      "memory usage: 2.9 GB\n",
      "None\n"
     ]
    }
   ],
   "source": [
    "print(train_data.info())\n",
    "print(user_info.info())\n",
    "print(user_log.info(null_counts=True))"
   ]
  },
  {
   "cell_type": "code",
   "execution_count": 8,
   "metadata": {},
   "outputs": [],
   "source": [
    "train_data['origin'] = 'train'\n",
    "test_data['origin'] = 'test'\n",
    "matrix = pd.concat([train_data, test_data], ignore_index=True, sort=False)\n",
    "matrix.drop('prob', axis=1, inplace=True)\n",
    "matrix = matrix.merge(user_info, on='user_id', how='left')"
   ]
  },
  {
   "cell_type": "code",
   "execution_count": 9,
   "metadata": {},
   "outputs": [
    {
     "name": "stderr",
     "output_type": "stream",
     "text": [
      "/Users/paulhwang/anaconda3/envs/python3/lib/python3.7/site-packages/ipykernel_launcher.py:23: FutureWarning: Indexing with multiple keys (implicitly converted to a tuple of keys) will be deprecated, use a list instead.\n"
     ]
    }
   ],
   "source": [
    "# 用户特征处理\n",
    "groups = user_log.groupby(['user_id'])\n",
    "temp = groups.size().reset_index().rename(columns={0: 'u1'})\n",
    "matrix = matrix.merge(temp, on='user_id', how='left')\n",
    "temp = groups['item_id'].agg([('u2', 'nunique')]).reset_index()\n",
    "matrix = matrix.merge(temp, on='user_id', how='left')\n",
    "temp = groups['cat_id'].agg([('u3', 'nunique')]).reset_index()\n",
    "matrix = matrix.merge(temp, on='user_id', how='left')\n",
    "temp = groups['merchant_id'].agg([('u4', 'nunique')]).reset_index()\n",
    "matrix = matrix.merge(temp, on='user_id', how='left')\n",
    "temp = groups['brand_id'].agg([('u5', 'nunique')]).reset_index()\n",
    "matrix = matrix.merge(temp, on='user_id', how='left')\n",
    "temp = groups['time_stamp'].agg([('F_time', 'min'), ('L_time', 'max')]).reset_index()\n",
    "temp['u6'] = (temp['L_time'] - temp['F_time']).dt.seconds/3600\n",
    "matrix = matrix.merge(temp[['user_id', 'u6']], on='user_id', how='left')\n",
    "temp = groups['action_type'].value_counts().unstack().reset_index().rename(columns={0: 'u7', 1: 'u8', 2: 'u9', 3: 'u10'})\n",
    "matrix = matrix.merge(temp, on='user_id', how='left')\n",
    "\n",
    "# 商户特征处理\n",
    "groups = user_log.groupby(['merchant_id'])\n",
    "temp = groups.size().reset_index().rename(columns={0: 'm1'})\n",
    "matrix = matrix.merge(temp, on='merchant_id', how='left')\n",
    "temp = groups['user_id', 'item_id', 'cat_id', 'brand_id'].nunique().reset_index().rename(columns={'user_id': 'm2', 'item_id': 'm3', 'cat_id': 'm4', 'brand_id': 'm5'})\n",
    "matrix = matrix.merge(temp, on='merchant_id', how='left')\n",
    "temp = groups['action_type'].value_counts().unstack().reset_index().rename(columns={0: 'm6', 1: 'm7', 2: 'm8', 3: 'm9'})\n",
    "matrix = matrix.merge(temp, on='merchant_id', how='left')\n",
    "temp = train_data[train_data['label'] == -1].groupby('merchant_id').size().reset_index().rename(columns={0: 'm10'})\n",
    "matrix = matrix.merge(temp, on='merchant_id', how='left')"
   ]
  },
  {
   "cell_type": "code",
   "execution_count": 10,
   "metadata": {},
   "outputs": [
    {
     "name": "stderr",
     "output_type": "stream",
     "text": [
      "/Users/paulhwang/anaconda3/envs/python3/lib/python3.7/site-packages/ipykernel_launcher.py:4: FutureWarning: Indexing with multiple keys (implicitly converted to a tuple of keys) will be deprecated, use a list instead.\n",
      "  after removing the cwd from sys.path.\n"
     ]
    }
   ],
   "source": [
    "groups = user_log.groupby(['user_id', 'merchant_id'])\n",
    "temp = groups.size().reset_index().rename(columns={0: 'um1'})\n",
    "matrix = matrix.merge(temp, on=['user_id', 'merchant_id'], how='left')\n",
    "temp = groups['item_id', 'cat_id', 'brand_id'].nunique().reset_index().rename(columns={'item_id': 'um2', 'cat_id': 'um3', 'brand_id': 'um4'})\n",
    "matrix = matrix.merge(temp, on=['user_id', 'merchant_id'], how='left')\n",
    "temp = groups['action_type'].value_counts().unstack().reset_index().rename(columns={0: 'um5', 1: 'um6', 2: 'um7', 3: 'um8'})\n",
    "matrix = matrix.merge(temp, on=['user_id', 'merchant_id'], how='left')\n",
    "temp = groups['time_stamp'].agg([('first', 'min'), ('last', 'max')]).reset_index()\n",
    "temp['um9'] = (temp['last'] - temp['first']).dt.seconds/3600\n",
    "temp.drop(['last', 'first'], axis=1, inplace=True)\n",
    "matrix = matrix.merge(temp, on=['user_id', 'merchant_id'], how='left')"
   ]
  },
  {
   "cell_type": "code",
   "execution_count": 11,
   "metadata": {},
   "outputs": [],
   "source": [
    "matrix['r1'] = matrix['u9'] / matrix['u7']\n",
    "matrix['r2'] = matrix['m8'] / matrix['m6']\n",
    "matrix['r3'] = matrix['um7'] / matrix['um5']\n",
    "matrix.fillna(0, inplace=True)\n",
    "temp = pd.get_dummies(matrix['age_range'], prefix='age')\n",
    "matrix = pd.concat([matrix, temp], axis=1)\n",
    "temp = pd.get_dummies(matrix['gender'], prefix='gen')\n",
    "matrix = pd.concat([matrix, temp], axis=1)\n",
    "matrix.drop(['age_range', 'gender'], axis=1, inplace=True)"
   ]
  },
  {
   "cell_type": "code",
   "execution_count": 12,
   "metadata": {},
   "outputs": [],
   "source": [
    "train_data = matrix[matrix['origin'] == 'train'].drop('origin', axis=1)\n",
    "test = matrix[matrix['origin'] == 'test'].drop(['origin', 'label'], axis=1)\n",
    "x_train, y_train = train_data.drop('label', axis=1), train_data['label']"
   ]
  },
  {
   "cell_type": "code",
   "execution_count": 15,
   "metadata": {},
   "outputs": [
    {
     "name": "stdout",
     "output_type": "stream",
     "text": [
      "[iter 0] loss=0.2289 val_loss=0.0000 scale=1.0000 norm=2.0000\n",
      "[iter 50] loss=0.2246 val_loss=0.0000 scale=1.0000 norm=1.9553\n",
      "[iter 100] loss=0.2227 val_loss=0.0000 scale=1.0000 norm=1.9524\n",
      "[iter 150] loss=0.2214 val_loss=0.0000 scale=1.0000 norm=1.9593\n",
      "[iter 200] loss=0.2206 val_loss=0.0000 scale=1.0000 norm=1.9653\n",
      "[iter 250] loss=0.2200 val_loss=0.0000 scale=1.0000 norm=1.9705\n",
      "[iter 300] loss=0.2195 val_loss=0.0000 scale=1.0000 norm=1.9745\n",
      "[iter 350] loss=0.2191 val_loss=0.0000 scale=2.0000 norm=3.9550\n",
      "[iter 400] loss=0.2187 val_loss=0.0000 scale=1.0000 norm=1.9800\n",
      "[iter 450] loss=0.2185 val_loss=0.0000 scale=1.0000 norm=1.9824\n",
      "[iter 500] loss=0.2182 val_loss=0.0000 scale=1.0000 norm=1.9838\n",
      "[iter 550] loss=0.2180 val_loss=0.0000 scale=1.0000 norm=1.9843\n",
      "[iter 600] loss=0.2178 val_loss=0.0000 scale=1.0000 norm=1.9847\n",
      "[iter 650] loss=0.2176 val_loss=0.0000 scale=1.0000 norm=1.9848\n",
      "[iter 700] loss=0.2174 val_loss=0.0000 scale=1.0000 norm=1.9849\n",
      "[iter 750] loss=0.2172 val_loss=0.0000 scale=1.0000 norm=1.9853\n",
      "[iter 800] loss=0.2171 val_loss=0.0000 scale=1.0000 norm=1.9855\n",
      "[iter 850] loss=0.2169 val_loss=0.0000 scale=1.0000 norm=1.9856\n",
      "[iter 900] loss=0.2168 val_loss=0.0000 scale=1.0000 norm=1.9858\n",
      "[iter 950] loss=0.2167 val_loss=0.0000 scale=1.0000 norm=1.9858\n"
     ]
    },
    {
     "data": {
      "text/plain": [
       "NGBClassifier(Base=DecisionTreeRegressor(ccp_alpha=0.0,\n",
       "                                         criterion='friedman_mse', max_depth=3,\n",
       "                                         max_features=None, max_leaf_nodes=None,\n",
       "                                         min_impurity_decrease=0.0,\n",
       "                                         min_impurity_split=None,\n",
       "                                         min_samples_leaf=1,\n",
       "                                         min_samples_split=2,\n",
       "                                         min_weight_fraction_leaf=0.0,\n",
       "                                         presort='deprecated',\n",
       "                                         random_state=None, splitter='best'),\n",
       "              Dist=<class 'ngboost.distns.categorical.k_categorical.<locals>.Categorical'>,\n",
       "              Score=<class 'ngboost.scores.LogScore'>, learning_rate=0.01,\n",
       "              minibatch_frac=1.0, n_estimators=1000, natural_gradient=True,\n",
       "              random_state=RandomState(MT19937) at 0x10ACC29E0, tol=0.0001,\n",
       "              verbose=True, verbose_eval=50)"
      ]
     },
     "execution_count": 15,
     "metadata": {},
     "output_type": "execute_result"
    }
   ],
   "source": [
    "train_x, vali_x, train_y, vali_y = train_test_split(x_train, y_train, test_size=0.2)\n",
    "model = NGBClassifier(n_estimators=1000, learning_rate=0.01, verbose=True, verbose_eval=50)\n",
    "model.fit(train_x, train_y.apply(int))"
   ]
  },
  {
   "cell_type": "code",
   "execution_count": 16,
   "metadata": {},
   "outputs": [
    {
     "name": "stdout",
     "output_type": "stream",
     "text": [
      "MSE:  0.0629636018630326\n"
     ]
    }
   ],
   "source": [
    "from sklearn.metrics import mean_squared_error\n",
    "vali = model.predict(vali_x)\n",
    "mse = mean_squared_error(vali, vali_y)\n",
    "print('MSE: ', mse)\n",
    "prob = model.predict_proba(test)\n",
    "test_data['prob'] = pd.Series(prob[:, 1])\n",
    "test_data.drop(['origin'], axis=1, inplace=True)"
   ]
  },
  {
   "cell_type": "code",
   "execution_count": 17,
   "metadata": {},
   "outputs": [],
   "source": [
    "test_data.to_csv('prediction_ngboost.csv', index=False)"
   ]
  },
  {
   "cell_type": "code",
   "execution_count": 22,
   "metadata": {},
   "outputs": [
    {
     "data": {
      "text/html": [
       "<div>\n",
       "<style scoped>\n",
       "    .dataframe tbody tr th:only-of-type {\n",
       "        vertical-align: middle;\n",
       "    }\n",
       "\n",
       "    .dataframe tbody tr th {\n",
       "        vertical-align: top;\n",
       "    }\n",
       "\n",
       "    .dataframe thead th {\n",
       "        text-align: right;\n",
       "    }\n",
       "</style>\n",
       "<table border=\"1\" class=\"dataframe\">\n",
       "  <thead>\n",
       "    <tr style=\"text-align: right;\">\n",
       "      <th></th>\n",
       "      <th>user_id</th>\n",
       "      <th>merchant_id</th>\n",
       "      <th>prob</th>\n",
       "    </tr>\n",
       "  </thead>\n",
       "  <tbody>\n",
       "    <tr>\n",
       "      <th>0</th>\n",
       "      <td>163968</td>\n",
       "      <td>4605</td>\n",
       "      <td>0.048878</td>\n",
       "    </tr>\n",
       "    <tr>\n",
       "      <th>1</th>\n",
       "      <td>360576</td>\n",
       "      <td>1581</td>\n",
       "      <td>0.080782</td>\n",
       "    </tr>\n",
       "    <tr>\n",
       "      <th>2</th>\n",
       "      <td>98688</td>\n",
       "      <td>1964</td>\n",
       "      <td>0.050594</td>\n",
       "    </tr>\n",
       "    <tr>\n",
       "      <th>3</th>\n",
       "      <td>98688</td>\n",
       "      <td>3645</td>\n",
       "      <td>0.034064</td>\n",
       "    </tr>\n",
       "    <tr>\n",
       "      <th>4</th>\n",
       "      <td>295296</td>\n",
       "      <td>3361</td>\n",
       "      <td>0.065510</td>\n",
       "    </tr>\n",
       "    <tr>\n",
       "      <th>...</th>\n",
       "      <td>...</td>\n",
       "      <td>...</td>\n",
       "      <td>...</td>\n",
       "    </tr>\n",
       "    <tr>\n",
       "      <th>261472</th>\n",
       "      <td>228479</td>\n",
       "      <td>3111</td>\n",
       "      <td>0.075131</td>\n",
       "    </tr>\n",
       "    <tr>\n",
       "      <th>261473</th>\n",
       "      <td>97919</td>\n",
       "      <td>2341</td>\n",
       "      <td>0.024572</td>\n",
       "    </tr>\n",
       "    <tr>\n",
       "      <th>261474</th>\n",
       "      <td>97919</td>\n",
       "      <td>3971</td>\n",
       "      <td>0.110609</td>\n",
       "    </tr>\n",
       "    <tr>\n",
       "      <th>261475</th>\n",
       "      <td>32639</td>\n",
       "      <td>3536</td>\n",
       "      <td>0.039919</td>\n",
       "    </tr>\n",
       "    <tr>\n",
       "      <th>261476</th>\n",
       "      <td>32639</td>\n",
       "      <td>3319</td>\n",
       "      <td>0.059335</td>\n",
       "    </tr>\n",
       "  </tbody>\n",
       "</table>\n",
       "<p>261477 rows × 3 columns</p>\n",
       "</div>"
      ],
      "text/plain": [
       "        user_id  merchant_id      prob\n",
       "0        163968         4605  0.048878\n",
       "1        360576         1581  0.080782\n",
       "2         98688         1964  0.050594\n",
       "3         98688         3645  0.034064\n",
       "4        295296         3361  0.065510\n",
       "...         ...          ...       ...\n",
       "261472   228479         3111  0.075131\n",
       "261473    97919         2341  0.024572\n",
       "261474    97919         3971  0.110609\n",
       "261475    32639         3536  0.039919\n",
       "261476    32639         3319  0.059335\n",
       "\n",
       "[261477 rows x 3 columns]"
      ]
     },
     "execution_count": 22,
     "metadata": {},
     "output_type": "execute_result"
    }
   ],
   "source": []
  }
 ],
 "metadata": {
  "kernelspec": {
   "display_name": "Python 3",
   "language": "python",
   "name": "python3"
  },
  "language_info": {
   "codemirror_mode": {
    "name": "ipython",
    "version": 3
   },
   "file_extension": ".py",
   "mimetype": "text/x-python",
   "name": "python",
   "nbconvert_exporter": "python",
   "pygments_lexer": "ipython3",
   "version": "3.7.4"
  }
 },
 "nbformat": 4,
 "nbformat_minor": 4
}
