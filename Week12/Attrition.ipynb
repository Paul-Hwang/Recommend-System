{
 "cells": [
  {
   "cell_type": "code",
   "execution_count": 36,
   "metadata": {},
   "outputs": [],
   "source": [
    "import pandas as pd\n",
    "import numpy as np\n",
    "import xgboost as xgb\n",
    "import lightgbm as lgb\n",
    "from catboost import CatBoostClassifier\n",
    "from sklearn.preprocessing import LabelEncoder\n",
    "from sklearn.model_selection import train_test_split, StratifiedKFold\n",
    "from sklearn.metrics import auc, roc_curve\n",
    "from sklearn.linear_model import LogisticRegression"
   ]
  },
  {
   "cell_type": "code",
   "execution_count": 2,
   "metadata": {},
   "outputs": [],
   "source": [
    "train_data = pd.read_csv('train.csv')\n",
    "test_data = pd.read_csv('test.csv')"
   ]
  },
  {
   "cell_type": "code",
   "execution_count": 3,
   "metadata": {},
   "outputs": [],
   "source": [
    "train_data.rename(columns={'uesr_id': 'user_id'}, inplace=True)\n",
    "train = train_data.drop(['Attrition'], axis=1)\n",
    "train_label = pd.DataFrame(train_data['Attrition'])\n",
    "\n",
    "train['origin'] = 'train'\n",
    "train.set_index('user_id', inplace=True)\n",
    "test_data['origin'] = 'test'\n",
    "test_data.set_index('user_id', inplace=True)\n",
    "matrix = pd.concat([train, test_data])\n",
    "matrix.drop(['EmployeeCount', 'EmployeeNumber', 'Over18', 'StandardHours'], axis=1, inplace=True)"
   ]
  },
  {
   "cell_type": "code",
   "execution_count": 4,
   "metadata": {},
   "outputs": [],
   "source": [
    "lbe_label = LabelEncoder()\n",
    "train_label['Attrition'] = lbe_label.fit_transform(train_label['Attrition'])\n",
    "\n",
    "for i in ['BusinessTravel', 'Department', 'EducationField', 'JobRole']:\n",
    "    lbe = LabelEncoder()\n",
    "    matrix[i] = lbe.fit_transform(matrix[i])\n",
    "\n",
    "for i in ['Gender', 'MaritalStatus', 'OverTime']:\n",
    "    temp = pd.get_dummies(matrix[i], prefix=i)\n",
    "    matrix = pd.concat([matrix, temp], axis=1)\n",
    "    matrix.drop([i], axis=1, inplace=True)"
   ]
  },
  {
   "cell_type": "code",
   "execution_count": 5,
   "metadata": {},
   "outputs": [],
   "source": [
    "train = matrix[matrix['origin'] == 'train'].drop(['origin'], axis=1)\n",
    "test = matrix[matrix['origin'] == 'test'].drop(['origin'], axis=1)\n",
    "train_x, valid_x, train_y, valid_y = train_test_split(train, train_label, test_size=0.2)"
   ]
  },
  {
   "cell_type": "code",
   "execution_count": 7,
   "metadata": {},
   "outputs": [
    {
     "name": "stdout",
     "output_type": "stream",
     "text": [
      "auc of lr:  0.5303030303030303\n"
     ]
    },
    {
     "name": "stderr",
     "output_type": "stream",
     "text": [
      "/Users/paulhwang/anaconda3/envs/python3/lib/python3.7/site-packages/sklearn/utils/validation.py:760: DataConversionWarning: A column-vector y was passed when a 1d array was expected. Please change the shape of y to (n_samples, ), for example using ravel().\n",
      "  y = column_or_1d(y, warn=True)\n",
      "/Users/paulhwang/anaconda3/envs/python3/lib/python3.7/site-packages/sklearn/linear_model/_logistic.py:940: ConvergenceWarning: lbfgs failed to converge (status=1):\n",
      "STOP: TOTAL NO. of ITERATIONS REACHED LIMIT.\n",
      "\n",
      "Increase the number of iterations (max_iter) or scale the data as shown in:\n",
      "    https://scikit-learn.org/stable/modules/preprocessing.html\n",
      "Please also refer to the documentation for alternative solver options:\n",
      "    https://scikit-learn.org/stable/modules/linear_model.html#logistic-regression\n",
      "  extra_warning_msg=_LOGISTIC_SOLVER_CONVERGENCE_MSG)\n"
     ]
    }
   ],
   "source": [
    "# LR\n",
    "lr = LogisticRegression()\n",
    "lr.fit(train_x, train_y)\n",
    "valid_pred = lr.predict(valid_x)\n",
    "fpr_lr, tpr_lr, _ = roc_curve(valid_y, valid_pred)\n",
    "lr_auc = auc(fpr_lr, tpr_lr)\n",
    "print('auc of lr: ', lr_auc)\n",
    "\n",
    "lr_pred = lr.predict_proba(test)"
   ]
  },
  {
   "cell_type": "code",
   "execution_count": 16,
   "metadata": {},
   "outputs": [
    {
     "name": "stdout",
     "output_type": "stream",
     "text": [
      "[0]\tvalidation_0-auc:0.5\tvalidation_1-auc:0.5\n",
      "Multiple eval metrics have been passed: 'validation_1-auc' will be used for early stopping.\n",
      "\n",
      "Will train until validation_1-auc hasn't improved in 50 rounds.\n",
      "[1]\tvalidation_0-auc:0.5\tvalidation_1-auc:0.5\n",
      "[2]\tvalidation_0-auc:0.5\tvalidation_1-auc:0.5\n",
      "[3]\tvalidation_0-auc:0.5\tvalidation_1-auc:0.5\n",
      "[4]\tvalidation_0-auc:0.5\tvalidation_1-auc:0.5\n",
      "[5]\tvalidation_0-auc:0.5\tvalidation_1-auc:0.5\n",
      "[6]\tvalidation_0-auc:0.5\tvalidation_1-auc:0.5\n",
      "[7]\tvalidation_0-auc:0.5\tvalidation_1-auc:0.5\n",
      "[8]\tvalidation_0-auc:0.5\tvalidation_1-auc:0.5\n",
      "[9]\tvalidation_0-auc:0.5\tvalidation_1-auc:0.5\n",
      "[10]\tvalidation_0-auc:0.5\tvalidation_1-auc:0.5\n",
      "[11]\tvalidation_0-auc:0.5\tvalidation_1-auc:0.5\n",
      "[12]\tvalidation_0-auc:0.5\tvalidation_1-auc:0.5\n",
      "[13]\tvalidation_0-auc:0.5\tvalidation_1-auc:0.5\n",
      "[14]\tvalidation_0-auc:0.5\tvalidation_1-auc:0.5\n",
      "[15]\tvalidation_0-auc:0.5\tvalidation_1-auc:0.5\n",
      "[16]\tvalidation_0-auc:0.5\tvalidation_1-auc:0.5\n",
      "[17]\tvalidation_0-auc:0.5\tvalidation_1-auc:0.5\n",
      "[18]\tvalidation_0-auc:0.5\tvalidation_1-auc:0.5\n",
      "[19]\tvalidation_0-auc:0.5\tvalidation_1-auc:0.5\n",
      "[20]\tvalidation_0-auc:0.5\tvalidation_1-auc:0.5\n",
      "[21]\tvalidation_0-auc:0.5\tvalidation_1-auc:0.5\n",
      "[22]\tvalidation_0-auc:0.5\tvalidation_1-auc:0.5\n",
      "[23]\tvalidation_0-auc:0.5\tvalidation_1-auc:0.5\n",
      "[24]\tvalidation_0-auc:0.5\tvalidation_1-auc:0.5\n",
      "[25]\tvalidation_0-auc:0.5\tvalidation_1-auc:0.5\n",
      "[26]\tvalidation_0-auc:0.5\tvalidation_1-auc:0.5\n",
      "[27]\tvalidation_0-auc:0.5\tvalidation_1-auc:0.5\n",
      "[28]\tvalidation_0-auc:0.5\tvalidation_1-auc:0.5\n",
      "[29]\tvalidation_0-auc:0.5\tvalidation_1-auc:0.5\n",
      "[30]\tvalidation_0-auc:0.5\tvalidation_1-auc:0.5\n",
      "[31]\tvalidation_0-auc:0.5\tvalidation_1-auc:0.5\n",
      "[32]\tvalidation_0-auc:0.5\tvalidation_1-auc:0.5\n",
      "[33]\tvalidation_0-auc:0.5\tvalidation_1-auc:0.5\n",
      "[34]\tvalidation_0-auc:0.5\tvalidation_1-auc:0.5\n",
      "[35]\tvalidation_0-auc:0.5\tvalidation_1-auc:0.5\n",
      "[36]\tvalidation_0-auc:0.5\tvalidation_1-auc:0.5\n",
      "[37]\tvalidation_0-auc:0.5\tvalidation_1-auc:0.5\n",
      "[38]\tvalidation_0-auc:0.5\tvalidation_1-auc:0.5\n",
      "[39]\tvalidation_0-auc:0.5\tvalidation_1-auc:0.5\n",
      "[40]\tvalidation_0-auc:0.5\tvalidation_1-auc:0.5\n",
      "[41]\tvalidation_0-auc:0.5\tvalidation_1-auc:0.5\n",
      "[42]\tvalidation_0-auc:0.5\tvalidation_1-auc:0.5\n",
      "[43]\tvalidation_0-auc:0.5\tvalidation_1-auc:0.5\n",
      "[44]\tvalidation_0-auc:0.5\tvalidation_1-auc:0.5\n",
      "[45]\tvalidation_0-auc:0.5\tvalidation_1-auc:0.5\n",
      "[46]\tvalidation_0-auc:0.5\tvalidation_1-auc:0.5\n",
      "[47]\tvalidation_0-auc:0.5\tvalidation_1-auc:0.5\n",
      "[48]\tvalidation_0-auc:0.5\tvalidation_1-auc:0.5\n",
      "[49]\tvalidation_0-auc:0.5\tvalidation_1-auc:0.5\n",
      "[50]\tvalidation_0-auc:0.5\tvalidation_1-auc:0.5\n",
      "Stopping. Best iteration:\n",
      "[0]\tvalidation_0-auc:0.5\tvalidation_1-auc:0.5\n",
      "\n"
     ]
    },
    {
     "name": "stderr",
     "output_type": "stream",
     "text": [
      "/Users/paulhwang/anaconda3/envs/python3/lib/python3.7/site-packages/sklearn/preprocessing/_label.py:235: DataConversionWarning: A column-vector y was passed when a 1d array was expected. Please change the shape of y to (n_samples, ), for example using ravel().\n",
      "  y = column_or_1d(y, warn=True)\n",
      "/Users/paulhwang/anaconda3/envs/python3/lib/python3.7/site-packages/sklearn/preprocessing/_label.py:268: DataConversionWarning: A column-vector y was passed when a 1d array was expected. Please change the shape of y to (n_samples, ), for example using ravel().\n",
      "  y = column_or_1d(y, warn=True)\n"
     ]
    }
   ],
   "source": [
    "# XGBoost\n",
    "XGB = xgb.XGBClassifier(max_depth=8, n_estimators=1000, min_child_weight=300, eta=0.3, seed=66)\n",
    "XGB.fit(train_x, train_y, eval_metric='auc', eval_set=[(train_x, train_y), (valid_x, valid_y)], verbose=True, early_stopping_rounds=50)\n",
    "xgb_pred = XGB.predict_proba(test)"
   ]
  },
  {
   "cell_type": "code",
   "execution_count": 14,
   "metadata": {},
   "outputs": [
    {
     "name": "stdout",
     "output_type": "stream",
     "text": [
      "Training until validation scores don't improve for 200 rounds\n",
      "[25]\ttraining's auc: 0.933581\tvalid_1's auc: 0.719361\n",
      "[50]\ttraining's auc: 0.950236\tvalid_1's auc: 0.701448\n",
      "[75]\ttraining's auc: 0.963016\tvalid_1's auc: 0.697268\n",
      "[100]\ttraining's auc: 0.969534\tvalid_1's auc: 0.69279\n",
      "[125]\ttraining's auc: 0.974481\tvalid_1's auc: 0.693536\n",
      "[150]\ttraining's auc: 0.980703\tvalid_1's auc: 0.68861\n",
      "[175]\ttraining's auc: 0.984878\tvalid_1's auc: 0.69682\n",
      "[200]\ttraining's auc: 0.988091\tvalid_1's auc: 0.691894\n",
      "Early stopping, best iteration is:\n",
      "[24]\ttraining's auc: 0.931009\tvalid_1's auc: 0.721003\n"
     ]
    }
   ],
   "source": [
    "# LightGBM\n",
    "params = {'boosting_type': 'gbdt', 'objective': 'binary', 'metric': 'auc', 'learning_rate': 0.01, 'max_depth': 15, 'feature_fraction': 0.8, 'bagging_fraction': 0.9,\n",
    "         'bagging_freq': 8, 'lambda_l1': 0.6, 'lambda_l2': 0}\n",
    "trn_data = lgb.Dataset(train_x, label=train_y)\n",
    "val_data = lgb.Dataset(valid_x, label=valid_y)\n",
    "LGB = lgb.train(params, trn_data, valid_sets=[trn_data, val_data], num_boost_round=10000, early_stopping_rounds=200, verbose_eval=25)\n",
    "lgb_pred = LGB.predict(test)"
   ]
  },
  {
   "cell_type": "code",
   "execution_count": 47,
   "metadata": {},
   "outputs": [
    {
     "name": "stderr",
     "output_type": "stream",
     "text": [
      "Warning: Overfitting detector is active, thus evaluation metric is calculated on every iteration. 'metric_period' is ignored for evaluation metric.\n"
     ]
    },
    {
     "name": "stdout",
     "output_type": "stream",
     "text": [
      "0:\ttest: 0.7031769\tbest: 0.7031769 (0)\ttotal: 18.3ms\tremaining: 27.5s\n",
      "100:\ttest: 0.7950635\tbest: 0.7950635 (100)\ttotal: 1.29s\tremaining: 17.9s\n",
      "200:\ttest: 0.7996090\tbest: 0.8007820 (190)\ttotal: 2.84s\tremaining: 18.4s\n",
      "300:\ttest: 0.8053763\tbest: 0.8061095 (268)\ttotal: 4.4s\tremaining: 17.5s\n",
      "400:\ttest: 0.8053275\tbest: 0.8061095 (268)\ttotal: 5.87s\tremaining: 16.1s\n",
      "500:\ttest: 0.8068426\tbest: 0.8084066 (486)\ttotal: 7.42s\tremaining: 14.8s\n",
      "600:\ttest: 0.8080645\tbest: 0.8086999 (520)\ttotal: 9.02s\tremaining: 13.5s\n",
      "700:\ttest: 0.8092375\tbest: 0.8103617 (676)\ttotal: 10.6s\tremaining: 12.1s\n",
      "800:\ttest: 0.8087488\tbest: 0.8104594 (738)\ttotal: 12.3s\tremaining: 10.7s\n",
      "900:\ttest: 0.8087977\tbest: 0.8104594 (738)\ttotal: 14.1s\tremaining: 9.39s\n",
      "1000:\ttest: 0.8057674\tbest: 0.8104594 (738)\ttotal: 15.9s\tremaining: 7.94s\n",
      "1100:\ttest: 0.8057674\tbest: 0.8104594 (738)\ttotal: 17.7s\tremaining: 6.43s\n",
      "1200:\ttest: 0.8068915\tbest: 0.8104594 (738)\ttotal: 19.6s\tremaining: 4.87s\n",
      "Stopped by overfitting detector  (500 iterations wait)\n",
      "\n",
      "bestTest = 0.810459433\n",
      "bestIteration = 738\n",
      "\n",
      "Shrink model to first 739 iterations.\n",
      "0:\ttest: 0.7229942\tbest: 0.7229942 (0)\ttotal: 15.8ms\tremaining: 23.6s\n"
     ]
    },
    {
     "name": "stderr",
     "output_type": "stream",
     "text": [
      "Warning: Overfitting detector is active, thus evaluation metric is calculated on every iteration. 'metric_period' is ignored for evaluation metric.\n"
     ]
    },
    {
     "name": "stdout",
     "output_type": "stream",
     "text": [
      "100:\ttest: 0.8155063\tbest: 0.8155063 (100)\ttotal: 1.4s\tremaining: 19.4s\n",
      "200:\ttest: 0.8310899\tbest: 0.8318136 (196)\ttotal: 2.96s\tremaining: 19.1s\n",
      "300:\ttest: 0.8386163\tbest: 0.8386645 (292)\ttotal: 4.67s\tremaining: 18.6s\n",
      "400:\ttest: 0.8408356\tbest: 0.8414146 (398)\ttotal: 6.34s\tremaining: 17.4s\n",
      "500:\ttest: 0.8437786\tbest: 0.8441164 (478)\ttotal: 7.86s\tremaining: 15.7s\n",
      "600:\ttest: 0.8476866\tbest: 0.8480243 (591)\ttotal: 9.43s\tremaining: 14.1s\n",
      "700:\ttest: 0.8484585\tbest: 0.8491340 (612)\ttotal: 11.1s\tremaining: 12.7s\n",
      "800:\ttest: 0.8513051\tbest: 0.8521252 (797)\ttotal: 12.9s\tremaining: 11.2s\n",
      "900:\ttest: 0.8526077\tbest: 0.8527042 (896)\ttotal: 14.6s\tremaining: 9.73s\n",
      "1000:\ttest: 0.8505331\tbest: 0.8531384 (907)\ttotal: 16.5s\tremaining: 8.21s\n",
      "1100:\ttest: 0.8495199\tbest: 0.8531384 (907)\ttotal: 18.3s\tremaining: 6.63s\n",
      "1200:\ttest: 0.8490857\tbest: 0.8531384 (907)\ttotal: 20.2s\tremaining: 5.02s\n",
      "1300:\ttest: 0.8499059\tbest: 0.8531384 (907)\ttotal: 22s\tremaining: 3.36s\n",
      "1400:\ttest: 0.8505814\tbest: 0.8531384 (907)\ttotal: 23.8s\tremaining: 1.68s\n",
      "Stopped by overfitting detector  (500 iterations wait)\n",
      "\n",
      "bestTest = 0.8531384185\n",
      "bestIteration = 907\n",
      "\n",
      "Shrink model to first 908 iterations.\n"
     ]
    },
    {
     "name": "stderr",
     "output_type": "stream",
     "text": [
      "Warning: Overfitting detector is active, thus evaluation metric is calculated on every iteration. 'metric_period' is ignored for evaluation metric.\n"
     ]
    },
    {
     "name": "stdout",
     "output_type": "stream",
     "text": [
      "0:\ttest: 0.6871231\tbest: 0.6871231 (0)\ttotal: 16.8ms\tremaining: 25.2s\n",
      "100:\ttest: 0.8339847\tbest: 0.8351908 (91)\ttotal: 1.37s\tremaining: 18.9s\n",
      "200:\ttest: 0.8331645\tbest: 0.8361557 (114)\ttotal: 2.91s\tremaining: 18.8s\n",
      "300:\ttest: 0.8332127\tbest: 0.8365417 (251)\ttotal: 4.56s\tremaining: 18.2s\n",
      "400:\ttest: 0.8360110\tbest: 0.8365417 (251)\ttotal: 6.3s\tremaining: 17.3s\n",
      "500:\ttest: 0.8361075\tbest: 0.8365417 (251)\ttotal: 8.05s\tremaining: 16s\n",
      "600:\ttest: 0.8352873\tbest: 0.8374584 (514)\ttotal: 9.73s\tremaining: 14.6s\n",
      "700:\ttest: 0.8334539\tbest: 0.8374584 (514)\ttotal: 11.4s\tremaining: 13s\n",
      "800:\ttest: 0.8344671\tbest: 0.8374584 (514)\ttotal: 13.1s\tremaining: 11.4s\n",
      "900:\ttest: 0.8333092\tbest: 0.8374584 (514)\ttotal: 14.7s\tremaining: 9.81s\n",
      "1000:\ttest: 0.8324890\tbest: 0.8374584 (514)\ttotal: 16.5s\tremaining: 8.23s\n",
      "Stopped by overfitting detector  (500 iterations wait)\n",
      "\n",
      "bestTest = 0.8374583876\n",
      "bestIteration = 514\n",
      "\n",
      "Shrink model to first 515 iterations.\n"
     ]
    }
   ],
   "source": [
    "# CatBoost\n",
    "cat_features = ['BusinessTravel', 'Department', 'EducationField', 'JobRole', 'Gender_Female', 'Gender_Male', 'MaritalStatus_Divorced', 'MaritalStatus_Married', \n",
    "               'MaritalStatus_Single', 'OverTime_No', 'OverTime_Yes', 'Education', 'JobLevel', 'StockOptionLevel']\n",
    "skf = StratifiedKFold(n_splits=3, shuffle=True, random_state=42)\n",
    "pred_skf = []\n",
    "for train_index, valid_index in skf.split(train, train_label):\n",
    "    CAT = CatBoostClassifier(iterations=1500, depth=7, learning_rate=0.01, loss_function='Logloss', eval_metric='AUC', bagging_temperature=0.83, rsm=0.78, \n",
    "                             od_type='Iter', od_wait=500, metric_period=100, l2_leaf_reg=5, thread_count=20, random_seed=42, logging_level='Verbose')\n",
    "    CAT.fit(train.iloc[train_index, :], train_label.iloc[train_index], eval_set=(train.iloc[valid_index, :], train_label.iloc[valid_index]), cat_features=cat_features)\n",
    "    cat_pred = CAT.predict_proba(test)\n",
    "    pred_skf.append(cat_pred[:, 1])\n",
    "pred = np.zeros(len(test))\n",
    "for i in range(3):\n",
    "    pred += np.log(pred_skf[i] / (1 - pred_skf[i]))\n",
    "result = 1 / (1 + np.exp(-pred/3))\n"
   ]
  },
  {
   "cell_type": "code",
   "execution_count": 48,
   "metadata": {},
   "outputs": [],
   "source": [
    "submission = pd.DataFrame(test.reset_index()['user_id'])\n",
    "submission['Attrition'] = pd.Series(result)"
   ]
  },
  {
   "cell_type": "code",
   "execution_count": 49,
   "metadata": {},
   "outputs": [],
   "source": [
    "submission.to_csv('prediction.csv', index=False)"
   ]
  },
  {
   "cell_type": "code",
   "execution_count": 24,
   "metadata": {},
   "outputs": [
    {
     "data": {
      "text/html": [
       "<div>\n",
       "<style scoped>\n",
       "    .dataframe tbody tr th:only-of-type {\n",
       "        vertical-align: middle;\n",
       "    }\n",
       "\n",
       "    .dataframe tbody tr th {\n",
       "        vertical-align: top;\n",
       "    }\n",
       "\n",
       "    .dataframe thead th {\n",
       "        text-align: right;\n",
       "    }\n",
       "</style>\n",
       "<table border=\"1\" class=\"dataframe\">\n",
       "  <thead>\n",
       "    <tr style=\"text-align: right;\">\n",
       "      <th></th>\n",
       "      <th>user_id</th>\n",
       "      <th>Attrition</th>\n",
       "    </tr>\n",
       "  </thead>\n",
       "  <tbody>\n",
       "    <tr>\n",
       "      <th>0</th>\n",
       "      <td>442</td>\n",
       "      <td>0.120881</td>\n",
       "    </tr>\n",
       "    <tr>\n",
       "      <th>1</th>\n",
       "      <td>1091</td>\n",
       "      <td>0.092034</td>\n",
       "    </tr>\n",
       "    <tr>\n",
       "      <th>2</th>\n",
       "      <td>981</td>\n",
       "      <td>0.170785</td>\n",
       "    </tr>\n",
       "    <tr>\n",
       "      <th>3</th>\n",
       "      <td>785</td>\n",
       "      <td>0.128829</td>\n",
       "    </tr>\n",
       "    <tr>\n",
       "      <th>4</th>\n",
       "      <td>1332</td>\n",
       "      <td>0.608001</td>\n",
       "    </tr>\n",
       "    <tr>\n",
       "      <th>...</th>\n",
       "      <td>...</td>\n",
       "      <td>...</td>\n",
       "    </tr>\n",
       "    <tr>\n",
       "      <th>289</th>\n",
       "      <td>1439</td>\n",
       "      <td>0.101513</td>\n",
       "    </tr>\n",
       "    <tr>\n",
       "      <th>290</th>\n",
       "      <td>481</td>\n",
       "      <td>0.189513</td>\n",
       "    </tr>\n",
       "    <tr>\n",
       "      <th>291</th>\n",
       "      <td>124</td>\n",
       "      <td>0.256852</td>\n",
       "    </tr>\n",
       "    <tr>\n",
       "      <th>292</th>\n",
       "      <td>198</td>\n",
       "      <td>0.092692</td>\n",
       "    </tr>\n",
       "    <tr>\n",
       "      <th>293</th>\n",
       "      <td>1229</td>\n",
       "      <td>0.095908</td>\n",
       "    </tr>\n",
       "  </tbody>\n",
       "</table>\n",
       "<p>294 rows × 2 columns</p>\n",
       "</div>"
      ],
      "text/plain": [
       "     user_id  Attrition\n",
       "0        442   0.120881\n",
       "1       1091   0.092034\n",
       "2        981   0.170785\n",
       "3        785   0.128829\n",
       "4       1332   0.608001\n",
       "..       ...        ...\n",
       "289     1439   0.101513\n",
       "290      481   0.189513\n",
       "291      124   0.256852\n",
       "292      198   0.092692\n",
       "293     1229   0.095908\n",
       "\n",
       "[294 rows x 2 columns]"
      ]
     },
     "execution_count": 24,
     "metadata": {},
     "output_type": "execute_result"
    }
   ],
   "source": []
  }
 ],
 "metadata": {
  "kernelspec": {
   "display_name": "Python 3",
   "language": "python",
   "name": "python3"
  },
  "language_info": {
   "codemirror_mode": {
    "name": "ipython",
    "version": 3
   },
   "file_extension": ".py",
   "mimetype": "text/x-python",
   "name": "python",
   "nbconvert_exporter": "python",
   "pygments_lexer": "ipython3",
   "version": "3.7.4"
  }
 },
 "nbformat": 4,
 "nbformat_minor": 4
}
