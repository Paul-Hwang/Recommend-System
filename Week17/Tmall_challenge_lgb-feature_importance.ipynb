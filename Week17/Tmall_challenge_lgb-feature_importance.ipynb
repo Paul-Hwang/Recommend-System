{
 "cells": [
  {
   "cell_type": "code",
   "execution_count": 1,
   "metadata": {},
   "outputs": [],
   "source": [
    "import pandas as pd\n",
    "from sklearn.model_selection import train_test_split\n",
    "import xgboost as xgb\n",
    "import lightgbm as lgb"
   ]
  },
  {
   "cell_type": "code",
   "execution_count": 2,
   "metadata": {},
   "outputs": [],
   "source": [
    "# 全量数据\n",
    "\n",
    "train_data = pd.read_csv('d:/data_format1/train_format1.csv')\n",
    "test_data = pd.read_csv('d:/data_format1/test_format1.csv')\n",
    "user_info = pd.read_csv('d:/data_format1/user_info_format1.csv')\n",
    "user_log = pd.read_csv('d:/data_format1/user_log_format1.csv')\n"
   ]
  },
  {
   "cell_type": "code",
   "execution_count": 3,
   "metadata": {},
   "outputs": [
    {
     "data": {
      "text/plain": [
       "\"\\nuser_info.set_index('user_id', inplace=True)\\nuser_log.set_index('user_id', inplace=True)\\ntrain_data_sample = train_data.sample(n=15000)\\ntest_data_sample = test_data.sample(n=5000)\\nsample_user_id = train_data_sample['user_id'].tolist() + test_data_sample['user_id'].tolist()\\nuser_info_sample = user_info.loc[sample_user_id]\\nuser_log_sample = user_log.loc[sample_user_id]\\ntrain_data_sample.set_index('user_id', inplace=True)\\ntest_data_sample.set_index('user_id', inplace=True)\\n\""
      ]
     },
     "execution_count": 3,
     "metadata": {},
     "output_type": "execute_result"
    }
   ],
   "source": [
    "# 样本提取\n",
    "'''\n",
    "user_info.set_index('user_id', inplace=True)\n",
    "user_log.set_index('user_id', inplace=True)\n",
    "train_data_sample = train_data.sample(n=15000)\n",
    "test_data_sample = test_data.sample(n=5000)\n",
    "sample_user_id = train_data_sample['user_id'].tolist() + test_data_sample['user_id'].tolist()\n",
    "user_info_sample = user_info.loc[sample_user_id]\n",
    "user_log_sample = user_log.loc[sample_user_id]\n",
    "train_data_sample.set_index('user_id', inplace=True)\n",
    "test_data_sample.set_index('user_id', inplace=True)\n",
    "'''"
   ]
  },
  {
   "cell_type": "code",
   "execution_count": 4,
   "metadata": {},
   "outputs": [
    {
     "data": {
      "text/plain": [
       "\"\\ntrain_data_sample.to_csv('./sample/train_data_sample.csv')\\ntest_data_sample.to_csv('./sample/test_data_sample.csv')\\nuser_info_sample.to_csv('./sample/user_info_sample.csv')\\nuser_log_sample.to_csv('./sample/user_log_sample.csv')\\n\""
      ]
     },
     "execution_count": 4,
     "metadata": {},
     "output_type": "execute_result"
    }
   ],
   "source": [
    "# 保存样本\n",
    "'''\n",
    "train_data_sample.to_csv('./sample/train_data_sample.csv')\n",
    "test_data_sample.to_csv('./sample/test_data_sample.csv')\n",
    "user_info_sample.to_csv('./sample/user_info_sample.csv')\n",
    "user_log_sample.to_csv('./sample/user_log_sample.csv')\n",
    "'''"
   ]
  },
  {
   "cell_type": "code",
   "execution_count": 5,
   "metadata": {},
   "outputs": [
    {
     "data": {
      "text/plain": [
       "\"\\ntrain_data = pd.read_csv('./sample/train_data_sample.csv')\\ntest_data = pd.read_csv('./sample/test_data_sample.csv')\\nuser_info = pd.read_csv('./sample/user_info_sample.csv')\\nuser_log = pd.read_csv('./sample/user_log_sample.csv')\\n\""
      ]
     },
     "execution_count": 5,
     "metadata": {},
     "output_type": "execute_result"
    }
   ],
   "source": [
    "# 加载样本\n",
    "'''\n",
    "train_data = pd.read_csv('./sample/train_data_sample.csv')\n",
    "test_data = pd.read_csv('./sample/test_data_sample.csv')\n",
    "user_info = pd.read_csv('./sample/user_info_sample.csv')\n",
    "user_log = pd.read_csv('./sample/user_log_sample.csv')\n",
    "'''"
   ]
  },
  {
   "cell_type": "code",
   "execution_count": 3,
   "metadata": {},
   "outputs": [],
   "source": [
    "user_log.rename(columns={'seller_id': 'merchant_id'}, inplace=True)"
   ]
  },
  {
   "cell_type": "code",
   "execution_count": 4,
   "metadata": {},
   "outputs": [],
   "source": [
    "# 数据清洗\n",
    "user_log['brand_id'].fillna(0, inplace=True)\n",
    "user_log['brand_id'] = user_log['brand_id'].astype('int64')\n",
    "user_log['time_stamp'] = pd.to_datetime(user_log['time_stamp'], format='%H%M')\n",
    "user_info['age_range'].fillna(0, inplace=True)\n",
    "user_info = user_info.replace([8], [7])\n",
    "user_info['age_range'] = user_info['age_range'].astype('int64')\n",
    "user_info['gender'].fillna(2, inplace=True)\n",
    "user_info['gender'] = user_info['gender'].astype('int64')"
   ]
  },
  {
   "cell_type": "code",
   "execution_count": 5,
   "metadata": {},
   "outputs": [
    {
     "name": "stdout",
     "output_type": "stream",
     "text": [
      "<class 'pandas.core.frame.DataFrame'>\n",
      "RangeIndex: 260864 entries, 0 to 260863\n",
      "Data columns (total 3 columns):\n",
      " #   Column       Non-Null Count   Dtype\n",
      "---  ------       --------------   -----\n",
      " 0   user_id      260864 non-null  int64\n",
      " 1   merchant_id  260864 non-null  int64\n",
      " 2   label        260864 non-null  int64\n",
      "dtypes: int64(3)\n",
      "memory usage: 6.0 MB\n",
      "None\n",
      "<class 'pandas.core.frame.DataFrame'>\n",
      "RangeIndex: 424170 entries, 0 to 424169\n",
      "Data columns (total 3 columns):\n",
      " #   Column     Non-Null Count   Dtype\n",
      "---  ------     --------------   -----\n",
      " 0   user_id    424170 non-null  int64\n",
      " 1   age_range  424170 non-null  int64\n",
      " 2   gender     424170 non-null  int64\n",
      "dtypes: int64(3)\n",
      "memory usage: 9.7 MB\n",
      "None\n",
      "<class 'pandas.core.frame.DataFrame'>\n",
      "RangeIndex: 54925330 entries, 0 to 54925329\n",
      "Data columns (total 7 columns):\n",
      " #   Column       Non-Null Count     Dtype         \n",
      "---  ------       --------------     -----         \n",
      " 0   user_id      54925330 non-null  int64         \n",
      " 1   item_id      54925330 non-null  int64         \n",
      " 2   cat_id       54925330 non-null  int64         \n",
      " 3   merchant_id  54925330 non-null  int64         \n",
      " 4   brand_id     54925330 non-null  int64         \n",
      " 5   time_stamp   54925330 non-null  datetime64[ns]\n",
      " 6   action_type  54925330 non-null  int64         \n",
      "dtypes: datetime64[ns](1), int64(6)\n",
      "memory usage: 2.9 GB\n",
      "None\n"
     ]
    }
   ],
   "source": [
    "print(train_data.info())\n",
    "print(user_info.info())\n",
    "print(user_log.info(null_counts=True))"
   ]
  },
  {
   "cell_type": "code",
   "execution_count": 6,
   "metadata": {},
   "outputs": [],
   "source": [
    "train_data['origin'] = 'train'\n",
    "test_data['origin'] = 'test'\n",
    "matrix = pd.concat([train_data, test_data], ignore_index=True, sort=False)\n",
    "matrix.drop('prob', axis=1, inplace=True)\n",
    "matrix = matrix.merge(user_info, on='user_id', how='left')"
   ]
  },
  {
   "cell_type": "code",
   "execution_count": 7,
   "metadata": {},
   "outputs": [
    {
     "name": "stderr",
     "output_type": "stream",
     "text": [
      "d:\\anaconda3\\envs\\python3.7\\lib\\site-packages\\ipykernel_launcher.py:23: FutureWarning: Indexing with multiple keys (implicitly converted to a tuple of keys) will be deprecated, use a list instead.\n"
     ]
    }
   ],
   "source": [
    "# 用户特征处理\n",
    "groups = user_log.groupby(['user_id'])\n",
    "temp = groups.size().reset_index().rename(columns={0: 'u1'})\n",
    "matrix = matrix.merge(temp, on='user_id', how='left')\n",
    "temp = groups['item_id'].agg([('u2', 'nunique')]).reset_index()\n",
    "matrix = matrix.merge(temp, on='user_id', how='left')\n",
    "temp = groups['cat_id'].agg([('u3', 'nunique')]).reset_index()\n",
    "matrix = matrix.merge(temp, on='user_id', how='left')\n",
    "temp = groups['merchant_id'].agg([('u4', 'nunique')]).reset_index()\n",
    "matrix = matrix.merge(temp, on='user_id', how='left')\n",
    "temp = groups['brand_id'].agg([('u5', 'nunique')]).reset_index()\n",
    "matrix = matrix.merge(temp, on='user_id', how='left')\n",
    "temp = groups['time_stamp'].agg([('F_time', 'min'), ('L_time', 'max')]).reset_index()\n",
    "temp['u6'] = (temp['L_time'] - temp['F_time']).dt.seconds/3600\n",
    "matrix = matrix.merge(temp[['user_id', 'u6']], on='user_id', how='left')\n",
    "temp = groups['action_type'].value_counts().unstack().reset_index().rename(columns={0: 'u7', 1: 'u8', 2: 'u9', 3: 'u10'})\n",
    "matrix = matrix.merge(temp, on='user_id', how='left')\n",
    "\n",
    "# 商户特征处理\n",
    "groups = user_log.groupby(['merchant_id'])\n",
    "temp = groups.size().reset_index().rename(columns={0: 'm1'})\n",
    "matrix = matrix.merge(temp, on='merchant_id', how='left')\n",
    "temp = groups['user_id', 'item_id', 'cat_id', 'brand_id'].nunique().reset_index().rename(columns={'user_id': 'm2', 'item_id': 'm3', 'cat_id': 'm4', 'brand_id': 'm5'})\n",
    "matrix = matrix.merge(temp, on='merchant_id', how='left')\n",
    "temp = groups['action_type'].value_counts().unstack().reset_index().rename(columns={0: 'm6', 1: 'm7', 2: 'm8', 3: 'm9'})\n",
    "matrix = matrix.merge(temp, on='merchant_id', how='left')\n",
    "temp = train_data[train_data['label'] == -1].groupby('merchant_id').size().reset_index().rename(columns={0: 'm10'})\n",
    "matrix = matrix.merge(temp, on='merchant_id', how='left')"
   ]
  },
  {
   "cell_type": "code",
   "execution_count": 8,
   "metadata": {},
   "outputs": [
    {
     "name": "stderr",
     "output_type": "stream",
     "text": [
      "d:\\anaconda3\\envs\\python3.7\\lib\\site-packages\\ipykernel_launcher.py:4: FutureWarning: Indexing with multiple keys (implicitly converted to a tuple of keys) will be deprecated, use a list instead.\n",
      "  after removing the cwd from sys.path.\n"
     ]
    }
   ],
   "source": [
    "groups = user_log.groupby(['user_id', 'merchant_id'])\n",
    "temp = groups.size().reset_index().rename(columns={0: 'um1'})\n",
    "matrix = matrix.merge(temp, on=['user_id', 'merchant_id'], how='left')\n",
    "temp = groups['item_id', 'cat_id', 'brand_id'].nunique().reset_index().rename(columns={'item_id': 'um2', 'cat_id': 'um3', 'brand_id': 'um4'})\n",
    "matrix = matrix.merge(temp, on=['user_id', 'merchant_id'], how='left')\n",
    "temp = groups['action_type'].value_counts().unstack().reset_index().rename(columns={0: 'um5', 1: 'um6', 2: 'um7', 3: 'um8'})\n",
    "matrix = matrix.merge(temp, on=['user_id', 'merchant_id'], how='left')\n",
    "temp = groups['time_stamp'].agg([('first', 'min'), ('last', 'max')]).reset_index()\n",
    "temp['um9'] = (temp['last'] - temp['first']).dt.seconds/3600\n",
    "temp.drop(['last', 'first'], axis=1, inplace=True)\n",
    "matrix = matrix.merge(temp, on=['user_id', 'merchant_id'], how='left')"
   ]
  },
  {
   "cell_type": "code",
   "execution_count": 9,
   "metadata": {},
   "outputs": [],
   "source": [
    "matrix['r1'] = matrix['u9'] / matrix['u7']\n",
    "matrix['r2'] = matrix['m8'] / matrix['m6']\n",
    "matrix['r3'] = matrix['um7'] / matrix['um5']\n",
    "matrix.fillna(0, inplace=True)\n",
    "temp = pd.get_dummies(matrix['age_range'], prefix='age')\n",
    "matrix = pd.concat([matrix, temp], axis=1)\n",
    "temp = pd.get_dummies(matrix['gender'], prefix='gen')\n",
    "matrix = pd.concat([matrix, temp], axis=1)\n",
    "matrix.drop(['age_range', 'gender'], axis=1, inplace=True)"
   ]
  },
  {
   "cell_type": "code",
   "execution_count": 10,
   "metadata": {},
   "outputs": [],
   "source": [
    "train_data = matrix[matrix['origin'] == 'train'].drop('origin', axis=1)\n",
    "test = matrix[matrix['origin'] == 'test'].drop(['origin', 'label'], axis=1)\n",
    "x_train, y_train = train_data.drop('label', axis=1), train_data['label']"
   ]
  },
  {
   "cell_type": "code",
   "execution_count": 11,
   "metadata": {},
   "outputs": [
    {
     "name": "stdout",
     "output_type": "stream",
     "text": [
      "Training until validation scores don't improve for 200 rounds\n",
      "[25]\ttraining's auc: 0.656411\tvalid_1's auc: 0.652615\n",
      "[50]\ttraining's auc: 0.65992\tvalid_1's auc: 0.654165\n",
      "[75]\ttraining's auc: 0.664561\tvalid_1's auc: 0.655602\n",
      "[100]\ttraining's auc: 0.66935\tvalid_1's auc: 0.658082\n",
      "[125]\ttraining's auc: 0.67481\tvalid_1's auc: 0.661261\n",
      "[150]\ttraining's auc: 0.678826\tvalid_1's auc: 0.662735\n",
      "[175]\ttraining's auc: 0.681742\tvalid_1's auc: 0.663645\n",
      "[200]\ttraining's auc: 0.68524\tvalid_1's auc: 0.665343\n",
      "[225]\ttraining's auc: 0.689222\tvalid_1's auc: 0.667035\n",
      "[250]\ttraining's auc: 0.693254\tvalid_1's auc: 0.668601\n",
      "[275]\ttraining's auc: 0.696485\tvalid_1's auc: 0.669477\n",
      "[300]\ttraining's auc: 0.699823\tvalid_1's auc: 0.671013\n",
      "[325]\ttraining's auc: 0.702806\tvalid_1's auc: 0.671569\n",
      "[350]\ttraining's auc: 0.705809\tvalid_1's auc: 0.672312\n",
      "[375]\ttraining's auc: 0.708663\tvalid_1's auc: 0.673\n",
      "[400]\ttraining's auc: 0.711499\tvalid_1's auc: 0.673539\n",
      "[425]\ttraining's auc: 0.714093\tvalid_1's auc: 0.67405\n",
      "[450]\ttraining's auc: 0.717215\tvalid_1's auc: 0.67489\n",
      "[475]\ttraining's auc: 0.719378\tvalid_1's auc: 0.675348\n",
      "[500]\ttraining's auc: 0.721635\tvalid_1's auc: 0.675873\n",
      "[525]\ttraining's auc: 0.724102\tvalid_1's auc: 0.676232\n",
      "[550]\ttraining's auc: 0.726806\tvalid_1's auc: 0.676486\n",
      "[575]\ttraining's auc: 0.728786\tvalid_1's auc: 0.676692\n",
      "[600]\ttraining's auc: 0.730923\tvalid_1's auc: 0.676888\n",
      "[625]\ttraining's auc: 0.733319\tvalid_1's auc: 0.677049\n",
      "[650]\ttraining's auc: 0.735114\tvalid_1's auc: 0.67723\n",
      "[675]\ttraining's auc: 0.737418\tvalid_1's auc: 0.67733\n",
      "[700]\ttraining's auc: 0.739746\tvalid_1's auc: 0.677615\n",
      "[725]\ttraining's auc: 0.741607\tvalid_1's auc: 0.6777\n",
      "[750]\ttraining's auc: 0.743548\tvalid_1's auc: 0.677765\n",
      "[775]\ttraining's auc: 0.746005\tvalid_1's auc: 0.678131\n",
      "[800]\ttraining's auc: 0.747648\tvalid_1's auc: 0.678094\n",
      "[825]\ttraining's auc: 0.749442\tvalid_1's auc: 0.67831\n",
      "[850]\ttraining's auc: 0.751385\tvalid_1's auc: 0.678433\n",
      "[875]\ttraining's auc: 0.753612\tvalid_1's auc: 0.678574\n",
      "[900]\ttraining's auc: 0.755468\tvalid_1's auc: 0.678644\n",
      "[925]\ttraining's auc: 0.757095\tvalid_1's auc: 0.678766\n",
      "[950]\ttraining's auc: 0.758476\tvalid_1's auc: 0.678854\n",
      "[975]\ttraining's auc: 0.760259\tvalid_1's auc: 0.678898\n",
      "[1000]\ttraining's auc: 0.762521\tvalid_1's auc: 0.679084\n",
      "[1025]\ttraining's auc: 0.76398\tvalid_1's auc: 0.679146\n",
      "[1050]\ttraining's auc: 0.765427\tvalid_1's auc: 0.67916\n",
      "[1075]\ttraining's auc: 0.767566\tvalid_1's auc: 0.679367\n",
      "[1100]\ttraining's auc: 0.769752\tvalid_1's auc: 0.679405\n",
      "[1125]\ttraining's auc: 0.771159\tvalid_1's auc: 0.679474\n",
      "[1150]\ttraining's auc: 0.77277\tvalid_1's auc: 0.67961\n",
      "[1175]\ttraining's auc: 0.774532\tvalid_1's auc: 0.679683\n",
      "[1200]\ttraining's auc: 0.776371\tvalid_1's auc: 0.679866\n",
      "[1225]\ttraining's auc: 0.778041\tvalid_1's auc: 0.679905\n",
      "[1250]\ttraining's auc: 0.779467\tvalid_1's auc: 0.68003\n",
      "[1275]\ttraining's auc: 0.780916\tvalid_1's auc: 0.680052\n",
      "[1300]\ttraining's auc: 0.782101\tvalid_1's auc: 0.680128\n",
      "[1325]\ttraining's auc: 0.783472\tvalid_1's auc: 0.680215\n",
      "[1350]\ttraining's auc: 0.784982\tvalid_1's auc: 0.680216\n",
      "[1375]\ttraining's auc: 0.786368\tvalid_1's auc: 0.680473\n",
      "[1400]\ttraining's auc: 0.788075\tvalid_1's auc: 0.680634\n",
      "[1425]\ttraining's auc: 0.789671\tvalid_1's auc: 0.680763\n",
      "[1450]\ttraining's auc: 0.791022\tvalid_1's auc: 0.680757\n",
      "[1475]\ttraining's auc: 0.792223\tvalid_1's auc: 0.680843\n",
      "[1500]\ttraining's auc: 0.793709\tvalid_1's auc: 0.680826\n",
      "[1525]\ttraining's auc: 0.795175\tvalid_1's auc: 0.680865\n",
      "[1550]\ttraining's auc: 0.796542\tvalid_1's auc: 0.681026\n",
      "[1575]\ttraining's auc: 0.797971\tvalid_1's auc: 0.681068\n",
      "[1600]\ttraining's auc: 0.799121\tvalid_1's auc: 0.681071\n",
      "[1625]\ttraining's auc: 0.800733\tvalid_1's auc: 0.681096\n",
      "[1650]\ttraining's auc: 0.802093\tvalid_1's auc: 0.681133\n",
      "[1675]\ttraining's auc: 0.803633\tvalid_1's auc: 0.681188\n",
      "[1700]\ttraining's auc: 0.805236\tvalid_1's auc: 0.681156\n",
      "[1725]\ttraining's auc: 0.806227\tvalid_1's auc: 0.681146\n",
      "[1750]\ttraining's auc: 0.807537\tvalid_1's auc: 0.681165\n",
      "[1775]\ttraining's auc: 0.808919\tvalid_1's auc: 0.681226\n",
      "[1800]\ttraining's auc: 0.809883\tvalid_1's auc: 0.681395\n",
      "[1825]\ttraining's auc: 0.811322\tvalid_1's auc: 0.681353\n",
      "[1850]\ttraining's auc: 0.812659\tvalid_1's auc: 0.681294\n",
      "[1875]\ttraining's auc: 0.814321\tvalid_1's auc: 0.681212\n",
      "[1900]\ttraining's auc: 0.815286\tvalid_1's auc: 0.681049\n",
      "[1925]\ttraining's auc: 0.816381\tvalid_1's auc: 0.680887\n",
      "[1950]\ttraining's auc: 0.817175\tvalid_1's auc: 0.68076\n",
      "[1975]\ttraining's auc: 0.818479\tvalid_1's auc: 0.680605\n",
      "[2000]\ttraining's auc: 0.819673\tvalid_1's auc: 0.680593\n",
      "[2025]\ttraining's auc: 0.821279\tvalid_1's auc: 0.680649\n",
      "Early stopping, best iteration is:\n",
      "[1833]\ttraining's auc: 0.811789\tvalid_1's auc: 0.681409\n"
     ]
    }
   ],
   "source": [
    "train_x, vali_x, train_y, vali_y = train_test_split(x_train, y_train, test_size=0.2)\n",
    "params = {'boosting_type': 'gbdt', 'objective': 'binary', 'metric': 'auc', 'learning_rate': 0.01, 'max_depth': 15, 'feature_fraction': 0.8, 'bagging_fraction': 0.9,\n",
    "         'bagging_freq': 8, 'lambda_l1': 0.6, 'lambda_l2': 0}\n",
    "trn_data = lgb.Dataset(train_x, label=train_y)\n",
    "val_data = lgb.Dataset(vali_x, label=vali_y)\n",
    "model = lgb.train(params, trn_data, valid_sets=[trn_data, val_data], num_boost_round=10000, early_stopping_rounds=200, verbose_eval=25)"
   ]
  },
  {
   "cell_type": "code",
   "execution_count": 12,
   "metadata": {},
   "outputs": [],
   "source": [
    "prob = model.predict(test)\n",
    "test_data['prob'] = pd.Series(prob)\n",
    "test_data.drop(['origin'], axis=1, inplace=True)"
   ]
  },
  {
   "cell_type": "code",
   "execution_count": 16,
   "metadata": {},
   "outputs": [],
   "source": [
    "from sklearn.feature_extraction import DictVectorizer\n",
    "import numpy as np\n",
    "import matplotlib.pyplot as plt\n",
    "\n",
    "train_features = train_data.iloc[:, 3:]\n",
    "dvec=DictVectorizer(sparse=True)\n",
    "train_features=dvec.fit_transform(train_features.to_dict(orient='record'))"
   ]
  },
  {
   "cell_type": "code",
   "execution_count": 17,
   "metadata": {},
   "outputs": [],
   "source": [
    "def show_feature_importance(feature_list, feature_importance):\n",
    "\t# 设定阈值\n",
    "\tfi_threshold = 20\n",
    "\t# 重要特征的下标\n",
    "\timportant_idx = np.where(feature_importance > fi_threshold)[0]\n",
    "\t# 特征名称\n",
    "\timportant_features = [feature_list[i] for i in important_idx]\n",
    "\t# 重要特征\n",
    "\tsorted_idx = np.argsort(feature_importance[important_idx])[::-1]\n",
    "\t# 可视化\n",
    "\tpos = np.arange(sorted_idx.shape[0]) + 0.5\n",
    "\tplt.subplot(1, 2, 2)\n",
    "\tplt.title('Feature Importance')\n",
    "\tplt.barh(pos, feature_importance[important_idx][sorted_idx[::-1]], color='r',align='center')\n",
    "\tplt.yticks(pos, [important_features[i] for i in sorted_idx[::-1]])\n",
    "\tplt.xlabel('Relative Importance')\n",
    "\tplt.draw()\n",
    "\tplt.show()"
   ]
  },
  {
   "cell_type": "code",
   "execution_count": 24,
   "metadata": {},
   "outputs": [],
   "source": [
    "feature_importance = coef = model.feature_importance()\n",
    "feature_importance = 100.0 * (feature_importance / feature_importance.max())"
   ]
  },
  {
   "cell_type": "code",
   "execution_count": 25,
   "metadata": {},
   "outputs": [
    {
     "data": {
      "image/png": "[encoded data removed]",
      "text/plain": [
       "<Figure size 432x288 with 1 Axes>"
      ]
     },
     "metadata": {
      "needs_background": "light"
     },
     "output_type": "display_data"
    }
   ],
   "source": [
    "show_feature_importance(dvec.feature_names_, feature_importance)"
   ]
  },
  {
   "cell_type": "code",
   "execution_count": null,
   "metadata": {},
   "outputs": [],
   "source": []
  }
 ],
 "metadata": {
  "kernelspec": {
   "display_name": "Python 3",
   "language": "python",
   "name": "python3"
  },
  "language_info": {
   "codemirror_mode": {
    "name": "ipython",
    "version": 3
   },
   "file_extension": ".py",
   "mimetype": "text/x-python",
   "name": "python",
   "nbconvert_exporter": "python",
   "pygments_lexer": "ipython3",
   "version": "3.7.6"
  }
 },
 "nbformat": 4,
 "nbformat_minor": 4
}
